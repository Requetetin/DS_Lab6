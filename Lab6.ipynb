{
 "cells": [
  {
   "cell_type": "code",
   "execution_count": 51,
   "metadata": {},
   "outputs": [
    {
     "name": "stderr",
     "output_type": "stream",
     "text": [
      "[nltk_data] Downloading package stopwords to\n",
      "[nltk_data]     C:\\Users\\juanp\\AppData\\Roaming\\nltk_data...\n",
      "[nltk_data]   Package stopwords is already up-to-date!\n",
      "[nltk_data] Downloading package punkt to\n",
      "[nltk_data]     C:\\Users\\juanp\\AppData\\Roaming\\nltk_data...\n",
      "[nltk_data]   Package punkt is already up-to-date!\n",
      "[nltk_data] Downloading package names to\n",
      "[nltk_data]     C:\\Users\\juanp\\AppData\\Roaming\\nltk_data...\n",
      "[nltk_data]   Package names is already up-to-date!\n",
      "[nltk_data] Downloading package vader_lexicon to\n",
      "[nltk_data]     C:\\Users\\juanp\\AppData\\Roaming\\nltk_data...\n",
      "[nltk_data]   Package vader_lexicon is already up-to-date!\n"
     ]
    }
   ],
   "source": [
    "import tweepy as tw\n",
    "import pandas as pd\n",
    "import matplotlib.pyplot as plt\n",
    "import seaborn as sns\n",
    "import numpy as np\n",
    "import nltk\n",
    "import re\n",
    "import plotly.express as px\n",
    "\n",
    "from dash import Dash, html, dcc\n",
    "from nltk.corpus import stopwords\n",
    "from nltk.util import ngrams\n",
    "from collections import defaultdict\n",
    "from collections import  Counter\n",
    "from sklearn.feature_extraction.text import CountVectorizer\n",
    "from nltk.sentiment import SentimentIntensityAnalyzer\n",
    "nltk.download(['stopwords', 'punkt', 'names', 'vader_lexicon'] )\n",
    "plt.style.use('ggplot')\n",
    "stop=set(stopwords.words('english'))"
   ]
  },
  {
   "cell_type": "markdown",
   "metadata": {},
   "source": [
    "# Setup"
   ]
  },
  {
   "cell_type": "markdown",
   "metadata": {},
   "source": [
    "## Setup API"
   ]
  },
  {
   "cell_type": "code",
   "execution_count": 52,
   "metadata": {},
   "outputs": [],
   "source": [
    "API_KEY = 'LoiVW76XekU31dGeTzRF3jaRn'\n",
    "API_KEY_SECRET = 'zMI3E52t5DHPvlBEcq033ZcvzSXwudxOZbgWflDXaNiM29gHXG'\n",
    "ACCESS_TOKEN = 'AAAAAAAAAAAAAAAAAAAAALiigwEAAAAAQL5JJp3%2BeOebr2JSQERPsx0D6b0%3Di0YCX9UIE8WQRbnyohpKwy9V4k7XCRrXXT3bfqymxQbxPMv7Tb'"
   ]
  },
  {
   "cell_type": "code",
   "execution_count": 53,
   "metadata": {},
   "outputs": [],
   "source": [
    "auth = tw.OAuthHandler(API_KEY, API_KEY_SECRET)\n",
    "api = tw.API(auth, wait_on_rate_limit=True)"
   ]
  },
  {
   "cell_type": "markdown",
   "metadata": {},
   "source": [
    "## Get Tweets"
   ]
  },
  {
   "cell_type": "code",
   "execution_count": 54,
   "metadata": {},
   "outputs": [],
   "source": [
    "search_query = \"#AppleEvent -filter:retweets\""
   ]
  },
  {
   "cell_type": "code",
   "execution_count": 55,
   "metadata": {},
   "outputs": [
    {
     "name": "stderr",
     "output_type": "stream",
     "text": [
      "Unexpected parameter: since\n",
      "Unexpected parameter: since\n",
      "Unexpected parameter: since\n",
      "Unexpected parameter: since\n",
      "Unexpected parameter: since\n",
      "Unexpected parameter: since\n",
      "Unexpected parameter: since\n",
      "Unexpected parameter: since\n",
      "Unexpected parameter: since\n",
      "Unexpected parameter: since\n",
      "Unexpected parameter: since\n",
      "Unexpected parameter: since\n",
      "Unexpected parameter: since\n",
      "Unexpected parameter: since\n",
      "Unexpected parameter: since\n",
      "Unexpected parameter: since\n",
      "Unexpected parameter: since\n",
      "Unexpected parameter: since\n",
      "Unexpected parameter: since\n",
      "Unexpected parameter: since\n"
     ]
    },
    {
     "name": "stdout",
     "output_type": "stream",
     "text": [
      "Total Tweets fetched: 242\n"
     ]
    }
   ],
   "source": [
    "# get tweets from the API\n",
    "tweets = tw.Cursor(api.search_tweets,\n",
    "              q=search_query,\n",
    "              lang=\"en\",\n",
    "              since=\"2022-09-07\").items(500)\n",
    "# store the API responses in a list\n",
    "tweets_copy = []\n",
    "for tweet in tweets:\n",
    "    tweets_copy.append(tweet)\n",
    "    \n",
    "print(\"Total Tweets fetched:\", len(tweets_copy))"
   ]
  },
  {
   "cell_type": "markdown",
   "metadata": {},
   "source": [
    "## DataFrame"
   ]
  },
  {
   "cell_type": "code",
   "execution_count": 56,
   "metadata": {},
   "outputs": [
    {
     "name": "stderr",
     "output_type": "stream",
     "text": [
      "C:\\Users\\juanp\\AppData\\Local\\Temp\\ipykernel_1944\\1717546899.py:15: FutureWarning:\n",
      "\n",
      "The frame.append method is deprecated and will be removed from pandas in a future version. Use pandas.concat instead.\n",
      "\n"
     ]
    },
    {
     "data": {
      "text/html": [
       "<div>\n",
       "<style scoped>\n",
       "    .dataframe tbody tr th:only-of-type {\n",
       "        vertical-align: middle;\n",
       "    }\n",
       "\n",
       "    .dataframe tbody tr th {\n",
       "        vertical-align: top;\n",
       "    }\n",
       "\n",
       "    .dataframe thead th {\n",
       "        text-align: right;\n",
       "    }\n",
       "</style>\n",
       "<table border=\"1\" class=\"dataframe\">\n",
       "  <thead>\n",
       "    <tr style=\"text-align: right;\">\n",
       "      <th></th>\n",
       "      <th>user_name</th>\n",
       "      <th>user_location</th>\n",
       "      <th>user_description</th>\n",
       "      <th>user_verified</th>\n",
       "      <th>date</th>\n",
       "      <th>text</th>\n",
       "      <th>hashtags</th>\n",
       "      <th>source</th>\n",
       "    </tr>\n",
       "  </thead>\n",
       "  <tbody>\n",
       "    <tr>\n",
       "      <th>0</th>\n",
       "      <td>DropCentr • Video Game Deals • PS5 Xbox Restocks</td>\n",
       "      <td>United States</td>\n",
       "      <td>24/7 Restock Alerts 🚨 #PS5 / #Xbox / #Nintendo...</td>\n",
       "      <td>False</td>\n",
       "      <td>2022-10-17 20:30:04+00:00</td>\n",
       "      <td>🏃‍♂️🏃‍♂️ Airpod Pros $80 off at Target https:/...</td>\n",
       "      <td>[Apple]</td>\n",
       "      <td>TweetDeck</td>\n",
       "    </tr>\n",
       "    <tr>\n",
       "      <th>1</th>\n",
       "      <td>i-phone care</td>\n",
       "      <td>Bengaluru South, India</td>\n",
       "      <td></td>\n",
       "      <td>False</td>\n",
       "      <td>2022-10-17 18:42:56+00:00</td>\n",
       "      <td>MACBOOK A1398 i7. 16gb and 512 gb mint conditi...</td>\n",
       "      <td>[mobilephonerepair, mobilephotography, mobile]</td>\n",
       "      <td>Twitter for Android</td>\n",
       "    </tr>\n",
       "    <tr>\n",
       "      <th>2</th>\n",
       "      <td>i-phone care</td>\n",
       "      <td>Bengaluru South, India</td>\n",
       "      <td></td>\n",
       "      <td>False</td>\n",
       "      <td>2022-10-17 18:41:29+00:00</td>\n",
       "      <td>MACBOOK A1398 i7. 16gb and 512 gb mint conditi...</td>\n",
       "      <td>[mobilephonerepair, mobilephotography, mobile]</td>\n",
       "      <td>Twitter for Android</td>\n",
       "    </tr>\n",
       "    <tr>\n",
       "      <th>3</th>\n",
       "      <td>if Apple then 🇺🇦🏳️‍🌈🏳️‍⚧️🤜🏿🤛🏼🦾🇺🇸🏴‍☠️</td>\n",
       "      <td>USA</td>\n",
       "      <td>An #Apple alumn who loves to speculate, outlan...</td>\n",
       "      <td>False</td>\n",
       "      <td>2022-10-17 16:49:18+00:00</td>\n",
       "      <td>Apple to hold October/November Apple Arcade #A...</td>\n",
       "      <td>[AppleEvent, AAA]</td>\n",
       "      <td>Twitter for iPhone</td>\n",
       "    </tr>\n",
       "    <tr>\n",
       "      <th>4</th>\n",
       "      <td>Goospery</td>\n",
       "      <td></td>\n",
       "      <td>Goospery</td>\n",
       "      <td>False</td>\n",
       "      <td>2022-10-17 15:32:02+00:00</td>\n",
       "      <td>Experience how your iPhone 14 Pro Max transfor...</td>\n",
       "      <td>[iPhone14ProMax, DynamicIsland, AppleEvent, ph...</td>\n",
       "      <td>Buffer</td>\n",
       "    </tr>\n",
       "  </tbody>\n",
       "</table>\n",
       "</div>"
      ],
      "text/plain": [
       "                                          user_name           user_location  \\\n",
       "0  DropCentr • Video Game Deals • PS5 Xbox Restocks           United States   \n",
       "1                                      i-phone care  Bengaluru South, India   \n",
       "2                                      i-phone care  Bengaluru South, India   \n",
       "3              if Apple then 🇺🇦🏳️‍🌈🏳️‍⚧️🤜🏿🤛🏼🦾🇺🇸🏴‍☠️                     USA   \n",
       "4                                          Goospery                           \n",
       "\n",
       "                                    user_description  user_verified  \\\n",
       "0  24/7 Restock Alerts 🚨 #PS5 / #Xbox / #Nintendo...          False   \n",
       "1                                                             False   \n",
       "2                                                             False   \n",
       "3  An #Apple alumn who loves to speculate, outlan...          False   \n",
       "4                                           Goospery          False   \n",
       "\n",
       "                       date  \\\n",
       "0 2022-10-17 20:30:04+00:00   \n",
       "1 2022-10-17 18:42:56+00:00   \n",
       "2 2022-10-17 18:41:29+00:00   \n",
       "3 2022-10-17 16:49:18+00:00   \n",
       "4 2022-10-17 15:32:02+00:00   \n",
       "\n",
       "                                                text  \\\n",
       "0  🏃‍♂️🏃‍♂️ Airpod Pros $80 off at Target https:/...   \n",
       "1  MACBOOK A1398 i7. 16gb and 512 gb mint conditi...   \n",
       "2  MACBOOK A1398 i7. 16gb and 512 gb mint conditi...   \n",
       "3  Apple to hold October/November Apple Arcade #A...   \n",
       "4  Experience how your iPhone 14 Pro Max transfor...   \n",
       "\n",
       "                                            hashtags               source  \n",
       "0                                            [Apple]            TweetDeck  \n",
       "1     [mobilephonerepair, mobilephotography, mobile]  Twitter for Android  \n",
       "2     [mobilephonerepair, mobilephotography, mobile]  Twitter for Android  \n",
       "3                                  [AppleEvent, AAA]   Twitter for iPhone  \n",
       "4  [iPhone14ProMax, DynamicIsland, AppleEvent, ph...               Buffer  "
      ]
     },
     "execution_count": 56,
     "metadata": {},
     "output_type": "execute_result"
    }
   ],
   "source": [
    "import pandas as pd\n",
    "\n",
    "# intialize the dataframe\n",
    "tweets_df = pd.DataFrame()\n",
    "\n",
    "# populate the dataframe\n",
    "for tweet in tweets_copy:\n",
    "    hashtags = []\n",
    "    try:\n",
    "        for hashtag in tweet.entities[\"hashtags\"]:\n",
    "            hashtags.append(hashtag[\"text\"])\n",
    "        text = api.get_status(id=tweet.id, tweet_mode='extended').full_text\n",
    "    except:\n",
    "        pass\n",
    "    tweets_df = tweets_df.append(pd.DataFrame({'user_name': tweet.user.name, \n",
    "                                               'user_location': tweet.user.location,\\\n",
    "                                               'user_description': tweet.user.description,\n",
    "                                               'user_verified': tweet.user.verified,\n",
    "                                               'date': tweet.created_at,\n",
    "                                               'text': text, \n",
    "                                               'hashtags': [hashtags if hashtags else None],\n",
    "                                               'source': tweet.source}))\n",
    "    tweets_df = tweets_df.reset_index(drop=True)\n",
    "\n",
    "# show the dataframe\n",
    "tweets_df.head()"
   ]
  },
  {
   "cell_type": "code",
   "execution_count": 57,
   "metadata": {},
   "outputs": [
    {
     "data": {
      "text/plain": [
       "(242, 8)"
      ]
     },
     "execution_count": 57,
     "metadata": {},
     "output_type": "execute_result"
    }
   ],
   "source": [
    "tweets_df.shape"
   ]
  },
  {
   "cell_type": "markdown",
   "metadata": {},
   "source": [
    "# Analisis Exploratorio (pre-limpieza)"
   ]
  },
  {
   "cell_type": "markdown",
   "metadata": {},
   "source": [
    "### Cantidad de caracteres en el tweet"
   ]
  },
  {
   "cell_type": "code",
   "execution_count": 58,
   "metadata": {},
   "outputs": [
    {
     "data": {
      "image/png": "[encoded data removed]",
      "text/plain": [
       "<Figure size 432x288 with 1 Axes>"
      ]
     },
     "metadata": {},
     "output_type": "display_data"
    }
   ],
   "source": [
    "tweet_length = tweets_df['text'].str.len()\n",
    "plt.hist(tweet_length)\n",
    "plt.title('Cantidad de caracteres del tweet')\n",
    "plt.show()"
   ]
  },
  {
   "cell_type": "markdown",
   "metadata": {},
   "source": [
    "### Cantidad de palabras en el tweet"
   ]
  },
  {
   "cell_type": "code",
   "execution_count": 59,
   "metadata": {},
   "outputs": [
    {
     "data": {
      "image/png": "[encoded data removed]",
      "text/plain": [
       "<Figure size 432x288 with 1 Axes>"
      ]
     },
     "metadata": {},
     "output_type": "display_data"
    }
   ],
   "source": [
    "tweet_length = tweets_df['text'].str.split().map(lambda x: len(x))\n",
    "plt.hist(tweet_length)\n",
    "plt.title('Cantidad de palabras del tweet')\n",
    "plt.show()"
   ]
  },
  {
   "cell_type": "markdown",
   "metadata": {},
   "source": [
    "### Promedio de longitud de las palabras"
   ]
  },
  {
   "cell_type": "code",
   "execution_count": 60,
   "metadata": {},
   "outputs": [
    {
     "name": "stderr",
     "output_type": "stream",
     "text": [
      "c:\\Users\\juanp\\AppData\\Local\\Programs\\Python\\Python310\\lib\\site-packages\\seaborn\\distributions.py:2619: FutureWarning:\n",
      "\n",
      "`distplot` is a deprecated function and will be removed in a future version. Please adapt your code to use either `displot` (a figure-level function with similar flexibility) or `histplot` (an axes-level function for histograms).\n",
      "\n"
     ]
    },
    {
     "data": {
      "text/plain": [
       "<AxesSubplot:xlabel='text', ylabel='Density'>"
      ]
     },
     "execution_count": 60,
     "metadata": {},
     "output_type": "execute_result"
    },
    {
     "data": {
      "image/png": "[encoded data removed]",
      "text/plain": [
       "<Figure size 432x288 with 1 Axes>"
      ]
     },
     "metadata": {},
     "output_type": "display_data"
    }
   ],
   "source": [
    "word=tweets_df['text'].str.split().apply(lambda x : [len(i) for i in x])\n",
    "sns.distplot(word.map(lambda x: np.mean(x)))"
   ]
  },
  {
   "cell_type": "code",
   "execution_count": 61,
   "metadata": {},
   "outputs": [],
   "source": [
    "def create_corpus(target):\n",
    "    corpus=[]\n",
    "    \n",
    "    for x in tweets_df['text'].str.split():\n",
    "        for i in x:\n",
    "            corpus.append(i)\n",
    "    return corpus"
   ]
  },
  {
   "cell_type": "markdown",
   "metadata": {},
   "source": [
    "### Stopwords"
   ]
  },
  {
   "cell_type": "code",
   "execution_count": 62,
   "metadata": {},
   "outputs": [],
   "source": [
    "corpus=create_corpus(0)\n",
    "\n",
    "dic=defaultdict(int)\n",
    "for word in corpus:\n",
    "    if word in stop:\n",
    "        dic[word]+=1\n",
    "        \n",
    "top=sorted(dic.items(), key=lambda x:x[1],reverse=True)[:10] "
   ]
  },
  {
   "cell_type": "code",
   "execution_count": 63,
   "metadata": {},
   "outputs": [
    {
     "data": {
      "text/plain": [
       "<BarContainer object of 10 artists>"
      ]
     },
     "execution_count": 63,
     "metadata": {},
     "output_type": "execute_result"
    },
    {
     "data": {
      "image/png": "[encoded data removed]",
      "text/plain": [
       "<Figure size 432x288 with 1 Axes>"
      ]
     },
     "metadata": {},
     "output_type": "display_data"
    }
   ],
   "source": [
    "x,y=zip(*top)\n",
    "plt.bar(x,y)"
   ]
  },
  {
   "cell_type": "markdown",
   "metadata": {},
   "source": [
    "### Puntuacion"
   ]
  },
  {
   "cell_type": "code",
   "execution_count": 64,
   "metadata": {},
   "outputs": [
    {
     "data": {
      "text/plain": [
       "<Figure size 720x360 with 0 Axes>"
      ]
     },
     "metadata": {},
     "output_type": "display_data"
    }
   ],
   "source": [
    "plt.figure(figsize=(10,5))\n",
    "corpus=create_corpus(1)\n",
    "\n",
    "dic=defaultdict(int)\n",
    "import string\n",
    "special = string.punctuation\n",
    "for i in (corpus):\n",
    "    if i in special:\n",
    "        dic[i]+=1"
   ]
  },
  {
   "cell_type": "code",
   "execution_count": 65,
   "metadata": {},
   "outputs": [
    {
     "data": {
      "text/plain": [
       "<BarContainer object of 7 artists>"
      ]
     },
     "execution_count": 65,
     "metadata": {},
     "output_type": "execute_result"
    },
    {
     "data": {
      "image/png": "[encoded data removed]",
      "text/plain": [
       "<Figure size 432x288 with 1 Axes>"
      ]
     },
     "metadata": {},
     "output_type": "display_data"
    }
   ],
   "source": [
    "x,y=zip(*dic.items())\n",
    "plt.bar(x,y)"
   ]
  },
  {
   "cell_type": "markdown",
   "metadata": {},
   "source": [
    "### Palabras comunes"
   ]
  },
  {
   "cell_type": "code",
   "execution_count": 66,
   "metadata": {},
   "outputs": [
    {
     "data": {
      "text/plain": [
       "<AxesSubplot:>"
      ]
     },
     "execution_count": 66,
     "metadata": {},
     "output_type": "execute_result"
    },
    {
     "name": "stderr",
     "output_type": "stream",
     "text": [
      "c:\\Users\\juanp\\AppData\\Local\\Programs\\Python\\Python310\\lib\\site-packages\\IPython\\core\\events.py:89: UserWarning:\n",
      "\n",
      "Glyph 128138 (\\N{PILL}) missing from current font.\n",
      "\n",
      "c:\\Users\\juanp\\AppData\\Local\\Programs\\Python\\Python310\\lib\\site-packages\\IPython\\core\\events.py:89: UserWarning:\n",
      "\n",
      "Glyph 128064 (\\N{EYES}) missing from current font.\n",
      "\n",
      "c:\\Users\\juanp\\AppData\\Local\\Programs\\Python\\Python310\\lib\\site-packages\\IPython\\core\\events.py:89: UserWarning:\n",
      "\n",
      "Glyph 127819 (\\N{LEMON}) missing from current font.\n",
      "\n",
      "c:\\Users\\juanp\\AppData\\Local\\Programs\\Python\\Python310\\lib\\site-packages\\IPython\\core\\pylabtools.py:151: UserWarning:\n",
      "\n",
      "Glyph 128138 (\\N{PILL}) missing from current font.\n",
      "\n",
      "c:\\Users\\juanp\\AppData\\Local\\Programs\\Python\\Python310\\lib\\site-packages\\IPython\\core\\pylabtools.py:151: UserWarning:\n",
      "\n",
      "Glyph 128064 (\\N{EYES}) missing from current font.\n",
      "\n",
      "c:\\Users\\juanp\\AppData\\Local\\Programs\\Python\\Python310\\lib\\site-packages\\IPython\\core\\pylabtools.py:151: UserWarning:\n",
      "\n",
      "Glyph 127819 (\\N{LEMON}) missing from current font.\n",
      "\n"
     ]
    },
    {
     "data": {
      "image/png": "[encoded data removed]",
      "text/plain": [
       "<Figure size 432x288 with 1 Axes>"
      ]
     },
     "metadata": {},
     "output_type": "display_data"
    }
   ],
   "source": [
    "counter=Counter(corpus)\n",
    "most=counter.most_common()\n",
    "x=[]\n",
    "y=[]\n",
    "for word,count in most[:40]:\n",
    "    if (word not in stop) :\n",
    "        x.append(word)\n",
    "        y.append(count)\n",
    "\n",
    "sns.barplot(x=y,y=x)"
   ]
  },
  {
   "cell_type": "markdown",
   "metadata": {},
   "source": [
    "### Analisis ngramas"
   ]
  },
  {
   "cell_type": "markdown",
   "metadata": {},
   "source": [
    "#### Bigrama"
   ]
  },
  {
   "cell_type": "code",
   "execution_count": 67,
   "metadata": {},
   "outputs": [],
   "source": [
    "def get_top_tweet_bigrams(corpus, n=None):\n",
    "    vec = CountVectorizer(ngram_range=(2, 2)).fit(corpus)\n",
    "    bag_of_words = vec.transform(corpus)\n",
    "    sum_words = bag_of_words.sum(axis=0) \n",
    "    words_freq = [(word, sum_words[0, idx]) for word, idx in vec.vocabulary_.items()]\n",
    "    words_freq =sorted(words_freq, key = lambda x: x[1], reverse=True)\n",
    "    return words_freq[:n]"
   ]
  },
  {
   "cell_type": "code",
   "execution_count": 68,
   "metadata": {},
   "outputs": [
    {
     "data": {
      "text/plain": [
       "<AxesSubplot:>"
      ]
     },
     "execution_count": 68,
     "metadata": {},
     "output_type": "execute_result"
    },
    {
     "data": {
      "image/png": "[encoded data removed]",
      "text/plain": [
       "<Figure size 720x360 with 1 Axes>"
      ]
     },
     "metadata": {},
     "output_type": "display_data"
    }
   ],
   "source": [
    "plt.figure(figsize=(10,5))\n",
    "top_tweet_bigrams=get_top_tweet_bigrams(tweets_df['text'])[:10]\n",
    "x,y=map(list,zip(*top_tweet_bigrams))\n",
    "sns.barplot(x=y,y=x)"
   ]
  },
  {
   "cell_type": "markdown",
   "metadata": {},
   "source": [
    "### Trigrama"
   ]
  },
  {
   "cell_type": "code",
   "execution_count": 69,
   "metadata": {},
   "outputs": [],
   "source": [
    "def get_top_tweet_trigrams(corpus, n=None):\n",
    "    vec = CountVectorizer(ngram_range=(3, 3)).fit(corpus)\n",
    "    bag_of_words = vec.transform(corpus)\n",
    "    sum_words = bag_of_words.sum(axis=0) \n",
    "    words_freq = [(word, sum_words[0, idx]) for word, idx in vec.vocabulary_.items()]\n",
    "    words_freq =sorted(words_freq, key = lambda x: x[1], reverse=True)\n",
    "    return words_freq[:n]"
   ]
  },
  {
   "cell_type": "code",
   "execution_count": 70,
   "metadata": {},
   "outputs": [
    {
     "data": {
      "text/plain": [
       "<AxesSubplot:>"
      ]
     },
     "execution_count": 70,
     "metadata": {},
     "output_type": "execute_result"
    },
    {
     "data": {
      "image/png": "[encoded data removed]",
      "text/plain": [
       "<Figure size 720x360 with 1 Axes>"
      ]
     },
     "metadata": {},
     "output_type": "display_data"
    }
   ],
   "source": [
    "plt.figure(figsize=(10,5))\n",
    "top_tweet_trigrams=get_top_tweet_trigrams(tweets_df['text'])[:10]\n",
    "x,y=map(list,zip(*top_tweet_trigrams))\n",
    "sns.barplot(x=y,y=x)"
   ]
  },
  {
   "cell_type": "markdown",
   "metadata": {},
   "source": [
    "# Limpieza de los datos"
   ]
  },
  {
   "cell_type": "markdown",
   "metadata": {},
   "source": [
    "### Quitar URLs"
   ]
  },
  {
   "cell_type": "code",
   "execution_count": 71,
   "metadata": {},
   "outputs": [],
   "source": [
    "def remove_URL(text):\n",
    "  url = re.compile(r'https?://\\S+|www\\.\\S+')\n",
    "  return url.sub(r'', text)"
   ]
  },
  {
   "cell_type": "code",
   "execution_count": 72,
   "metadata": {},
   "outputs": [],
   "source": [
    "tweets_df['text'] = tweets_df['text'].apply(lambda x : remove_URL(x))"
   ]
  },
  {
   "cell_type": "markdown",
   "metadata": {},
   "source": [
    "### Quitar tags HTML"
   ]
  },
  {
   "cell_type": "code",
   "execution_count": 73,
   "metadata": {},
   "outputs": [],
   "source": [
    "def remove_HTML(text):\n",
    "  html = re.compile(r'<.*?>')\n",
    "  return html.sub(r'', text)"
   ]
  },
  {
   "cell_type": "code",
   "execution_count": 74,
   "metadata": {},
   "outputs": [],
   "source": [
    "tweets_df['text'] = tweets_df['text'].apply(lambda x : remove_HTML(x))"
   ]
  },
  {
   "cell_type": "markdown",
   "metadata": {},
   "source": [
    "### Quitar emojis"
   ]
  },
  {
   "cell_type": "code",
   "execution_count": 75,
   "metadata": {},
   "outputs": [],
   "source": [
    "def remove_emoji(text):\n",
    "    emoji_pattern = re.compile(\"[\"\n",
    "                           u\"\\U0001F600-\\U0001F64F\"  # emoticons\n",
    "                           u\"\\U0001F300-\\U0001F5FF\"  # symbols & pictographs\n",
    "                           u\"\\U0001F680-\\U0001F6FF\"  # transport & map symbols\n",
    "                           u\"\\U0001F1E0-\\U0001F1FF\"  # flags (iOS)\n",
    "                           u\"\\U00002702-\\U000027B0\"\n",
    "                           u\"\\U000024C2-\\U0001F251\"\n",
    "                           \"]+\", flags=re.UNICODE)\n",
    "    return emoji_pattern.sub(r'', text)"
   ]
  },
  {
   "cell_type": "code",
   "execution_count": 76,
   "metadata": {},
   "outputs": [],
   "source": [
    "tweets_df['text'] = tweets_df['text'].apply(lambda x : remove_emoji(x))"
   ]
  },
  {
   "cell_type": "markdown",
   "metadata": {},
   "source": [
    "### Quitar puntuacion"
   ]
  },
  {
   "cell_type": "code",
   "execution_count": 77,
   "metadata": {},
   "outputs": [],
   "source": [
    "def remove_point(text):\n",
    "  table = str.maketrans('', '', string.punctuation)\n",
    "  return text.translate(table)"
   ]
  },
  {
   "cell_type": "code",
   "execution_count": 78,
   "metadata": {},
   "outputs": [],
   "source": [
    "tweets_df['text'] = tweets_df['text'].apply(lambda x : remove_point(x))"
   ]
  },
  {
   "cell_type": "markdown",
   "metadata": {},
   "source": [
    "## Quitar duplicados "
   ]
  },
  {
   "cell_type": "code",
   "execution_count": 79,
   "metadata": {},
   "outputs": [
    {
     "name": "stdout",
     "output_type": "stream",
     "text": [
      "len 1 242\n",
      "len 2 197\n"
     ]
    }
   ],
   "source": [
    "print('len 1', len(tweets_df))\n",
    "tweets_df.drop_duplicates(subset=['text', 'user_name'], inplace=True)\n",
    "print('len 2', len(tweets_df))"
   ]
  },
  {
   "cell_type": "markdown",
   "metadata": {},
   "source": [
    "# Analisis post limpieza"
   ]
  },
  {
   "cell_type": "markdown",
   "metadata": {},
   "source": [
    "### Caracteres"
   ]
  },
  {
   "cell_type": "code",
   "execution_count": 80,
   "metadata": {},
   "outputs": [
    {
     "data": {
      "image/png": "[encoded data removed]",
      "text/plain": [
       "<Figure size 432x288 with 1 Axes>"
      ]
     },
     "metadata": {},
     "output_type": "display_data"
    }
   ],
   "source": [
    "tweet_length = tweets_df['text'].str.len()\n",
    "plt.hist(tweet_length)\n",
    "plt.title('Cantidad de caracteres del tweet')\n",
    "plt.show()"
   ]
  },
  {
   "cell_type": "markdown",
   "metadata": {},
   "source": [
    "### Palabras"
   ]
  },
  {
   "cell_type": "code",
   "execution_count": 81,
   "metadata": {},
   "outputs": [
    {
     "data": {
      "image/png": "[encoded data removed]",
      "text/plain": [
       "<Figure size 432x288 with 1 Axes>"
      ]
     },
     "metadata": {},
     "output_type": "display_data"
    }
   ],
   "source": [
    "tweet_length = tweets_df['text'].str.split().map(lambda x: len(x))\n",
    "plt.hist(tweet_length)\n",
    "plt.title('Cantidad de palabras del tweet')\n",
    "plt.show()"
   ]
  },
  {
   "cell_type": "markdown",
   "metadata": {},
   "source": [
    "### Promedio longitud"
   ]
  },
  {
   "cell_type": "code",
   "execution_count": 82,
   "metadata": {},
   "outputs": [
    {
     "name": "stderr",
     "output_type": "stream",
     "text": [
      "c:\\Users\\juanp\\AppData\\Local\\Programs\\Python\\Python310\\lib\\site-packages\\seaborn\\distributions.py:2619: FutureWarning:\n",
      "\n",
      "`distplot` is a deprecated function and will be removed in a future version. Please adapt your code to use either `displot` (a figure-level function with similar flexibility) or `histplot` (an axes-level function for histograms).\n",
      "\n"
     ]
    },
    {
     "data": {
      "text/plain": [
       "<AxesSubplot:xlabel='text', ylabel='Density'>"
      ]
     },
     "execution_count": 82,
     "metadata": {},
     "output_type": "execute_result"
    },
    {
     "data": {
      "image/png": "[encoded data removed]",
      "text/plain": [
       "<Figure size 432x288 with 1 Axes>"
      ]
     },
     "metadata": {},
     "output_type": "display_data"
    }
   ],
   "source": [
    "word=tweets_df['text'].str.split().apply(lambda x : [len(i) for i in x])\n",
    "sns.distplot(word.map(lambda x: np.mean(x)))"
   ]
  },
  {
   "cell_type": "markdown",
   "metadata": {},
   "source": [
    "### Palabras comunes"
   ]
  },
  {
   "cell_type": "code",
   "execution_count": 83,
   "metadata": {},
   "outputs": [
    {
     "data": {
      "text/plain": [
       "<AxesSubplot:>"
      ]
     },
     "execution_count": 83,
     "metadata": {},
     "output_type": "execute_result"
    },
    {
     "name": "stderr",
     "output_type": "stream",
     "text": [
      "c:\\Users\\juanp\\AppData\\Local\\Programs\\Python\\Python310\\lib\\site-packages\\IPython\\core\\events.py:89: UserWarning:\n",
      "\n",
      "Glyph 128138 (\\N{PILL}) missing from current font.\n",
      "\n",
      "c:\\Users\\juanp\\AppData\\Local\\Programs\\Python\\Python310\\lib\\site-packages\\IPython\\core\\events.py:89: UserWarning:\n",
      "\n",
      "Glyph 128064 (\\N{EYES}) missing from current font.\n",
      "\n",
      "c:\\Users\\juanp\\AppData\\Local\\Programs\\Python\\Python310\\lib\\site-packages\\IPython\\core\\events.py:89: UserWarning:\n",
      "\n",
      "Glyph 127819 (\\N{LEMON}) missing from current font.\n",
      "\n",
      "c:\\Users\\juanp\\AppData\\Local\\Programs\\Python\\Python310\\lib\\site-packages\\IPython\\core\\pylabtools.py:151: UserWarning:\n",
      "\n",
      "Glyph 128138 (\\N{PILL}) missing from current font.\n",
      "\n",
      "c:\\Users\\juanp\\AppData\\Local\\Programs\\Python\\Python310\\lib\\site-packages\\IPython\\core\\pylabtools.py:151: UserWarning:\n",
      "\n",
      "Glyph 128064 (\\N{EYES}) missing from current font.\n",
      "\n",
      "c:\\Users\\juanp\\AppData\\Local\\Programs\\Python\\Python310\\lib\\site-packages\\IPython\\core\\pylabtools.py:151: UserWarning:\n",
      "\n",
      "Glyph 127819 (\\N{LEMON}) missing from current font.\n",
      "\n"
     ]
    },
    {
     "data": {
      "image/png": "[encoded data removed]",
      "text/plain": [
       "<Figure size 432x288 with 1 Axes>"
      ]
     },
     "metadata": {},
     "output_type": "display_data"
    }
   ],
   "source": [
    "counter=Counter(corpus)\n",
    "most=counter.most_common()\n",
    "x=[]\n",
    "y=[]\n",
    "for word,count in most[:40]:\n",
    "    if (word not in stop) :\n",
    "        x.append(word)\n",
    "        y.append(count)\n",
    "\n",
    "sns.barplot(x=y,y=x)"
   ]
  },
  {
   "cell_type": "markdown",
   "metadata": {},
   "source": [
    "### Analisis ngramas"
   ]
  },
  {
   "cell_type": "markdown",
   "metadata": {},
   "source": [
    "#### Bigrama"
   ]
  },
  {
   "cell_type": "code",
   "execution_count": 84,
   "metadata": {},
   "outputs": [],
   "source": [
    "def get_top_tweet_bigrams(corpus, n=None):\n",
    "    vec = CountVectorizer(ngram_range=(2, 2)).fit(corpus)\n",
    "    bag_of_words = vec.transform(corpus)\n",
    "    sum_words = bag_of_words.sum(axis=0) \n",
    "    words_freq = [(word, sum_words[0, idx]) for word, idx in vec.vocabulary_.items()]\n",
    "    words_freq =sorted(words_freq, key = lambda x: x[1], reverse=True)\n",
    "    return words_freq[:n]"
   ]
  },
  {
   "cell_type": "code",
   "execution_count": 85,
   "metadata": {},
   "outputs": [
    {
     "data": {
      "text/plain": [
       "<AxesSubplot:>"
      ]
     },
     "execution_count": 85,
     "metadata": {},
     "output_type": "execute_result"
    },
    {
     "data": {
      "image/png": "[encoded data removed]",
      "text/plain": [
       "<Figure size 720x360 with 1 Axes>"
      ]
     },
     "metadata": {},
     "output_type": "display_data"
    }
   ],
   "source": [
    "plt.figure(figsize=(10,5))\n",
    "top_tweet_bigrams=get_top_tweet_bigrams(tweets_df['text'])[:10]\n",
    "x,y=map(list,zip(*top_tweet_bigrams))\n",
    "sns.barplot(x=y,y=x)"
   ]
  },
  {
   "cell_type": "markdown",
   "metadata": {},
   "source": [
    "#### Trigrama"
   ]
  },
  {
   "cell_type": "code",
   "execution_count": 86,
   "metadata": {},
   "outputs": [],
   "source": [
    "def get_top_tweet_trigrams(corpus, n=None):\n",
    "    vec = CountVectorizer(ngram_range=(3, 3)).fit(corpus)\n",
    "    bag_of_words = vec.transform(corpus)\n",
    "    sum_words = bag_of_words.sum(axis=0) \n",
    "    words_freq = [(word, sum_words[0, idx]) for word, idx in vec.vocabulary_.items()]\n",
    "    words_freq =sorted(words_freq, key = lambda x: x[1], reverse=True)\n",
    "    return words_freq[:n]"
   ]
  },
  {
   "cell_type": "code",
   "execution_count": 87,
   "metadata": {},
   "outputs": [
    {
     "data": {
      "text/plain": [
       "<AxesSubplot:>"
      ]
     },
     "execution_count": 87,
     "metadata": {},
     "output_type": "execute_result"
    },
    {
     "data": {
      "image/png": "[encoded data removed]",
      "text/plain": [
       "<Figure size 720x360 with 1 Axes>"
      ]
     },
     "metadata": {},
     "output_type": "display_data"
    }
   ],
   "source": [
    "plt.figure(figsize=(10,5))\n",
    "top_tweet_trigrams=get_top_tweet_trigrams(tweets_df['text'])[:10]\n",
    "x,y=map(list,zip(*top_tweet_trigrams))\n",
    "sns.barplot(x=y,y=x)"
   ]
  },
  {
   "cell_type": "markdown",
   "metadata": {},
   "source": [
    "## Analisis sentimientos"
   ]
  },
  {
   "cell_type": "code",
   "execution_count": 88,
   "metadata": {},
   "outputs": [],
   "source": [
    "sia = SentimentIntensityAnalyzer()"
   ]
  },
  {
   "cell_type": "markdown",
   "metadata": {},
   "source": [
    "### Determinacion de valores de positividad, neutralidad, y negatividad"
   ]
  },
  {
   "cell_type": "code",
   "execution_count": 89,
   "metadata": {},
   "outputs": [],
   "source": [
    "def getScoreText(text):\n",
    "    scoreObject = sia.polarity_scores(text)\n",
    "    score = scoreObject['compound']\n",
    "    return score"
   ]
  },
  {
   "cell_type": "code",
   "execution_count": 90,
   "metadata": {},
   "outputs": [],
   "source": [
    "tweets_df['score'] = tweets_df['text'].apply(lambda x : getScoreText(x))"
   ]
  },
  {
   "cell_type": "markdown",
   "metadata": {},
   "source": [
    "### Determinacion de polaridad de acuerdo a los valores"
   ]
  },
  {
   "cell_type": "code",
   "execution_count": 91,
   "metadata": {},
   "outputs": [],
   "source": [
    "#rangos de score\n",
    "def setPolarity(score):\n",
    "    if score < -0.33:\n",
    "        return 'negative'\n",
    "    elif score > 0.33:\n",
    "        return 'positive'\n",
    "    else:\n",
    "        return 'neutral'"
   ]
  },
  {
   "cell_type": "code",
   "execution_count": 92,
   "metadata": {},
   "outputs": [],
   "source": [
    "tweets_df['polarity'] = tweets_df['score'].apply(lambda x : setPolarity(x))"
   ]
  },
  {
   "cell_type": "markdown",
   "metadata": {},
   "source": [
    "### Tweets mas positivos y negativos"
   ]
  },
  {
   "cell_type": "markdown",
   "metadata": {},
   "source": [
    "#### 10 mas negativos"
   ]
  },
  {
   "cell_type": "code",
   "execution_count": 93,
   "metadata": {},
   "outputs": [
    {
     "data": {
      "text/html": [
       "<div>\n",
       "<style scoped>\n",
       "    .dataframe tbody tr th:only-of-type {\n",
       "        vertical-align: middle;\n",
       "    }\n",
       "\n",
       "    .dataframe tbody tr th {\n",
       "        vertical-align: top;\n",
       "    }\n",
       "\n",
       "    .dataframe thead th {\n",
       "        text-align: right;\n",
       "    }\n",
       "</style>\n",
       "<table border=\"1\" class=\"dataframe\">\n",
       "  <thead>\n",
       "    <tr style=\"text-align: right;\">\n",
       "      <th></th>\n",
       "      <th>user_name</th>\n",
       "      <th>user_location</th>\n",
       "      <th>user_description</th>\n",
       "      <th>user_verified</th>\n",
       "      <th>date</th>\n",
       "      <th>text</th>\n",
       "      <th>hashtags</th>\n",
       "      <th>source</th>\n",
       "      <th>score</th>\n",
       "      <th>polarity</th>\n",
       "    </tr>\n",
       "  </thead>\n",
       "  <tbody>\n",
       "    <tr>\n",
       "      <th>124</th>\n",
       "      <td>Vj***</td>\n",
       "      <td>India</td>\n",
       "      <td>Ship will be safe @ Harbour!! But that's not t...</td>\n",
       "      <td>False</td>\n",
       "      <td>2022-10-12 15:05:36+00:00</td>\n",
       "      <td>MR L O N E L Y   \\n\\niphone14promax applewatch...</td>\n",
       "      <td>[iphone14promax, applewatchultra, airpodspro2,...</td>\n",
       "      <td>Instagram</td>\n",
       "      <td>-0.8957</td>\n",
       "      <td>negative</td>\n",
       "    </tr>\n",
       "    <tr>\n",
       "      <th>19</th>\n",
       "      <td>H’B 🎙🎶</td>\n",
       "      <td>Nigeria</td>\n",
       "      <td>Life of an entertainer 🥰. H’B</td>\n",
       "      <td>False</td>\n",
       "      <td>2022-10-16 20:45:55+00:00</td>\n",
       "      <td>I wan post one mad art but I know say some peo...</td>\n",
       "      <td>None</td>\n",
       "      <td>Twitter for iPhone</td>\n",
       "      <td>-0.8481</td>\n",
       "      <td>negative</td>\n",
       "    </tr>\n",
       "    <tr>\n",
       "      <th>206</th>\n",
       "      <td>Volodymyr 🇺🇦</td>\n",
       "      <td>Україна</td>\n",
       "      <td>Ukrainian designer | 3D Product Visualisation ...</td>\n",
       "      <td>False</td>\n",
       "      <td>2022-10-10 11:28:52+00:00</td>\n",
       "      <td>Theall new iPad 10gen starting at 399\\n A15\\n ...</td>\n",
       "      <td>None</td>\n",
       "      <td>Twitter Web App</td>\n",
       "      <td>-0.6523</td>\n",
       "      <td>negative</td>\n",
       "    </tr>\n",
       "    <tr>\n",
       "      <th>69</th>\n",
       "      <td>Learny Land</td>\n",
       "      <td>Barcelona</td>\n",
       "      <td>Where Curiosity Grows 🚀\\nWe develop educationa...</td>\n",
       "      <td>False</td>\n",
       "      <td>2022-10-14 11:55:57+00:00</td>\n",
       "      <td>Looking forward to Halloween \\n\\nDont wait any...</td>\n",
       "      <td>[Halloween]</td>\n",
       "      <td>Twitter Web App</td>\n",
       "      <td>-0.6317</td>\n",
       "      <td>negative</td>\n",
       "    </tr>\n",
       "    <tr>\n",
       "      <th>190</th>\n",
       "      <td>Ade-Akanfe 🎤💻📱</td>\n",
       "      <td>Lagos, Nigeria</td>\n",
       "      <td>Christian || Gospel Entertainment 🎤 || UI Desi...</td>\n",
       "      <td>False</td>\n",
       "      <td>2022-10-10 18:42:58+00:00</td>\n",
       "      <td>Ikeja… Awolowo Way 0500pm\\nShot and edited wit...</td>\n",
       "      <td>[UkraineRussianWar, jendragonisreal, depression]</td>\n",
       "      <td>Twitter for iPhone</td>\n",
       "      <td>-0.5719</td>\n",
       "      <td>negative</td>\n",
       "    </tr>\n",
       "    <tr>\n",
       "      <th>204</th>\n",
       "      <td>First India</td>\n",
       "      <td>Jaipur, India</td>\n",
       "      <td>Welcome to the Official Twitter page of First ...</td>\n",
       "      <td>False</td>\n",
       "      <td>2022-10-10 12:15:40+00:00</td>\n",
       "      <td>Tech giant Apple is likely planning to mark th...</td>\n",
       "      <td>None</td>\n",
       "      <td>Twitter Web App</td>\n",
       "      <td>-0.5267</td>\n",
       "      <td>negative</td>\n",
       "    </tr>\n",
       "    <tr>\n",
       "      <th>126</th>\n",
       "      <td>Khankhalil</td>\n",
       "      <td>پاکستان</td>\n",
       "      <td>KP IPR INFLUENCER</td>\n",
       "      <td>False</td>\n",
       "      <td>2022-10-12 14:27:21+00:00</td>\n",
       "      <td>Prices of LNG Sky Rocketing  \\n\\nGovernment Di...</td>\n",
       "      <td>None</td>\n",
       "      <td>Twitter for iPhone</td>\n",
       "      <td>-0.4939</td>\n",
       "      <td>negative</td>\n",
       "    </tr>\n",
       "    <tr>\n",
       "      <th>211</th>\n",
       "      <td>Craig</td>\n",
       "      <td></td>\n",
       "      <td>apple's favorite pasta</td>\n",
       "      <td>False</td>\n",
       "      <td>2022-10-10 07:13:03+00:00</td>\n",
       "      <td>Its unfair we only saw Craig once in an AppleE...</td>\n",
       "      <td>[AppleEvent]</td>\n",
       "      <td>Twitter for iPhone</td>\n",
       "      <td>-0.4767</td>\n",
       "      <td>negative</td>\n",
       "    </tr>\n",
       "    <tr>\n",
       "      <th>45</th>\n",
       "      <td>Pravin</td>\n",
       "      <td>சிங்கார சென்னை✨</td>\n",
       "      <td>Chasing and searching something to stick into ...</td>\n",
       "      <td>False</td>\n",
       "      <td>2022-10-15 18:50:49+00:00</td>\n",
       "      <td>appltrack markgurman If there is iOS 16 on you...</td>\n",
       "      <td>None</td>\n",
       "      <td>Twitter for iPhone</td>\n",
       "      <td>-0.4449</td>\n",
       "      <td>negative</td>\n",
       "    </tr>\n",
       "    <tr>\n",
       "      <th>60</th>\n",
       "      <td>The New Disciple</td>\n",
       "      <td></td>\n",
       "      <td>I analyze candlestick charts and then devine t...</td>\n",
       "      <td>False</td>\n",
       "      <td>2022-10-14 22:56:49+00:00</td>\n",
       "      <td>Apple chart I have made shows the movement we ...</td>\n",
       "      <td>None</td>\n",
       "      <td>Twitter for Android</td>\n",
       "      <td>-0.4019</td>\n",
       "      <td>negative</td>\n",
       "    </tr>\n",
       "  </tbody>\n",
       "</table>\n",
       "</div>"
      ],
      "text/plain": [
       "            user_name    user_location  \\\n",
       "124             Vj***            India   \n",
       "19             H’B 🎙🎶         Nigeria    \n",
       "206      Volodymyr 🇺🇦          Україна   \n",
       "69        Learny Land        Barcelona   \n",
       "190    Ade-Akanfe 🎤💻📱   Lagos, Nigeria   \n",
       "204       First India    Jaipur, India   \n",
       "126        Khankhalil          پاکستان   \n",
       "211             Craig                    \n",
       "45             Pravin  சிங்கார சென்னை✨   \n",
       "60   The New Disciple                    \n",
       "\n",
       "                                      user_description  user_verified  \\\n",
       "124  Ship will be safe @ Harbour!! But that's not t...          False   \n",
       "19                       Life of an entertainer 🥰. H’B          False   \n",
       "206  Ukrainian designer | 3D Product Visualisation ...          False   \n",
       "69   Where Curiosity Grows 🚀\\nWe develop educationa...          False   \n",
       "190  Christian || Gospel Entertainment 🎤 || UI Desi...          False   \n",
       "204  Welcome to the Official Twitter page of First ...          False   \n",
       "126                                  KP IPR INFLUENCER          False   \n",
       "211                             apple's favorite pasta          False   \n",
       "45   Chasing and searching something to stick into ...          False   \n",
       "60   I analyze candlestick charts and then devine t...          False   \n",
       "\n",
       "                         date  \\\n",
       "124 2022-10-12 15:05:36+00:00   \n",
       "19  2022-10-16 20:45:55+00:00   \n",
       "206 2022-10-10 11:28:52+00:00   \n",
       "69  2022-10-14 11:55:57+00:00   \n",
       "190 2022-10-10 18:42:58+00:00   \n",
       "204 2022-10-10 12:15:40+00:00   \n",
       "126 2022-10-12 14:27:21+00:00   \n",
       "211 2022-10-10 07:13:03+00:00   \n",
       "45  2022-10-15 18:50:49+00:00   \n",
       "60  2022-10-14 22:56:49+00:00   \n",
       "\n",
       "                                                  text  \\\n",
       "124  MR L O N E L Y   \\n\\niphone14promax applewatch...   \n",
       "19   I wan post one mad art but I know say some peo...   \n",
       "206  Theall new iPad 10gen starting at 399\\n A15\\n ...   \n",
       "69   Looking forward to Halloween \\n\\nDont wait any...   \n",
       "190  Ikeja… Awolowo Way 0500pm\\nShot and edited wit...   \n",
       "204  Tech giant Apple is likely planning to mark th...   \n",
       "126  Prices of LNG Sky Rocketing  \\n\\nGovernment Di...   \n",
       "211  Its unfair we only saw Craig once in an AppleE...   \n",
       "45   appltrack markgurman If there is iOS 16 on you...   \n",
       "60   Apple chart I have made shows the movement we ...   \n",
       "\n",
       "                                              hashtags               source  \\\n",
       "124  [iphone14promax, applewatchultra, airpodspro2,...            Instagram   \n",
       "19                                                None   Twitter for iPhone   \n",
       "206                                               None      Twitter Web App   \n",
       "69                                         [Halloween]      Twitter Web App   \n",
       "190   [UkraineRussianWar, jendragonisreal, depression]   Twitter for iPhone   \n",
       "204                                               None      Twitter Web App   \n",
       "126                                               None   Twitter for iPhone   \n",
       "211                                       [AppleEvent]   Twitter for iPhone   \n",
       "45                                                None   Twitter for iPhone   \n",
       "60                                                None  Twitter for Android   \n",
       "\n",
       "      score  polarity  \n",
       "124 -0.8957  negative  \n",
       "19  -0.8481  negative  \n",
       "206 -0.6523  negative  \n",
       "69  -0.6317  negative  \n",
       "190 -0.5719  negative  \n",
       "204 -0.5267  negative  \n",
       "126 -0.4939  negative  \n",
       "211 -0.4767  negative  \n",
       "45  -0.4449  negative  \n",
       "60  -0.4019  negative  "
      ]
     },
     "execution_count": 93,
     "metadata": {},
     "output_type": "execute_result"
    }
   ],
   "source": [
    "tweets_df.sort_values(by=['score']).head(10)"
   ]
  },
  {
   "cell_type": "markdown",
   "metadata": {},
   "source": [
    "#### 10 mas positivos"
   ]
  },
  {
   "cell_type": "code",
   "execution_count": 94,
   "metadata": {},
   "outputs": [
    {
     "data": {
      "text/html": [
       "<div>\n",
       "<style scoped>\n",
       "    .dataframe tbody tr th:only-of-type {\n",
       "        vertical-align: middle;\n",
       "    }\n",
       "\n",
       "    .dataframe tbody tr th {\n",
       "        vertical-align: top;\n",
       "    }\n",
       "\n",
       "    .dataframe thead th {\n",
       "        text-align: right;\n",
       "    }\n",
       "</style>\n",
       "<table border=\"1\" class=\"dataframe\">\n",
       "  <thead>\n",
       "    <tr style=\"text-align: right;\">\n",
       "      <th></th>\n",
       "      <th>user_name</th>\n",
       "      <th>user_location</th>\n",
       "      <th>user_description</th>\n",
       "      <th>user_verified</th>\n",
       "      <th>date</th>\n",
       "      <th>text</th>\n",
       "      <th>hashtags</th>\n",
       "      <th>source</th>\n",
       "      <th>score</th>\n",
       "      <th>polarity</th>\n",
       "    </tr>\n",
       "  </thead>\n",
       "  <tbody>\n",
       "    <tr>\n",
       "      <th>128</th>\n",
       "      <td>WhitestoneDome Deutschland</td>\n",
       "      <td>Berlin, Germany</td>\n",
       "      <td>Full protection You can't see \\nhttps://t.co/K...</td>\n",
       "      <td>False</td>\n",
       "      <td>2022-10-12 14:00:42+00:00</td>\n",
       "      <td>The best Apple iPhone 14 screen protectors  di...</td>\n",
       "      <td>None</td>\n",
       "      <td>Buffer</td>\n",
       "      <td>0.9317</td>\n",
       "      <td>positive</td>\n",
       "    </tr>\n",
       "    <tr>\n",
       "      <th>34</th>\n",
       "      <td>WhitestoneDome Deutschland</td>\n",
       "      <td>Berlin, Germany</td>\n",
       "      <td>Full protection You can't see \\nhttps://t.co/K...</td>\n",
       "      <td>False</td>\n",
       "      <td>2022-10-16 08:00:04+00:00</td>\n",
       "      <td>The best Apple iPhone 14 screen protectors  di...</td>\n",
       "      <td>None</td>\n",
       "      <td>Buffer</td>\n",
       "      <td>0.9317</td>\n",
       "      <td>positive</td>\n",
       "    </tr>\n",
       "    <tr>\n",
       "      <th>134</th>\n",
       "      <td>WhitestoneDome Deutschland</td>\n",
       "      <td>Berlin, Germany</td>\n",
       "      <td>Full protection You can't see \\nhttps://t.co/K...</td>\n",
       "      <td>False</td>\n",
       "      <td>2022-10-12 11:21:01+00:00</td>\n",
       "      <td>The best Apple iPhone 14 screen protectors  di...</td>\n",
       "      <td>None</td>\n",
       "      <td>Buffer</td>\n",
       "      <td>0.9317</td>\n",
       "      <td>positive</td>\n",
       "    </tr>\n",
       "    <tr>\n",
       "      <th>67</th>\n",
       "      <td>🤎 🦋 HARUTO 🦋 🤎 HELLO 👋 🤙 🌵 👁</td>\n",
       "      <td></td>\n",
       "      <td>#HARUTO #하루토 #ハルト #温斗\\n\\nHELLO 👋\\n\\n#트레저  \\n  ...</td>\n",
       "      <td>False</td>\n",
       "      <td>2022-10-14 15:09:45+00:00</td>\n",
       "      <td>Apple iPhone 14\\n\\nHARUTO IM SO HAPPY FOR YOU ...</td>\n",
       "      <td>[Apple, iPhone14, iPhone14Pro]</td>\n",
       "      <td>Twitter Web App</td>\n",
       "      <td>0.9172</td>\n",
       "      <td>positive</td>\n",
       "    </tr>\n",
       "    <tr>\n",
       "      <th>28</th>\n",
       "      <td>Han_globaltrade</td>\n",
       "      <td>United States</td>\n",
       "      <td>Software and Electronic Products. 💻👍\\nAmazon A...</td>\n",
       "      <td>False</td>\n",
       "      <td>2022-10-16 11:09:33+00:00</td>\n",
       "      <td>Happy Sunday Apple 20W USBC type C that is wal...</td>\n",
       "      <td>None</td>\n",
       "      <td>Twitter Web App</td>\n",
       "      <td>0.9022</td>\n",
       "      <td>positive</td>\n",
       "    </tr>\n",
       "    <tr>\n",
       "      <th>214</th>\n",
       "      <td>WhitestoneDome Deutschland</td>\n",
       "      <td>Berlin, Germany</td>\n",
       "      <td>Full protection You can't see \\nhttps://t.co/K...</td>\n",
       "      <td>False</td>\n",
       "      <td>2022-10-10 05:11:00+00:00</td>\n",
       "      <td>The best Apple iPhone 14 screen protectors  di...</td>\n",
       "      <td>None</td>\n",
       "      <td>Buffer</td>\n",
       "      <td>0.8934</td>\n",
       "      <td>positive</td>\n",
       "    </tr>\n",
       "    <tr>\n",
       "      <th>44</th>\n",
       "      <td>Whitestone_EU</td>\n",
       "      <td></td>\n",
       "      <td>Best Device Protectors\\nDome Glass/ EZ Glass/ ...</td>\n",
       "      <td>False</td>\n",
       "      <td>2022-10-15 18:56:01+00:00</td>\n",
       "      <td>The best Apple iPhone 14 screen protectors  di...</td>\n",
       "      <td>None</td>\n",
       "      <td>Buffer</td>\n",
       "      <td>0.8934</td>\n",
       "      <td>positive</td>\n",
       "    </tr>\n",
       "    <tr>\n",
       "      <th>20</th>\n",
       "      <td>WhitestoneDome Deutschland</td>\n",
       "      <td>Berlin, Germany</td>\n",
       "      <td>Full protection You can't see \\nhttps://t.co/K...</td>\n",
       "      <td>False</td>\n",
       "      <td>2022-10-16 20:44:00+00:00</td>\n",
       "      <td>The best Apple iPhone 14 screen protectors  di...</td>\n",
       "      <td>None</td>\n",
       "      <td>Buffer</td>\n",
       "      <td>0.8934</td>\n",
       "      <td>positive</td>\n",
       "    </tr>\n",
       "    <tr>\n",
       "      <th>6</th>\n",
       "      <td>WhitestoneDome Deutschland</td>\n",
       "      <td>Berlin, Germany</td>\n",
       "      <td>Full protection You can't see \\nhttps://t.co/K...</td>\n",
       "      <td>False</td>\n",
       "      <td>2022-10-17 13:21:00+00:00</td>\n",
       "      <td>The best Apple iPhone 14 screen protectors  di...</td>\n",
       "      <td>None</td>\n",
       "      <td>Buffer</td>\n",
       "      <td>0.8934</td>\n",
       "      <td>positive</td>\n",
       "    </tr>\n",
       "    <tr>\n",
       "      <th>139</th>\n",
       "      <td>Lynne K Lynch</td>\n",
       "      <td>Dayton OhioUSA #DaytonStrong</td>\n",
       "      <td>Be positive\\nstay kind,always smile even if sa...</td>\n",
       "      <td>False</td>\n",
       "      <td>2022-10-12 07:08:28+00:00</td>\n",
       "      <td>AmanAdwin Lovely photo of U \\n2Yepits that tim...</td>\n",
       "      <td>[photo]</td>\n",
       "      <td>Twitter for Android</td>\n",
       "      <td>0.8689</td>\n",
       "      <td>positive</td>\n",
       "    </tr>\n",
       "  </tbody>\n",
       "</table>\n",
       "</div>"
      ],
      "text/plain": [
       "                        user_name                 user_location  \\\n",
       "128    WhitestoneDome Deutschland               Berlin, Germany   \n",
       "34     WhitestoneDome Deutschland               Berlin, Germany   \n",
       "134    WhitestoneDome Deutschland               Berlin, Germany   \n",
       "67   🤎 🦋 HARUTO 🦋 🤎 HELLO 👋 🤙 🌵 👁                                 \n",
       "28                Han_globaltrade                 United States   \n",
       "214    WhitestoneDome Deutschland               Berlin, Germany   \n",
       "44                  Whitestone_EU                                 \n",
       "20     WhitestoneDome Deutschland               Berlin, Germany   \n",
       "6      WhitestoneDome Deutschland               Berlin, Germany   \n",
       "139                 Lynne K Lynch  Dayton OhioUSA #DaytonStrong   \n",
       "\n",
       "                                      user_description  user_verified  \\\n",
       "128  Full protection You can't see \\nhttps://t.co/K...          False   \n",
       "34   Full protection You can't see \\nhttps://t.co/K...          False   \n",
       "134  Full protection You can't see \\nhttps://t.co/K...          False   \n",
       "67   #HARUTO #하루토 #ハルト #温斗\\n\\nHELLO 👋\\n\\n#트레저  \\n  ...          False   \n",
       "28   Software and Electronic Products. 💻👍\\nAmazon A...          False   \n",
       "214  Full protection You can't see \\nhttps://t.co/K...          False   \n",
       "44   Best Device Protectors\\nDome Glass/ EZ Glass/ ...          False   \n",
       "20   Full protection You can't see \\nhttps://t.co/K...          False   \n",
       "6    Full protection You can't see \\nhttps://t.co/K...          False   \n",
       "139  Be positive\\nstay kind,always smile even if sa...          False   \n",
       "\n",
       "                         date  \\\n",
       "128 2022-10-12 14:00:42+00:00   \n",
       "34  2022-10-16 08:00:04+00:00   \n",
       "134 2022-10-12 11:21:01+00:00   \n",
       "67  2022-10-14 15:09:45+00:00   \n",
       "28  2022-10-16 11:09:33+00:00   \n",
       "214 2022-10-10 05:11:00+00:00   \n",
       "44  2022-10-15 18:56:01+00:00   \n",
       "20  2022-10-16 20:44:00+00:00   \n",
       "6   2022-10-17 13:21:00+00:00   \n",
       "139 2022-10-12 07:08:28+00:00   \n",
       "\n",
       "                                                  text  \\\n",
       "128  The best Apple iPhone 14 screen protectors  di...   \n",
       "34   The best Apple iPhone 14 screen protectors  di...   \n",
       "134  The best Apple iPhone 14 screen protectors  di...   \n",
       "67   Apple iPhone 14\\n\\nHARUTO IM SO HAPPY FOR YOU ...   \n",
       "28   Happy Sunday Apple 20W USBC type C that is wal...   \n",
       "214  The best Apple iPhone 14 screen protectors  di...   \n",
       "44   The best Apple iPhone 14 screen protectors  di...   \n",
       "20   The best Apple iPhone 14 screen protectors  di...   \n",
       "6    The best Apple iPhone 14 screen protectors  di...   \n",
       "139  AmanAdwin Lovely photo of U \\n2Yepits that tim...   \n",
       "\n",
       "                           hashtags               source   score  polarity  \n",
       "128                            None               Buffer  0.9317  positive  \n",
       "34                             None               Buffer  0.9317  positive  \n",
       "134                            None               Buffer  0.9317  positive  \n",
       "67   [Apple, iPhone14, iPhone14Pro]      Twitter Web App  0.9172  positive  \n",
       "28                             None      Twitter Web App  0.9022  positive  \n",
       "214                            None               Buffer  0.8934  positive  \n",
       "44                             None               Buffer  0.8934  positive  \n",
       "20                             None               Buffer  0.8934  positive  \n",
       "6                              None               Buffer  0.8934  positive  \n",
       "139                         [photo]  Twitter for Android  0.8689  positive  "
      ]
     },
     "execution_count": 94,
     "metadata": {},
     "output_type": "execute_result"
    }
   ],
   "source": [
    "tweets_df.sort_values(by=['score'], ascending=False).head(10)"
   ]
  },
  {
   "cell_type": "markdown",
   "metadata": {},
   "source": [
    "#### Conteo de tweets en general"
   ]
  },
  {
   "cell_type": "code",
   "execution_count": 95,
   "metadata": {},
   "outputs": [
    {
     "data": {
      "text/plain": [
       "-0.8957    1\n",
       "-0.8481    1\n",
       "-0.6523    1\n",
       "-0.6317    1\n",
       "-0.5719    1\n",
       "          ..\n",
       " 0.8689    1\n",
       " 0.8934    4\n",
       " 0.9022    1\n",
       " 0.9172    1\n",
       " 0.9317    3\n",
       "Name: score, Length: 64, dtype: int64"
      ]
     },
     "execution_count": 95,
     "metadata": {},
     "output_type": "execute_result"
    }
   ],
   "source": [
    "tweets_df['score'].value_counts().sort_index()"
   ]
  },
  {
   "cell_type": "code",
   "execution_count": 96,
   "metadata": {},
   "outputs": [
    {
     "name": "stderr",
     "output_type": "stream",
     "text": [
      "c:\\Users\\juanp\\AppData\\Local\\Programs\\Python\\Python310\\lib\\site-packages\\seaborn\\distributions.py:2619: FutureWarning:\n",
      "\n",
      "`distplot` is a deprecated function and will be removed in a future version. Please adapt your code to use either `displot` (a figure-level function with similar flexibility) or `histplot` (an axes-level function for histograms).\n",
      "\n"
     ]
    },
    {
     "data": {
      "text/plain": [
       "<AxesSubplot:xlabel='score', ylabel='Density'>"
      ]
     },
     "execution_count": 96,
     "metadata": {},
     "output_type": "execute_result"
    },
    {
     "data": {
      "image/png": "[encoded data removed]",
      "text/plain": [
       "<Figure size 432x288 with 1 Axes>"
      ]
     },
     "metadata": {},
     "output_type": "display_data"
    }
   ],
   "source": [
    "scores=tweets_df['score'].value_counts().sort_index()\n",
    "sns.distplot(scores)"
   ]
  },
  {
   "cell_type": "code",
   "execution_count": 97,
   "metadata": {},
   "outputs": [
    {
     "data": {
      "text/plain": [
       "neutral     110\n",
       "positive     70\n",
       "negative     17\n",
       "Name: polarity, dtype: int64"
      ]
     },
     "execution_count": 97,
     "metadata": {},
     "output_type": "execute_result"
    }
   ],
   "source": [
    "tweets_df['polarity'].value_counts()"
   ]
  },
  {
   "cell_type": "markdown",
   "metadata": {},
   "source": [
    "### Conclusiones"
   ]
  },
  {
   "cell_type": "markdown",
   "metadata": {},
   "source": [
    "El algoritmo toma como negativo el uso de palabras negativas sin tomar en cuenta el contexto. (e.g. ID 166 Tabla de Negativos)\n",
    "El algoritmo no reconoce el uso del sarcasmo en algunos de los tweets. (e.g. ID 405 Tabla de Negativos)\n",
    "Los comentarios positivos tienen un mejor resultado con el analisis de sentimientos.\n",
    "Los comentarios positivos tienen mayor volumen ya que existen bots que repiten el mismo tweet etiquetando a distintas personas en cada tweet."
   ]
  },
  {
   "cell_type": "markdown",
   "metadata": {},
   "source": [
    "# Dashboard"
   ]
  },
  {
   "cell_type": "code",
   "execution_count": 98,
   "metadata": {},
   "outputs": [],
   "source": [
    "import plotly.express as px\n",
    "import dash_core_components as dcc\n",
    "import dash_html_components as html\n",
    "from jupyter_dash import JupyterDash\n",
    "from dash.dependencies import Input, Output"
   ]
  },
  {
   "cell_type": "code",
   "execution_count": 99,
   "metadata": {},
   "outputs": [],
   "source": [
    "\n",
    "\"\"\"\n",
    "The following information was gathered from streamcharts.com\n",
    "\"\"\"\n",
    "reveals = pd.DataFrame({\n",
    "  \"event\": [\"iPhone 14 reveal\", \"iPhone 12 reveal\", \"iPhone 13 reveal\", \"iPad Air reveal\", \"24-inch iMacs introduction\", \"New Mac generation\", \"M1 Ultra reveal\", \"New MacBook Pro generation\"],\n",
    "  \"event_views\": [3690000, 2740000, 2270000, 1500000, 943000, 891300, 740500, 731800]\n",
    "})\n",
    "product_popularity = pd.DataFrame({\n",
    "  \"product\": [\"iPhone 14\", \"AirPods Pro\", \"Apple Watch Ultra\", \"iPhone 14 Pro\", \"Apple Watch SE\", \"Apple Watch Series 8\"],\n",
    "  \"product_views\": [3690000, 3040000, 2790000, 2770000, 2490000, 2460000]\n",
    "})\n",
    "app = JupyterDash(__name__)\n",
    "\n",
    "revealed_popularity = px.bar(reveals, x=\"event\", y=\"event_views\", title=\"Apple product reveals vs. popularity\")\n",
    "product_popularity = px.bar(product_popularity, x=\"product\", y=\"product_views\", title=\"Apple product popularity\")\n",
    "pie = px.pie(tweets_df, values='score', names='polarity', title='Sentiment Analysis')\n",
    "\n",
    "app.layout = html.Div([\n",
    "    html.H1(\"Apple Events September 2022\"),\n",
    "    dcc.Graph(figure=revealed_popularity),\n",
    "    html.Label([\n",
    "        \"colorscale\",\n",
    "    ]),\n",
    "])\n",
    "app.run_server(mode='inline')"
   ]
  },
  {
   "cell_type": "code",
   "execution_count": null,
   "metadata": {},
   "outputs": [],
   "source": []
  }
 ],
 "metadata": {
  "kernelspec": {
   "display_name": "Python 3.10.5 64-bit",
   "language": "python",
   "name": "python3"
  },
  "language_info": {
   "codemirror_mode": {
    "name": "ipython",
    "version": 3
   },
   "file_extension": ".py",
   "mimetype": "text/x-python",
   "name": "python",
   "nbconvert_exporter": "python",
   "pygments_lexer": "ipython3",
   "version": "3.10.5"
  },
  "orig_nbformat": 2,
  "vscode": {
   "interpreter": {
    "hash": "a1fbb46e97979fe274de0b1708aa8583f7166e6b85cafc938966f13b05b745da"
   }
  }
 },
 "nbformat": 4,
 "nbformat_minor": 2
}
