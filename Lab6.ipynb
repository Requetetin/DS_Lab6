{
 "cells": [
  {
   "cell_type": "code",
   "execution_count": 1,
   "metadata": {},
   "outputs": [
    {
     "name": "stderr",
     "output_type": "stream",
     "text": [
      "[nltk_data] Downloading package stopwords to\n",
      "[nltk_data]     C:\\Users\\reque\\AppData\\Roaming\\nltk_data...\n",
      "[nltk_data]   Package stopwords is already up-to-date!\n",
      "[nltk_data] Downloading package punkt to\n",
      "[nltk_data]     C:\\Users\\reque\\AppData\\Roaming\\nltk_data...\n",
      "[nltk_data]   Package punkt is already up-to-date!\n",
      "[nltk_data] Downloading package names to\n",
      "[nltk_data]     C:\\Users\\reque\\AppData\\Roaming\\nltk_data...\n",
      "[nltk_data]   Package names is already up-to-date!\n",
      "[nltk_data] Downloading package vader_lexicon to\n",
      "[nltk_data]     C:\\Users\\reque\\AppData\\Roaming\\nltk_data...\n",
      "[nltk_data]   Package vader_lexicon is already up-to-date!\n"
     ]
    }
   ],
   "source": [
    "import tweepy as tw\n",
    "import pandas as pd\n",
    "import matplotlib.pyplot as plt\n",
    "import seaborn as sns\n",
    "import numpy as np\n",
    "import nltk\n",
    "import re\n",
    "import plotly.express as px\n",
    "\n",
    "from dash import Dash, html, dcc\n",
    "from nltk.corpus import stopwords\n",
    "from nltk.util import ngrams\n",
    "from collections import defaultdict\n",
    "from collections import  Counter\n",
    "from sklearn.feature_extraction.text import CountVectorizer\n",
    "from nltk.sentiment import SentimentIntensityAnalyzer\n",
    "nltk.download(['stopwords', 'punkt', 'names', 'vader_lexicon'] )\n",
    "plt.style.use('ggplot')\n",
    "stop=set(stopwords.words('english'))"
   ]
  },
  {
   "cell_type": "markdown",
   "metadata": {},
   "source": [
    "# Setup"
   ]
  },
  {
   "cell_type": "markdown",
   "metadata": {},
   "source": [
    "## Setup API"
   ]
  },
  {
   "cell_type": "code",
   "execution_count": 2,
   "metadata": {},
   "outputs": [],
   "source": [
    "API_KEY = 'LoiVW76XekU31dGeTzRF3jaRn'\n",
    "API_KEY_SECRET = 'zMI3E52t5DHPvlBEcq033ZcvzSXwudxOZbgWflDXaNiM29gHXG'\n",
    "ACCESS_TOKEN = 'AAAAAAAAAAAAAAAAAAAAALiigwEAAAAAQL5JJp3%2BeOebr2JSQERPsx0D6b0%3Di0YCX9UIE8WQRbnyohpKwy9V4k7XCRrXXT3bfqymxQbxPMv7Tb'"
   ]
  },
  {
   "cell_type": "code",
   "execution_count": 3,
   "metadata": {},
   "outputs": [],
   "source": [
    "auth = tw.OAuthHandler(API_KEY, API_KEY_SECRET)\n",
    "api = tw.API(auth, wait_on_rate_limit=True)"
   ]
  },
  {
   "cell_type": "markdown",
   "metadata": {},
   "source": [
    "## Get Tweets"
   ]
  },
  {
   "cell_type": "code",
   "execution_count": 4,
   "metadata": {},
   "outputs": [],
   "source": [
    "search_query = \"#AppleEvent -filter:retweets\""
   ]
  },
  {
   "cell_type": "code",
   "execution_count": 5,
   "metadata": {},
   "outputs": [
    {
     "name": "stderr",
     "output_type": "stream",
     "text": [
      "Unexpected parameter: since\n",
      "Unexpected parameter: since\n",
      "Unexpected parameter: since\n",
      "Unexpected parameter: since\n",
      "Unexpected parameter: since\n",
      "Unexpected parameter: since\n",
      "Unexpected parameter: since\n",
      "Unexpected parameter: since\n",
      "Unexpected parameter: since\n",
      "Unexpected parameter: since\n",
      "Unexpected parameter: since\n",
      "Unexpected parameter: since\n",
      "Unexpected parameter: since\n",
      "Unexpected parameter: since\n",
      "Unexpected parameter: since\n",
      "Unexpected parameter: since\n",
      "Unexpected parameter: since\n",
      "Unexpected parameter: since\n",
      "Unexpected parameter: since\n",
      "Unexpected parameter: since\n"
     ]
    },
    {
     "name": "stdout",
     "output_type": "stream",
     "text": [
      "Total Tweets fetched: 243\n"
     ]
    }
   ],
   "source": [
    "# get tweets from the API\n",
    "tweets = tw.Cursor(api.search_tweets,\n",
    "              q=search_query,\n",
    "              lang=\"en\",\n",
    "              since=\"2022-09-07\").items(500)\n",
    "# store the API responses in a list\n",
    "tweets_copy = []\n",
    "for tweet in tweets:\n",
    "    tweets_copy.append(tweet)\n",
    "    \n",
    "print(\"Total Tweets fetched:\", len(tweets_copy))"
   ]
  },
  {
   "cell_type": "markdown",
   "metadata": {},
   "source": [
    "## DataFrame"
   ]
  },
  {
   "cell_type": "code",
   "execution_count": 6,
   "metadata": {},
   "outputs": [
    {
     "name": "stderr",
     "output_type": "stream",
     "text": [
      "C:\\Users\\reque\\AppData\\Local\\Temp\\ipykernel_23840\\1717546899.py:15: FutureWarning: The frame.append method is deprecated and will be removed from pandas in a future version. Use pandas.concat instead.\n",
      "  tweets_df = tweets_df.append(pd.DataFrame({'user_name': tweet.user.name,\n"
     ]
    },
    {
     "data": {
      "text/html": "<div>\n<style scoped>\n    .dataframe tbody tr th:only-of-type {\n        vertical-align: middle;\n    }\n\n    .dataframe tbody tr th {\n        vertical-align: top;\n    }\n\n    .dataframe thead th {\n        text-align: right;\n    }\n</style>\n<table border=\"1\" class=\"dataframe\">\n  <thead>\n    <tr style=\"text-align: right;\">\n      <th></th>\n      <th>user_name</th>\n      <th>user_location</th>\n      <th>user_description</th>\n      <th>user_verified</th>\n      <th>date</th>\n      <th>text</th>\n      <th>hashtags</th>\n      <th>source</th>\n    </tr>\n  </thead>\n  <tbody>\n    <tr>\n      <th>0</th>\n      <td>Goospery</td>\n      <td></td>\n      <td>Goospery</td>\n      <td>False</td>\n      <td>2022-10-17 23:13:02+00:00</td>\n      <td>Experience how your iPhone 14 Pro Max transfor...</td>\n      <td>[iPhone14ProMax, DynamicIsland, AppleEvent, ph...</td>\n      <td>Buffer</td>\n    </tr>\n    <tr>\n      <th>1</th>\n      <td>DropCentr • Video Game Deals • PS5 Xbox Restocks</td>\n      <td>United States</td>\n      <td>24/7 Restock Alerts 🚨 #PS5 / #Xbox / #Nintendo...</td>\n      <td>False</td>\n      <td>2022-10-17 20:30:04+00:00</td>\n      <td>🏃‍♂️🏃‍♂️ Airpod Pros $80 off at Target https:/...</td>\n      <td>[Apple]</td>\n      <td>TweetDeck</td>\n    </tr>\n    <tr>\n      <th>2</th>\n      <td>i-phone care</td>\n      <td>Bengaluru South, India</td>\n      <td></td>\n      <td>False</td>\n      <td>2022-10-17 18:42:56+00:00</td>\n      <td>MACBOOK A1398 i7. 16gb and 512 gb mint conditi...</td>\n      <td>[mobilephonerepair, mobilephotography, mobile]</td>\n      <td>Twitter for Android</td>\n    </tr>\n    <tr>\n      <th>3</th>\n      <td>i-phone care</td>\n      <td>Bengaluru South, India</td>\n      <td></td>\n      <td>False</td>\n      <td>2022-10-17 18:41:29+00:00</td>\n      <td>MACBOOK A1398 i7. 16gb and 512 gb mint conditi...</td>\n      <td>[mobilephonerepair, mobilephotography, mobile]</td>\n      <td>Twitter for Android</td>\n    </tr>\n    <tr>\n      <th>4</th>\n      <td>if Apple then 🇺🇦🏳️‍🌈🏳️‍⚧️🤜🏿🤛🏼🦾🇺🇸🏴‍☠️</td>\n      <td>USA</td>\n      <td>An #Apple alumn who loves to speculate, outlan...</td>\n      <td>False</td>\n      <td>2022-10-17 16:49:18+00:00</td>\n      <td>Apple to hold October/November Apple Arcade #A...</td>\n      <td>[AppleEvent, AAA]</td>\n      <td>Twitter for iPhone</td>\n    </tr>\n  </tbody>\n</table>\n</div>",
      "text/plain": "                                          user_name           user_location  \\\n0                                          Goospery                           \n1  DropCentr • Video Game Deals • PS5 Xbox Restocks           United States   \n2                                      i-phone care  Bengaluru South, India   \n3                                      i-phone care  Bengaluru South, India   \n4              if Apple then 🇺🇦🏳️‍🌈🏳️‍⚧️🤜🏿🤛🏼🦾🇺🇸🏴‍☠️                     USA   \n\n                                    user_description  user_verified  \\\n0                                           Goospery          False   \n1  24/7 Restock Alerts 🚨 #PS5 / #Xbox / #Nintendo...          False   \n2                                                             False   \n3                                                             False   \n4  An #Apple alumn who loves to speculate, outlan...          False   \n\n                       date  \\\n0 2022-10-17 23:13:02+00:00   \n1 2022-10-17 20:30:04+00:00   \n2 2022-10-17 18:42:56+00:00   \n3 2022-10-17 18:41:29+00:00   \n4 2022-10-17 16:49:18+00:00   \n\n                                                text  \\\n0  Experience how your iPhone 14 Pro Max transfor...   \n1  🏃‍♂️🏃‍♂️ Airpod Pros $80 off at Target https:/...   \n2  MACBOOK A1398 i7. 16gb and 512 gb mint conditi...   \n3  MACBOOK A1398 i7. 16gb and 512 gb mint conditi...   \n4  Apple to hold October/November Apple Arcade #A...   \n\n                                            hashtags               source  \n0  [iPhone14ProMax, DynamicIsland, AppleEvent, ph...               Buffer  \n1                                            [Apple]            TweetDeck  \n2     [mobilephonerepair, mobilephotography, mobile]  Twitter for Android  \n3     [mobilephonerepair, mobilephotography, mobile]  Twitter for Android  \n4                                  [AppleEvent, AAA]   Twitter for iPhone  "
     },
     "execution_count": 6,
     "metadata": {},
     "output_type": "execute_result"
    }
   ],
   "source": [
    "import pandas as pd\n",
    "\n",
    "# intialize the dataframe\n",
    "tweets_df = pd.DataFrame()\n",
    "\n",
    "# populate the dataframe\n",
    "for tweet in tweets_copy:\n",
    "    hashtags = []\n",
    "    try:\n",
    "        for hashtag in tweet.entities[\"hashtags\"]:\n",
    "            hashtags.append(hashtag[\"text\"])\n",
    "        text = api.get_status(id=tweet.id, tweet_mode='extended').full_text\n",
    "    except:\n",
    "        pass\n",
    "    tweets_df = tweets_df.append(pd.DataFrame({'user_name': tweet.user.name, \n",
    "                                               'user_location': tweet.user.location,\\\n",
    "                                               'user_description': tweet.user.description,\n",
    "                                               'user_verified': tweet.user.verified,\n",
    "                                               'date': tweet.created_at,\n",
    "                                               'text': text, \n",
    "                                               'hashtags': [hashtags if hashtags else None],\n",
    "                                               'source': tweet.source}))\n",
    "    tweets_df = tweets_df.reset_index(drop=True)\n",
    "\n",
    "# show the dataframe\n",
    "tweets_df.head()"
   ]
  },
  {
   "cell_type": "code",
   "execution_count": 7,
   "metadata": {},
   "outputs": [
    {
     "data": {
      "text/plain": "(243, 8)"
     },
     "execution_count": 7,
     "metadata": {},
     "output_type": "execute_result"
    }
   ],
   "source": [
    "tweets_df.shape"
   ]
  },
  {
   "cell_type": "markdown",
   "metadata": {},
   "source": [
    "# Analisis Exploratorio (pre-limpieza)"
   ]
  },
  {
   "cell_type": "markdown",
   "metadata": {},
   "source": [
    "### Cantidad de caracteres en el tweet"
   ]
  },
  {
   "cell_type": "code",
   "execution_count": 8,
   "metadata": {},
   "outputs": [
    {
     "data": {
      "image/png": "[encoded data removed]",
      "text/plain": "<Figure size 432x288 with 1 Axes>"
     },
     "metadata": {
      "needs_background": "light"
     },
     "output_type": "display_data"
    }
   ],
   "source": [
    "tweet_length = tweets_df['text'].str.len()\n",
    "plt.hist(tweet_length)\n",
    "plt.title('Cantidad de caracteres del tweet')\n",
    "plt.show()"
   ]
  },
  {
   "cell_type": "markdown",
   "metadata": {},
   "source": [
    "### Cantidad de palabras en el tweet"
   ]
  },
  {
   "cell_type": "code",
   "execution_count": 9,
   "metadata": {},
   "outputs": [
    {
     "data": {
      "image/png": "[encoded data removed]",
      "text/plain": "<Figure size 432x288 with 1 Axes>"
     },
     "metadata": {
      "needs_background": "light"
     },
     "output_type": "display_data"
    }
   ],
   "source": [
    "tweet_length = tweets_df['text'].str.split().map(lambda x: len(x))\n",
    "plt.hist(tweet_length)\n",
    "plt.title('Cantidad de palabras del tweet')\n",
    "plt.show()"
   ]
  },
  {
   "cell_type": "markdown",
   "metadata": {},
   "source": [
    "### Promedio de longitud de las palabras"
   ]
  },
  {
   "cell_type": "code",
   "execution_count": 10,
   "metadata": {},
   "outputs": [
    {
     "name": "stderr",
     "output_type": "stream",
     "text": [
      "C:\\Users\\reque\\AppData\\Local\\Packages\\PythonSoftwareFoundation.Python.3.10_qbz5n2kfra8p0\\LocalCache\\local-packages\\Python310\\site-packages\\seaborn\\distributions.py:2619: FutureWarning: `distplot` is a deprecated function and will be removed in a future version. Please adapt your code to use either `displot` (a figure-level function with similar flexibility) or `histplot` (an axes-level function for histograms).\n",
      "  warnings.warn(msg, FutureWarning)\n"
     ]
    },
    {
     "data": {
      "text/plain": "<AxesSubplot:xlabel='text', ylabel='Density'>"
     },
     "execution_count": 10,
     "metadata": {},
     "output_type": "execute_result"
    },
    {
     "data": {
      "image/png": "[encoded data removed]",
      "text/plain": "<Figure size 432x288 with 1 Axes>"
     },
     "metadata": {
      "needs_background": "light"
     },
     "output_type": "display_data"
    }
   ],
   "source": [
    "word=tweets_df['text'].str.split().apply(lambda x : [len(i) for i in x])\n",
    "sns.distplot(word.map(lambda x: np.mean(x)))"
   ]
  },
  {
   "cell_type": "code",
   "execution_count": 11,
   "metadata": {},
   "outputs": [],
   "source": [
    "def create_corpus(target):\n",
    "    corpus=[]\n",
    "    \n",
    "    for x in tweets_df['text'].str.split():\n",
    "        for i in x:\n",
    "            corpus.append(i)\n",
    "    return corpus"
   ]
  },
  {
   "cell_type": "markdown",
   "metadata": {},
   "source": [
    "### Stopwords"
   ]
  },
  {
   "cell_type": "code",
   "execution_count": 12,
   "metadata": {},
   "outputs": [],
   "source": [
    "corpus=create_corpus(0)\n",
    "\n",
    "dic=defaultdict(int)\n",
    "for word in corpus:\n",
    "    if word in stop:\n",
    "        dic[word]+=1\n",
    "        \n",
    "top=sorted(dic.items(), key=lambda x:x[1],reverse=True)[:10] "
   ]
  },
  {
   "cell_type": "code",
   "execution_count": 13,
   "metadata": {},
   "outputs": [
    {
     "data": {
      "text/plain": "<BarContainer object of 10 artists>"
     },
     "execution_count": 13,
     "metadata": {},
     "output_type": "execute_result"
    },
    {
     "data": {
      "image/png": "[encoded data removed]",
      "text/plain": "<Figure size 432x288 with 1 Axes>"
     },
     "metadata": {
      "needs_background": "light"
     },
     "output_type": "display_data"
    }
   ],
   "source": [
    "x,y=zip(*top)\n",
    "plt.bar(x,y)"
   ]
  },
  {
   "cell_type": "markdown",
   "metadata": {},
   "source": [
    "### Puntuacion"
   ]
  },
  {
   "cell_type": "code",
   "execution_count": 14,
   "metadata": {},
   "outputs": [
    {
     "data": {
      "text/plain": "<Figure size 720x360 with 0 Axes>"
     },
     "metadata": {},
     "output_type": "display_data"
    }
   ],
   "source": [
    "plt.figure(figsize=(10,5))\n",
    "corpus=create_corpus(1)\n",
    "\n",
    "dic=defaultdict(int)\n",
    "import string\n",
    "special = string.punctuation\n",
    "for i in (corpus):\n",
    "    if i in special:\n",
    "        dic[i]+=1"
   ]
  },
  {
   "cell_type": "code",
   "execution_count": 15,
   "metadata": {},
   "outputs": [
    {
     "data": {
      "text/plain": "<BarContainer object of 7 artists>"
     },
     "execution_count": 15,
     "metadata": {},
     "output_type": "execute_result"
    },
    {
     "data": {
      "image/png": "[encoded data removed]",
      "text/plain": "<Figure size 432x288 with 1 Axes>"
     },
     "metadata": {
      "needs_background": "light"
     },
     "output_type": "display_data"
    }
   ],
   "source": [
    "x,y=zip(*dic.items())\n",
    "plt.bar(x,y)"
   ]
  },
  {
   "cell_type": "markdown",
   "metadata": {},
   "source": [
    "### Palabras comunes"
   ]
  },
  {
   "cell_type": "code",
   "execution_count": 16,
   "metadata": {},
   "outputs": [
    {
     "data": {
      "text/plain": "<AxesSubplot:>"
     },
     "execution_count": 16,
     "metadata": {},
     "output_type": "execute_result"
    },
    {
     "name": "stderr",
     "output_type": "stream",
     "text": [
      "C:\\Users\\reque\\AppData\\Local\\Packages\\PythonSoftwareFoundation.Python.3.10_qbz5n2kfra8p0\\LocalCache\\local-packages\\Python310\\site-packages\\IPython\\core\\pylabtools.py:151: UserWarning: Glyph 128138 (\\N{PILL}) missing from current font.\n",
      "  fig.canvas.print_figure(bytes_io, **kw)\n",
      "C:\\Users\\reque\\AppData\\Local\\Packages\\PythonSoftwareFoundation.Python.3.10_qbz5n2kfra8p0\\LocalCache\\local-packages\\Python310\\site-packages\\IPython\\core\\pylabtools.py:151: UserWarning: Glyph 128064 (\\N{EYES}) missing from current font.\n",
      "  fig.canvas.print_figure(bytes_io, **kw)\n",
      "C:\\Users\\reque\\AppData\\Local\\Packages\\PythonSoftwareFoundation.Python.3.10_qbz5n2kfra8p0\\LocalCache\\local-packages\\Python310\\site-packages\\IPython\\core\\pylabtools.py:151: UserWarning: Glyph 127819 (\\N{LEMON}) missing from current font.\n",
      "  fig.canvas.print_figure(bytes_io, **kw)\n"
     ]
    },
    {
     "data": {
      "image/png": "[encoded data removed]",
      "text/plain": "<Figure size 432x288 with 1 Axes>"
     },
     "metadata": {
      "needs_background": "light"
     },
     "output_type": "display_data"
    }
   ],
   "source": [
    "counter=Counter(corpus)\n",
    "most=counter.most_common()\n",
    "x=[]\n",
    "y=[]\n",
    "for word,count in most[:40]:\n",
    "    if (word not in stop) :\n",
    "        x.append(word)\n",
    "        y.append(count)\n",
    "\n",
    "sns.barplot(x=y,y=x)"
   ]
  },
  {
   "cell_type": "markdown",
   "metadata": {},
   "source": [
    "### Analisis ngramas"
   ]
  },
  {
   "cell_type": "markdown",
   "metadata": {},
   "source": [
    "#### Bigrama"
   ]
  },
  {
   "cell_type": "code",
   "execution_count": 17,
   "metadata": {},
   "outputs": [],
   "source": [
    "def get_top_tweet_bigrams(corpus, n=None):\n",
    "    vec = CountVectorizer(ngram_range=(2, 2)).fit(corpus)\n",
    "    bag_of_words = vec.transform(corpus)\n",
    "    sum_words = bag_of_words.sum(axis=0) \n",
    "    words_freq = [(word, sum_words[0, idx]) for word, idx in vec.vocabulary_.items()]\n",
    "    words_freq =sorted(words_freq, key = lambda x: x[1], reverse=True)\n",
    "    return words_freq[:n]"
   ]
  },
  {
   "cell_type": "code",
   "execution_count": 18,
   "metadata": {},
   "outputs": [
    {
     "data": {
      "text/plain": "<AxesSubplot:>"
     },
     "execution_count": 18,
     "metadata": {},
     "output_type": "execute_result"
    },
    {
     "data": {
      "image/png": "[encoded data removed]",
      "text/plain": "<Figure size 720x360 with 1 Axes>"
     },
     "metadata": {
      "needs_background": "light"
     },
     "output_type": "display_data"
    }
   ],
   "source": [
    "plt.figure(figsize=(10,5))\n",
    "top_tweet_bigrams=get_top_tweet_bigrams(tweets_df['text'])[:10]\n",
    "x,y=map(list,zip(*top_tweet_bigrams))\n",
    "sns.barplot(x=y,y=x)"
   ]
  },
  {
   "cell_type": "markdown",
   "metadata": {},
   "source": [
    "### Trigrama"
   ]
  },
  {
   "cell_type": "code",
   "execution_count": 19,
   "metadata": {},
   "outputs": [],
   "source": [
    "def get_top_tweet_trigrams(corpus, n=None):\n",
    "    vec = CountVectorizer(ngram_range=(3, 3)).fit(corpus)\n",
    "    bag_of_words = vec.transform(corpus)\n",
    "    sum_words = bag_of_words.sum(axis=0) \n",
    "    words_freq = [(word, sum_words[0, idx]) for word, idx in vec.vocabulary_.items()]\n",
    "    words_freq =sorted(words_freq, key = lambda x: x[1], reverse=True)\n",
    "    return words_freq[:n]"
   ]
  },
  {
   "cell_type": "code",
   "execution_count": 20,
   "metadata": {},
   "outputs": [
    {
     "data": {
      "text/plain": "<AxesSubplot:>"
     },
     "execution_count": 20,
     "metadata": {},
     "output_type": "execute_result"
    },
    {
     "data": {
      "image/png": "[encoded data removed]",
      "text/plain": "<Figure size 720x360 with 1 Axes>"
     },
     "metadata": {
      "needs_background": "light"
     },
     "output_type": "display_data"
    }
   ],
   "source": [
    "plt.figure(figsize=(10,5))\n",
    "top_tweet_trigrams=get_top_tweet_trigrams(tweets_df['text'])[:10]\n",
    "x,y=map(list,zip(*top_tweet_trigrams))\n",
    "sns.barplot(x=y,y=x)"
   ]
  },
  {
   "cell_type": "markdown",
   "metadata": {},
   "source": [
    "# Limpieza de los datos"
   ]
  },
  {
   "cell_type": "markdown",
   "metadata": {},
   "source": [
    "### Quitar URLs"
   ]
  },
  {
   "cell_type": "code",
   "execution_count": 21,
   "metadata": {},
   "outputs": [],
   "source": [
    "def remove_URL(text):\n",
    "  url = re.compile(r'https?://\\S+|www\\.\\S+')\n",
    "  return url.sub(r'', text)"
   ]
  },
  {
   "cell_type": "code",
   "execution_count": 22,
   "metadata": {},
   "outputs": [],
   "source": [
    "tweets_df['text'] = tweets_df['text'].apply(lambda x : remove_URL(x))"
   ]
  },
  {
   "cell_type": "markdown",
   "metadata": {},
   "source": [
    "### Quitar tags HTML"
   ]
  },
  {
   "cell_type": "code",
   "execution_count": 23,
   "metadata": {},
   "outputs": [],
   "source": [
    "def remove_HTML(text):\n",
    "  html = re.compile(r'<.*?>')\n",
    "  return html.sub(r'', text)"
   ]
  },
  {
   "cell_type": "code",
   "execution_count": 24,
   "metadata": {},
   "outputs": [],
   "source": [
    "tweets_df['text'] = tweets_df['text'].apply(lambda x : remove_HTML(x))"
   ]
  },
  {
   "cell_type": "markdown",
   "metadata": {},
   "source": [
    "### Quitar emojis"
   ]
  },
  {
   "cell_type": "code",
   "execution_count": 25,
   "metadata": {},
   "outputs": [],
   "source": [
    "def remove_emoji(text):\n",
    "    emoji_pattern = re.compile(\"[\"\n",
    "                           u\"\\U0001F600-\\U0001F64F\"  # emoticons\n",
    "                           u\"\\U0001F300-\\U0001F5FF\"  # symbols & pictographs\n",
    "                           u\"\\U0001F680-\\U0001F6FF\"  # transport & map symbols\n",
    "                           u\"\\U0001F1E0-\\U0001F1FF\"  # flags (iOS)\n",
    "                           u\"\\U00002702-\\U000027B0\"\n",
    "                           u\"\\U000024C2-\\U0001F251\"\n",
    "                           \"]+\", flags=re.UNICODE)\n",
    "    return emoji_pattern.sub(r'', text)"
   ]
  },
  {
   "cell_type": "code",
   "execution_count": 26,
   "metadata": {},
   "outputs": [],
   "source": [
    "tweets_df['text'] = tweets_df['text'].apply(lambda x : remove_emoji(x))"
   ]
  },
  {
   "cell_type": "markdown",
   "metadata": {},
   "source": [
    "### Quitar puntuacion"
   ]
  },
  {
   "cell_type": "code",
   "execution_count": 27,
   "metadata": {},
   "outputs": [],
   "source": [
    "def remove_point(text):\n",
    "  table = str.maketrans('', '', string.punctuation)\n",
    "  return text.translate(table)"
   ]
  },
  {
   "cell_type": "code",
   "execution_count": 28,
   "metadata": {},
   "outputs": [],
   "source": [
    "tweets_df['text'] = tweets_df['text'].apply(lambda x : remove_point(x))"
   ]
  },
  {
   "cell_type": "markdown",
   "metadata": {},
   "source": [
    "## Quitar duplicados "
   ]
  },
  {
   "cell_type": "code",
   "execution_count": 29,
   "metadata": {},
   "outputs": [
    {
     "name": "stdout",
     "output_type": "stream",
     "text": [
      "len 1 243\n",
      "len 2 197\n"
     ]
    }
   ],
   "source": [
    "print('len 1', len(tweets_df))\n",
    "tweets_df.drop_duplicates(subset=['text', 'user_name'], inplace=True)\n",
    "print('len 2', len(tweets_df))"
   ]
  },
  {
   "cell_type": "markdown",
   "metadata": {},
   "source": [
    "# Analisis post limpieza"
   ]
  },
  {
   "cell_type": "markdown",
   "metadata": {},
   "source": [
    "### Caracteres"
   ]
  },
  {
   "cell_type": "code",
   "execution_count": 30,
   "metadata": {},
   "outputs": [
    {
     "data": {
      "image/png": "[encoded data removed]",
      "text/plain": "<Figure size 432x288 with 1 Axes>"
     },
     "metadata": {
      "needs_background": "light"
     },
     "output_type": "display_data"
    }
   ],
   "source": [
    "tweet_length = tweets_df['text'].str.len()\n",
    "plt.hist(tweet_length)\n",
    "plt.title('Cantidad de caracteres del tweet')\n",
    "plt.show()"
   ]
  },
  {
   "cell_type": "markdown",
   "metadata": {},
   "source": [
    "### Palabras"
   ]
  },
  {
   "cell_type": "code",
   "execution_count": 31,
   "metadata": {},
   "outputs": [
    {
     "data": {
      "image/png": "[encoded data removed]",
      "text/plain": "<Figure size 432x288 with 1 Axes>"
     },
     "metadata": {
      "needs_background": "light"
     },
     "output_type": "display_data"
    }
   ],
   "source": [
    "tweet_length = tweets_df['text'].str.split().map(lambda x: len(x))\n",
    "plt.hist(tweet_length)\n",
    "plt.title('Cantidad de palabras del tweet')\n",
    "plt.show()"
   ]
  },
  {
   "cell_type": "markdown",
   "metadata": {},
   "source": [
    "### Promedio longitud"
   ]
  },
  {
   "cell_type": "code",
   "execution_count": 32,
   "metadata": {},
   "outputs": [
    {
     "name": "stderr",
     "output_type": "stream",
     "text": [
      "C:\\Users\\reque\\AppData\\Local\\Packages\\PythonSoftwareFoundation.Python.3.10_qbz5n2kfra8p0\\LocalCache\\local-packages\\Python310\\site-packages\\seaborn\\distributions.py:2619: FutureWarning: `distplot` is a deprecated function and will be removed in a future version. Please adapt your code to use either `displot` (a figure-level function with similar flexibility) or `histplot` (an axes-level function for histograms).\n",
      "  warnings.warn(msg, FutureWarning)\n"
     ]
    },
    {
     "data": {
      "text/plain": "<AxesSubplot:xlabel='text', ylabel='Density'>"
     },
     "execution_count": 32,
     "metadata": {},
     "output_type": "execute_result"
    },
    {
     "data": {
      "image/png": "[encoded data removed]",
      "text/plain": "<Figure size 432x288 with 1 Axes>"
     },
     "metadata": {
      "needs_background": "light"
     },
     "output_type": "display_data"
    }
   ],
   "source": [
    "word=tweets_df['text'].str.split().apply(lambda x : [len(i) for i in x])\n",
    "sns.distplot(word.map(lambda x: np.mean(x)))"
   ]
  },
  {
   "cell_type": "markdown",
   "metadata": {},
   "source": [
    "### Palabras comunes"
   ]
  },
  {
   "cell_type": "code",
   "execution_count": 33,
   "metadata": {},
   "outputs": [
    {
     "data": {
      "text/plain": "<AxesSubplot:>"
     },
     "execution_count": 33,
     "metadata": {},
     "output_type": "execute_result"
    },
    {
     "name": "stderr",
     "output_type": "stream",
     "text": [
      "C:\\Users\\reque\\AppData\\Local\\Packages\\PythonSoftwareFoundation.Python.3.10_qbz5n2kfra8p0\\LocalCache\\local-packages\\Python310\\site-packages\\IPython\\core\\pylabtools.py:151: UserWarning: Glyph 128138 (\\N{PILL}) missing from current font.\n",
      "  fig.canvas.print_figure(bytes_io, **kw)\n",
      "C:\\Users\\reque\\AppData\\Local\\Packages\\PythonSoftwareFoundation.Python.3.10_qbz5n2kfra8p0\\LocalCache\\local-packages\\Python310\\site-packages\\IPython\\core\\pylabtools.py:151: UserWarning: Glyph 128064 (\\N{EYES}) missing from current font.\n",
      "  fig.canvas.print_figure(bytes_io, **kw)\n",
      "C:\\Users\\reque\\AppData\\Local\\Packages\\PythonSoftwareFoundation.Python.3.10_qbz5n2kfra8p0\\LocalCache\\local-packages\\Python310\\site-packages\\IPython\\core\\pylabtools.py:151: UserWarning: Glyph 127819 (\\N{LEMON}) missing from current font.\n",
      "  fig.canvas.print_figure(bytes_io, **kw)\n"
     ]
    },
    {
     "data": {
      "image/png": "[encoded data removed]",
      "text/plain": "<Figure size 432x288 with 1 Axes>"
     },
     "metadata": {
      "needs_background": "light"
     },
     "output_type": "display_data"
    }
   ],
   "source": [
    "counter=Counter(corpus)\n",
    "most=counter.most_common()\n",
    "x=[]\n",
    "y=[]\n",
    "for word,count in most[:40]:\n",
    "    if (word not in stop) :\n",
    "        x.append(word)\n",
    "        y.append(count)\n",
    "\n",
    "sns.barplot(x=y,y=x)"
   ]
  },
  {
   "cell_type": "markdown",
   "metadata": {},
   "source": [
    "### Analisis ngramas"
   ]
  },
  {
   "cell_type": "markdown",
   "metadata": {},
   "source": [
    "#### Bigrama"
   ]
  },
  {
   "cell_type": "code",
   "execution_count": 34,
   "metadata": {},
   "outputs": [],
   "source": [
    "def get_top_tweet_bigrams(corpus, n=None):\n",
    "    vec = CountVectorizer(ngram_range=(2, 2)).fit(corpus)\n",
    "    bag_of_words = vec.transform(corpus)\n",
    "    sum_words = bag_of_words.sum(axis=0) \n",
    "    words_freq = [(word, sum_words[0, idx]) for word, idx in vec.vocabulary_.items()]\n",
    "    words_freq =sorted(words_freq, key = lambda x: x[1], reverse=True)\n",
    "    return words_freq[:n]"
   ]
  },
  {
   "cell_type": "code",
   "execution_count": 35,
   "metadata": {},
   "outputs": [
    {
     "data": {
      "text/plain": "<AxesSubplot:>"
     },
     "execution_count": 35,
     "metadata": {},
     "output_type": "execute_result"
    },
    {
     "data": {
      "image/png": "[encoded data removed]",
      "text/plain": "<Figure size 720x360 with 1 Axes>"
     },
     "metadata": {
      "needs_background": "light"
     },
     "output_type": "display_data"
    }
   ],
   "source": [
    "plt.figure(figsize=(10,5))\n",
    "top_tweet_bigrams=get_top_tweet_bigrams(tweets_df['text'])[:10]\n",
    "x,y=map(list,zip(*top_tweet_bigrams))\n",
    "sns.barplot(x=y,y=x)"
   ]
  },
  {
   "cell_type": "markdown",
   "metadata": {},
   "source": [
    "#### Trigrama"
   ]
  },
  {
   "cell_type": "code",
   "execution_count": 36,
   "metadata": {},
   "outputs": [],
   "source": [
    "def get_top_tweet_trigrams(corpus, n=None):\n",
    "    vec = CountVectorizer(ngram_range=(3, 3)).fit(corpus)\n",
    "    bag_of_words = vec.transform(corpus)\n",
    "    sum_words = bag_of_words.sum(axis=0) \n",
    "    words_freq = [(word, sum_words[0, idx]) for word, idx in vec.vocabulary_.items()]\n",
    "    words_freq =sorted(words_freq, key = lambda x: x[1], reverse=True)\n",
    "    return words_freq[:n]"
   ]
  },
  {
   "cell_type": "code",
   "execution_count": 37,
   "metadata": {},
   "outputs": [
    {
     "data": {
      "text/plain": "<AxesSubplot:>"
     },
     "execution_count": 37,
     "metadata": {},
     "output_type": "execute_result"
    },
    {
     "data": {
      "image/png": "[encoded data removed]",
      "text/plain": "<Figure size 720x360 with 1 Axes>"
     },
     "metadata": {
      "needs_background": "light"
     },
     "output_type": "display_data"
    }
   ],
   "source": [
    "plt.figure(figsize=(10,5))\n",
    "top_tweet_trigrams=get_top_tweet_trigrams(tweets_df['text'])[:10]\n",
    "x,y=map(list,zip(*top_tweet_trigrams))\n",
    "sns.barplot(x=y,y=x)"
   ]
  },
  {
   "cell_type": "markdown",
   "metadata": {},
   "source": [
    "## Analisis sentimientos"
   ]
  },
  {
   "cell_type": "code",
   "execution_count": 38,
   "metadata": {},
   "outputs": [],
   "source": [
    "sia = SentimentIntensityAnalyzer()"
   ]
  },
  {
   "cell_type": "markdown",
   "metadata": {},
   "source": [
    "### Determinacion de valores de positividad, neutralidad, y negatividad"
   ]
  },
  {
   "cell_type": "code",
   "execution_count": 39,
   "metadata": {},
   "outputs": [],
   "source": [
    "def getScoreText(text):\n",
    "    scoreObject = sia.polarity_scores(text)\n",
    "    score = scoreObject['compound']\n",
    "    return score"
   ]
  },
  {
   "cell_type": "code",
   "execution_count": 40,
   "metadata": {},
   "outputs": [],
   "source": [
    "tweets_df['score'] = tweets_df['text'].apply(lambda x : getScoreText(x))"
   ]
  },
  {
   "cell_type": "markdown",
   "metadata": {},
   "source": [
    "### Determinacion de polaridad de acuerdo a los valores"
   ]
  },
  {
   "cell_type": "code",
   "execution_count": 41,
   "metadata": {},
   "outputs": [],
   "source": [
    "#rangos de score\n",
    "def setPolarity(score):\n",
    "    if score < -0.33:\n",
    "        return 'negative'\n",
    "    elif score > 0.33:\n",
    "        return 'positive'\n",
    "    else:\n",
    "        return 'neutral'"
   ]
  },
  {
   "cell_type": "code",
   "execution_count": 42,
   "metadata": {},
   "outputs": [],
   "source": [
    "tweets_df['polarity'] = tweets_df['score'].apply(lambda x : setPolarity(x))"
   ]
  },
  {
   "cell_type": "markdown",
   "metadata": {},
   "source": [
    "### Tweets mas positivos y negativos"
   ]
  },
  {
   "cell_type": "markdown",
   "metadata": {},
   "source": [
    "#### 10 mas negativos"
   ]
  },
  {
   "cell_type": "code",
   "execution_count": 43,
   "metadata": {},
   "outputs": [
    {
     "data": {
      "text/html": "<div>\n<style scoped>\n    .dataframe tbody tr th:only-of-type {\n        vertical-align: middle;\n    }\n\n    .dataframe tbody tr th {\n        vertical-align: top;\n    }\n\n    .dataframe thead th {\n        text-align: right;\n    }\n</style>\n<table border=\"1\" class=\"dataframe\">\n  <thead>\n    <tr style=\"text-align: right;\">\n      <th></th>\n      <th>user_name</th>\n      <th>user_location</th>\n      <th>user_description</th>\n      <th>user_verified</th>\n      <th>date</th>\n      <th>text</th>\n      <th>hashtags</th>\n      <th>source</th>\n      <th>score</th>\n      <th>polarity</th>\n    </tr>\n  </thead>\n  <tbody>\n    <tr>\n      <th>125</th>\n      <td>Vj***</td>\n      <td>India</td>\n      <td>Ship will be safe @ Harbour!! But that's not t...</td>\n      <td>False</td>\n      <td>2022-10-12 15:05:36+00:00</td>\n      <td>MR L O N E L Y   \\n\\niphone14promax applewatch...</td>\n      <td>[iphone14promax, applewatchultra, airpodspro2,...</td>\n      <td>Instagram</td>\n      <td>-0.8957</td>\n      <td>negative</td>\n    </tr>\n    <tr>\n      <th>20</th>\n      <td>H’B 🎙🎶</td>\n      <td>Nigeria</td>\n      <td>Life of an entertainer 🥰. H’B</td>\n      <td>False</td>\n      <td>2022-10-16 20:45:55+00:00</td>\n      <td>I wan post one mad art but I know say some peo...</td>\n      <td>None</td>\n      <td>Twitter for iPhone</td>\n      <td>-0.8481</td>\n      <td>negative</td>\n    </tr>\n    <tr>\n      <th>207</th>\n      <td>Volodymyr 🇺🇦</td>\n      <td>Україна</td>\n      <td>Ukrainian designer | 3D Product Visualisation ...</td>\n      <td>False</td>\n      <td>2022-10-10 11:28:52+00:00</td>\n      <td>Theall new iPad 10gen starting at 399\\n A15\\n ...</td>\n      <td>None</td>\n      <td>Twitter Web App</td>\n      <td>-0.6523</td>\n      <td>negative</td>\n    </tr>\n    <tr>\n      <th>70</th>\n      <td>Learny Land</td>\n      <td>Barcelona</td>\n      <td>Where Curiosity Grows 🚀\\nWe develop educationa...</td>\n      <td>False</td>\n      <td>2022-10-14 11:55:57+00:00</td>\n      <td>Looking forward to Halloween \\n\\nDont wait any...</td>\n      <td>[Halloween]</td>\n      <td>Twitter Web App</td>\n      <td>-0.6317</td>\n      <td>negative</td>\n    </tr>\n    <tr>\n      <th>191</th>\n      <td>Ade-Akanfe 🎤💻📱</td>\n      <td>Lagos, Nigeria</td>\n      <td>Christian || Gospel Entertainment 🎤 || UI Desi...</td>\n      <td>False</td>\n      <td>2022-10-10 18:42:58+00:00</td>\n      <td>Ikeja… Awolowo Way 0500pm\\nShot and edited wit...</td>\n      <td>[UkraineRussianWar, jendragonisreal, depression]</td>\n      <td>Twitter for iPhone</td>\n      <td>-0.5719</td>\n      <td>negative</td>\n    </tr>\n    <tr>\n      <th>205</th>\n      <td>First India</td>\n      <td>Jaipur, India</td>\n      <td>Welcome to the Official Twitter page of First ...</td>\n      <td>False</td>\n      <td>2022-10-10 12:15:40+00:00</td>\n      <td>Tech giant Apple is likely planning to mark th...</td>\n      <td>None</td>\n      <td>Twitter Web App</td>\n      <td>-0.5267</td>\n      <td>negative</td>\n    </tr>\n    <tr>\n      <th>127</th>\n      <td>Khankhalil</td>\n      <td>پاکستان</td>\n      <td>KP IPR INFLUENCER</td>\n      <td>False</td>\n      <td>2022-10-12 14:27:21+00:00</td>\n      <td>Prices of LNG Sky Rocketing  \\n\\nGovernment Di...</td>\n      <td>None</td>\n      <td>Twitter for iPhone</td>\n      <td>-0.4939</td>\n      <td>negative</td>\n    </tr>\n    <tr>\n      <th>212</th>\n      <td>Craig</td>\n      <td></td>\n      <td>apple's favorite pasta</td>\n      <td>False</td>\n      <td>2022-10-10 07:13:03+00:00</td>\n      <td>Its unfair we only saw Craig once in an AppleE...</td>\n      <td>[AppleEvent]</td>\n      <td>Twitter for iPhone</td>\n      <td>-0.4767</td>\n      <td>negative</td>\n    </tr>\n    <tr>\n      <th>46</th>\n      <td>Pravin</td>\n      <td>சிங்கார சென்னை✨</td>\n      <td>Chasing and searching something to stick into ...</td>\n      <td>False</td>\n      <td>2022-10-15 18:50:49+00:00</td>\n      <td>appltrack markgurman If there is iOS 16 on you...</td>\n      <td>None</td>\n      <td>Twitter for iPhone</td>\n      <td>-0.4449</td>\n      <td>negative</td>\n    </tr>\n    <tr>\n      <th>33</th>\n      <td>Neil Shah</td>\n      <td>Global</td>\n      <td>Partner &amp; Research VP @CounterPointTR | Techno...</td>\n      <td>True</td>\n      <td>2022-10-16 08:49:59+00:00</td>\n      <td>Apple Watch Series 8 here a quick unboxing amp...</td>\n      <td>[unboxing]</td>\n      <td>Twitter for iPhone</td>\n      <td>-0.4019</td>\n      <td>negative</td>\n    </tr>\n  </tbody>\n</table>\n</div>",
      "text/plain": "          user_name    user_location  \\\n125           Vj***            India   \n20           H’B 🎙🎶         Nigeria    \n207    Volodymyr 🇺🇦          Україна   \n70      Learny Land        Barcelona   \n191  Ade-Akanfe 🎤💻📱   Lagos, Nigeria   \n205     First India    Jaipur, India   \n127      Khankhalil          پاکستان   \n212           Craig                    \n46           Pravin  சிங்கார சென்னை✨   \n33        Neil Shah           Global   \n\n                                      user_description  user_verified  \\\n125  Ship will be safe @ Harbour!! But that's not t...          False   \n20                       Life of an entertainer 🥰. H’B          False   \n207  Ukrainian designer | 3D Product Visualisation ...          False   \n70   Where Curiosity Grows 🚀\\nWe develop educationa...          False   \n191  Christian || Gospel Entertainment 🎤 || UI Desi...          False   \n205  Welcome to the Official Twitter page of First ...          False   \n127                                  KP IPR INFLUENCER          False   \n212                             apple's favorite pasta          False   \n46   Chasing and searching something to stick into ...          False   \n33   Partner & Research VP @CounterPointTR | Techno...           True   \n\n                         date  \\\n125 2022-10-12 15:05:36+00:00   \n20  2022-10-16 20:45:55+00:00   \n207 2022-10-10 11:28:52+00:00   \n70  2022-10-14 11:55:57+00:00   \n191 2022-10-10 18:42:58+00:00   \n205 2022-10-10 12:15:40+00:00   \n127 2022-10-12 14:27:21+00:00   \n212 2022-10-10 07:13:03+00:00   \n46  2022-10-15 18:50:49+00:00   \n33  2022-10-16 08:49:59+00:00   \n\n                                                  text  \\\n125  MR L O N E L Y   \\n\\niphone14promax applewatch...   \n20   I wan post one mad art but I know say some peo...   \n207  Theall new iPad 10gen starting at 399\\n A15\\n ...   \n70   Looking forward to Halloween \\n\\nDont wait any...   \n191  Ikeja… Awolowo Way 0500pm\\nShot and edited wit...   \n205  Tech giant Apple is likely planning to mark th...   \n127  Prices of LNG Sky Rocketing  \\n\\nGovernment Di...   \n212  Its unfair we only saw Craig once in an AppleE...   \n46   appltrack markgurman If there is iOS 16 on you...   \n33   Apple Watch Series 8 here a quick unboxing amp...   \n\n                                              hashtags              source  \\\n125  [iphone14promax, applewatchultra, airpodspro2,...           Instagram   \n20                                                None  Twitter for iPhone   \n207                                               None     Twitter Web App   \n70                                         [Halloween]     Twitter Web App   \n191   [UkraineRussianWar, jendragonisreal, depression]  Twitter for iPhone   \n205                                               None     Twitter Web App   \n127                                               None  Twitter for iPhone   \n212                                       [AppleEvent]  Twitter for iPhone   \n46                                                None  Twitter for iPhone   \n33                                          [unboxing]  Twitter for iPhone   \n\n      score  polarity  \n125 -0.8957  negative  \n20  -0.8481  negative  \n207 -0.6523  negative  \n70  -0.6317  negative  \n191 -0.5719  negative  \n205 -0.5267  negative  \n127 -0.4939  negative  \n212 -0.4767  negative  \n46  -0.4449  negative  \n33  -0.4019  negative  "
     },
     "execution_count": 43,
     "metadata": {},
     "output_type": "execute_result"
    }
   ],
   "source": [
    "tweets_df.sort_values(by=['score']).head(10)"
   ]
  },
  {
   "cell_type": "markdown",
   "metadata": {},
   "source": [
    "#### 10 mas positivos"
   ]
  },
  {
   "cell_type": "code",
   "execution_count": 44,
   "metadata": {},
   "outputs": [
    {
     "data": {
      "text/html": "<div>\n<style scoped>\n    .dataframe tbody tr th:only-of-type {\n        vertical-align: middle;\n    }\n\n    .dataframe tbody tr th {\n        vertical-align: top;\n    }\n\n    .dataframe thead th {\n        text-align: right;\n    }\n</style>\n<table border=\"1\" class=\"dataframe\">\n  <thead>\n    <tr style=\"text-align: right;\">\n      <th></th>\n      <th>user_name</th>\n      <th>user_location</th>\n      <th>user_description</th>\n      <th>user_verified</th>\n      <th>date</th>\n      <th>text</th>\n      <th>hashtags</th>\n      <th>source</th>\n      <th>score</th>\n      <th>polarity</th>\n    </tr>\n  </thead>\n  <tbody>\n    <tr>\n      <th>135</th>\n      <td>WhitestoneDome Deutschland</td>\n      <td>Berlin, Germany</td>\n      <td>Full protection You can't see \\nhttps://t.co/K...</td>\n      <td>False</td>\n      <td>2022-10-12 11:21:01+00:00</td>\n      <td>The best Apple iPhone 14 screen protectors  di...</td>\n      <td>None</td>\n      <td>Buffer</td>\n      <td>0.9317</td>\n      <td>positive</td>\n    </tr>\n    <tr>\n      <th>35</th>\n      <td>WhitestoneDome Deutschland</td>\n      <td>Berlin, Germany</td>\n      <td>Full protection You can't see \\nhttps://t.co/K...</td>\n      <td>False</td>\n      <td>2022-10-16 08:00:04+00:00</td>\n      <td>The best Apple iPhone 14 screen protectors  di...</td>\n      <td>None</td>\n      <td>Buffer</td>\n      <td>0.9317</td>\n      <td>positive</td>\n    </tr>\n    <tr>\n      <th>129</th>\n      <td>WhitestoneDome Deutschland</td>\n      <td>Berlin, Germany</td>\n      <td>Full protection You can't see \\nhttps://t.co/K...</td>\n      <td>False</td>\n      <td>2022-10-12 14:00:42+00:00</td>\n      <td>The best Apple iPhone 14 screen protectors  di...</td>\n      <td>None</td>\n      <td>Buffer</td>\n      <td>0.9317</td>\n      <td>positive</td>\n    </tr>\n    <tr>\n      <th>68</th>\n      <td>🤎 🦋 HARUTO 🦋 🤎 HELLO 👋 🤙 🌵 👁</td>\n      <td></td>\n      <td>#HARUTO #하루토 #ハルト #温斗\\n\\nHELLO 👋\\n\\n#트레저  \\n  ...</td>\n      <td>False</td>\n      <td>2022-10-14 15:09:45+00:00</td>\n      <td>Apple iPhone 14\\n\\nHARUTO IM SO HAPPY FOR YOU ...</td>\n      <td>[Apple, iPhone14, iPhone14Pro]</td>\n      <td>Twitter Web App</td>\n      <td>0.9172</td>\n      <td>positive</td>\n    </tr>\n    <tr>\n      <th>29</th>\n      <td>Han_globaltrade</td>\n      <td>United States</td>\n      <td>Software and Electronic Products. 💻👍\\nAmazon A...</td>\n      <td>False</td>\n      <td>2022-10-16 11:09:33+00:00</td>\n      <td>Happy Sunday Apple 20W USBC type C that is wal...</td>\n      <td>None</td>\n      <td>Twitter Web App</td>\n      <td>0.9022</td>\n      <td>positive</td>\n    </tr>\n    <tr>\n      <th>45</th>\n      <td>Whitestone_EU</td>\n      <td></td>\n      <td>Best Device Protectors\\nDome Glass/ EZ Glass/ ...</td>\n      <td>False</td>\n      <td>2022-10-15 18:56:01+00:00</td>\n      <td>The best Apple iPhone 14 screen protectors  di...</td>\n      <td>None</td>\n      <td>Buffer</td>\n      <td>0.8934</td>\n      <td>positive</td>\n    </tr>\n    <tr>\n      <th>7</th>\n      <td>WhitestoneDome Deutschland</td>\n      <td>Berlin, Germany</td>\n      <td>Full protection You can't see \\nhttps://t.co/K...</td>\n      <td>False</td>\n      <td>2022-10-17 13:21:00+00:00</td>\n      <td>The best Apple iPhone 14 screen protectors  di...</td>\n      <td>None</td>\n      <td>Buffer</td>\n      <td>0.8934</td>\n      <td>positive</td>\n    </tr>\n    <tr>\n      <th>215</th>\n      <td>WhitestoneDome Deutschland</td>\n      <td>Berlin, Germany</td>\n      <td>Full protection You can't see \\nhttps://t.co/K...</td>\n      <td>False</td>\n      <td>2022-10-10 05:11:00+00:00</td>\n      <td>The best Apple iPhone 14 screen protectors  di...</td>\n      <td>None</td>\n      <td>Buffer</td>\n      <td>0.8934</td>\n      <td>positive</td>\n    </tr>\n    <tr>\n      <th>21</th>\n      <td>WhitestoneDome Deutschland</td>\n      <td>Berlin, Germany</td>\n      <td>Full protection You can't see \\nhttps://t.co/K...</td>\n      <td>False</td>\n      <td>2022-10-16 20:44:00+00:00</td>\n      <td>The best Apple iPhone 14 screen protectors  di...</td>\n      <td>None</td>\n      <td>Buffer</td>\n      <td>0.8934</td>\n      <td>positive</td>\n    </tr>\n    <tr>\n      <th>140</th>\n      <td>Lynne K Lynch</td>\n      <td>Dayton OhioUSA #DaytonStrong</td>\n      <td>Be positive\\nstay kind,always smile even if sa...</td>\n      <td>False</td>\n      <td>2022-10-12 07:08:28+00:00</td>\n      <td>AmanAdwin Lovely photo of U \\n2Yepits that tim...</td>\n      <td>[photo]</td>\n      <td>Twitter for Android</td>\n      <td>0.8689</td>\n      <td>positive</td>\n    </tr>\n  </tbody>\n</table>\n</div>",
      "text/plain": "                        user_name                 user_location  \\\n135    WhitestoneDome Deutschland               Berlin, Germany   \n35     WhitestoneDome Deutschland               Berlin, Germany   \n129    WhitestoneDome Deutschland               Berlin, Germany   \n68   🤎 🦋 HARUTO 🦋 🤎 HELLO 👋 🤙 🌵 👁                                 \n29                Han_globaltrade                 United States   \n45                  Whitestone_EU                                 \n7      WhitestoneDome Deutschland               Berlin, Germany   \n215    WhitestoneDome Deutschland               Berlin, Germany   \n21     WhitestoneDome Deutschland               Berlin, Germany   \n140                 Lynne K Lynch  Dayton OhioUSA #DaytonStrong   \n\n                                      user_description  user_verified  \\\n135  Full protection You can't see \\nhttps://t.co/K...          False   \n35   Full protection You can't see \\nhttps://t.co/K...          False   \n129  Full protection You can't see \\nhttps://t.co/K...          False   \n68   #HARUTO #하루토 #ハルト #温斗\\n\\nHELLO 👋\\n\\n#트레저  \\n  ...          False   \n29   Software and Electronic Products. 💻👍\\nAmazon A...          False   \n45   Best Device Protectors\\nDome Glass/ EZ Glass/ ...          False   \n7    Full protection You can't see \\nhttps://t.co/K...          False   \n215  Full protection You can't see \\nhttps://t.co/K...          False   \n21   Full protection You can't see \\nhttps://t.co/K...          False   \n140  Be positive\\nstay kind,always smile even if sa...          False   \n\n                         date  \\\n135 2022-10-12 11:21:01+00:00   \n35  2022-10-16 08:00:04+00:00   \n129 2022-10-12 14:00:42+00:00   \n68  2022-10-14 15:09:45+00:00   \n29  2022-10-16 11:09:33+00:00   \n45  2022-10-15 18:56:01+00:00   \n7   2022-10-17 13:21:00+00:00   \n215 2022-10-10 05:11:00+00:00   \n21  2022-10-16 20:44:00+00:00   \n140 2022-10-12 07:08:28+00:00   \n\n                                                  text  \\\n135  The best Apple iPhone 14 screen protectors  di...   \n35   The best Apple iPhone 14 screen protectors  di...   \n129  The best Apple iPhone 14 screen protectors  di...   \n68   Apple iPhone 14\\n\\nHARUTO IM SO HAPPY FOR YOU ...   \n29   Happy Sunday Apple 20W USBC type C that is wal...   \n45   The best Apple iPhone 14 screen protectors  di...   \n7    The best Apple iPhone 14 screen protectors  di...   \n215  The best Apple iPhone 14 screen protectors  di...   \n21   The best Apple iPhone 14 screen protectors  di...   \n140  AmanAdwin Lovely photo of U \\n2Yepits that tim...   \n\n                           hashtags               source   score  polarity  \n135                            None               Buffer  0.9317  positive  \n35                             None               Buffer  0.9317  positive  \n129                            None               Buffer  0.9317  positive  \n68   [Apple, iPhone14, iPhone14Pro]      Twitter Web App  0.9172  positive  \n29                             None      Twitter Web App  0.9022  positive  \n45                             None               Buffer  0.8934  positive  \n7                              None               Buffer  0.8934  positive  \n215                            None               Buffer  0.8934  positive  \n21                             None               Buffer  0.8934  positive  \n140                         [photo]  Twitter for Android  0.8689  positive  "
     },
     "execution_count": 44,
     "metadata": {},
     "output_type": "execute_result"
    }
   ],
   "source": [
    "tweets_df.sort_values(by=['score'], ascending=False).head(10)"
   ]
  },
  {
   "cell_type": "markdown",
   "metadata": {},
   "source": [
    "#### Conteo de tweets en general"
   ]
  },
  {
   "cell_type": "code",
   "execution_count": 45,
   "metadata": {},
   "outputs": [
    {
     "data": {
      "text/plain": "-0.8957    1\n-0.8481    1\n-0.6523    1\n-0.6317    1\n-0.5719    1\n          ..\n 0.8689    1\n 0.8934    4\n 0.9022    1\n 0.9172    1\n 0.9317    3\nName: score, Length: 64, dtype: int64"
     },
     "execution_count": 45,
     "metadata": {},
     "output_type": "execute_result"
    }
   ],
   "source": [
    "tweets_df['score'].value_counts().sort_index()"
   ]
  },
  {
   "cell_type": "code",
   "execution_count": 46,
   "metadata": {},
   "outputs": [
    {
     "name": "stderr",
     "output_type": "stream",
     "text": [
      "C:\\Users\\reque\\AppData\\Local\\Packages\\PythonSoftwareFoundation.Python.3.10_qbz5n2kfra8p0\\LocalCache\\local-packages\\Python310\\site-packages\\seaborn\\distributions.py:2619: FutureWarning: `distplot` is a deprecated function and will be removed in a future version. Please adapt your code to use either `displot` (a figure-level function with similar flexibility) or `histplot` (an axes-level function for histograms).\n",
      "  warnings.warn(msg, FutureWarning)\n"
     ]
    },
    {
     "data": {
      "text/plain": "<AxesSubplot:xlabel='score', ylabel='Density'>"
     },
     "execution_count": 46,
     "metadata": {},
     "output_type": "execute_result"
    },
    {
     "data": {
      "image/png": "[encoded data removed]",
      "text/plain": "<Figure size 432x288 with 1 Axes>"
     },
     "metadata": {
      "needs_background": "light"
     },
     "output_type": "display_data"
    }
   ],
   "source": [
    "scores=tweets_df['score'].value_counts().sort_index()\n",
    "sns.distplot(scores)"
   ]
  },
  {
   "cell_type": "code",
   "execution_count": 47,
   "metadata": {},
   "outputs": [],
   "source": [
    "polarityCount = tweets_df['polarity'].value_counts().rename_axis('polarity').reset_index(name='score')"
   ]
  },
  {
   "cell_type": "markdown",
   "metadata": {},
   "source": [
    "### Conclusiones"
   ]
  },
  {
   "cell_type": "markdown",
   "metadata": {},
   "source": [
    "El algoritmo toma como negativo el uso de palabras negativas sin tomar en cuenta el contexto. (e.g. ID 166 Tabla de Negativos)\n",
    "El algoritmo no reconoce el uso del sarcasmo en algunos de los tweets. (e.g. ID 405 Tabla de Negativos)\n",
    "Los comentarios positivos tienen un mejor resultado con el analisis de sentimientos.\n",
    "Los comentarios positivos tienen mayor volumen ya que existen bots que repiten el mismo tweet etiquetando a distintas personas en cada tweet."
   ]
  },
  {
   "cell_type": "markdown",
   "metadata": {},
   "source": [
    "# Dashboard"
   ]
  },
  {
   "cell_type": "code",
   "execution_count": 48,
   "metadata": {},
   "outputs": [
    {
     "name": "stderr",
     "output_type": "stream",
     "text": [
      "C:\\Users\\reque\\AppData\\Local\\Temp\\ipykernel_23840\\2339185008.py:2: UserWarning: \n",
      "The dash_core_components package is deprecated. Please replace\n",
      "`import dash_core_components as dcc` with `from dash import dcc`\n",
      "  import dash_core_components as dcc\n",
      "C:\\Users\\reque\\AppData\\Local\\Temp\\ipykernel_23840\\2339185008.py:3: UserWarning: \n",
      "The dash_html_components package is deprecated. Please replace\n",
      "`import dash_html_components as html` with `from dash import html`\n",
      "  import dash_html_components as html\n"
     ]
    }
   ],
   "source": [
    "import plotly.express as px\n",
    "import dash_core_components as dcc\n",
    "import dash_html_components as html\n",
    "from jupyter_dash import JupyterDash\n",
    "from dash.dependencies import Input, Output"
   ]
  },
  {
   "cell_type": "code",
   "execution_count": 50,
   "metadata": {},
   "outputs": [],
   "source": [
    "\r\n",
    "\"\"\"\r\n",
    "The following information was gathered from streamcharts.com\r\n",
    "\"\"\"\r\n",
    "reveals = pd.DataFrame({\r\n",
    "  \"event\": [\"iPhone 14 reveal\", \"iPhone 12 reveal\", \"iPhone 13 reveal\", \"iPad Air reveal\", \"24-inch iMacs introduction\", \"New Mac generation\", \"M1 Ultra reveal\", \"New MacBook Pro generation\"],\r\n",
    "  \"event_views\": [3690000, 2740000, 2270000, 1500000, 943000, 891300, 740500, 731800]\r\n",
    "})\r\n",
    "product_popularity = pd.DataFrame({\r\n",
    "  \"product\": [\"iPhone 14\", \"AirPods Pro\", \"Apple Watch Ultra\", \"iPhone 14 Pro\", \"Apple Watch SE\", \"Apple Watch Series 8\"],\r\n",
    "  \"product_views\": [3690000, 3040000, 2790000, 2770000, 2490000, 2460000]\r\n",
    "})\r\n",
    "app = JupyterDash(__name__)\r\n",
    "piecolors = [\r\n",
    "'#FF1D0D',\r\n",
    "'#E80C4E',\r\n",
    "'#FF00CC',\r\n",
    "'#C30CE8',\r\n",
    "'#960DFF'\r\n",
    "]\r\n",
    "\r\n",
    "revealed_popularity = px.bar(reveals, color_discrete_map={\r\n",
    "  \"iPhone 14 reveal\": \"#55001A\",\r\n",
    "  \"iPhone 12 reveal\": \"#7C0026\",\r\n",
    "  \"iPhone 13 reveal\": \"#9B002F\",\r\n",
    "   \"iPad Air reveal\": \"#C6003C\",\r\n",
    "   \"24-inch iMacs introduction\": \"#E80C4F\",\r\n",
    "   \"New Mac generation\": \"#EA396F\",\r\n",
    "   \"M1 Ultra reveal\": \"#EF628D\",\r\n",
    "   \"New MacBook Pro generation\": \"#F589AA\"\r\n",
    "}, x=\"event\", y=\"event_views\", title=\"Apple product reveals vs. popularity\")\r\n",
    "product_popularity = px.bar(product_popularity, color_discrete_map={\r\n",
    "  \"iPhone 14\": \"#A10C00\",\r\n",
    "  \"AirPods Pro\": \"#CC0F00\",\r\n",
    "  \"Apple Watch Ultra\": \"#FF1F0D\",\r\n",
    "  \"iPhone 14 Pro\": \"#FF4E40\",\r\n",
    "  \"Apple Watch SE\": \"#FF7469\",\r\n",
    "  \"Apple Watch Series 8\": \"#FF9E96\"\r\n",
    "}, x=\"product\", y=\"product_views\", title=\"Apple product popularity\")\r\n",
    "pie = px.pie(polarityCount, color_discrete_sequence=piecolors, values='score', names='polarity', title='Sentiment Analysis')\r\n",
    "\r\n",
    "\r\n",
    "\r\n",
    "\r\n",
    "app.layout = html.Div([\r\n",
    "    html.H1(\"Apple Events September 2022\"),\r\n",
    "    dcc.Graph(figure=revealed_popularity),\r\n",
    "    html.H1(\"Apple Products September 2022\"),\r\n",
    "    dcc.Graph(figure=product_popularity),\r\n",
    "    html.H1(\"Apple Events Rating September 2022\"),\r\n",
    "    dcc.Graph(figure=pie),\r\n",
    "])"
   ]
  },
  {
   "cell_type": "code",
   "execution_count": 51,
   "metadata": {},
   "outputs": [
    {
     "ename": "ValueError",
     "evalue": "Mime type rendering requires nbformat>=4.2.0 but it is not installed",
     "output_type": "error",
     "traceback": [
      "\u001b[1;31m---------------------------------------------------------------------------\u001b[0m",
      "\u001b[1;31mValueError\u001b[0m                                Traceback (most recent call last)",
      "Input \u001b[1;32mIn [51]\u001b[0m, in \u001b[0;36m<cell line: 1>\u001b[1;34m()\u001b[0m\n\u001b[1;32m----> 1\u001b[0m \u001b[43mrevealed_popularity\u001b[49m\u001b[38;5;241;43m.\u001b[39;49m\u001b[43mshow\u001b[49m\u001b[43m(\u001b[49m\u001b[43m)\u001b[49m\n\u001b[0;32m      2\u001b[0m product_popularity\u001b[38;5;241m.\u001b[39mshow()\n\u001b[0;32m      3\u001b[0m pie\u001b[38;5;241m.\u001b[39mshow()\n",
      "File \u001b[1;32m~\\AppData\\Local\\Packages\\PythonSoftwareFoundation.Python.3.10_qbz5n2kfra8p0\\LocalCache\\local-packages\\Python310\\site-packages\\plotly\\basedatatypes.py:3398\u001b[0m, in \u001b[0;36mBaseFigure.show\u001b[1;34m(self, *args, **kwargs)\u001b[0m\n\u001b[0;32m   3365\u001b[0m \u001b[38;5;124;03m\"\"\"\u001b[39;00m\n\u001b[0;32m   3366\u001b[0m \u001b[38;5;124;03mShow a figure using either the default renderer(s) or the renderer(s)\u001b[39;00m\n\u001b[0;32m   3367\u001b[0m \u001b[38;5;124;03mspecified by the renderer argument\u001b[39;00m\n\u001b[1;32m   (...)\u001b[0m\n\u001b[0;32m   3394\u001b[0m \u001b[38;5;124;03mNone\u001b[39;00m\n\u001b[0;32m   3395\u001b[0m \u001b[38;5;124;03m\"\"\"\u001b[39;00m\n\u001b[0;32m   3396\u001b[0m \u001b[38;5;28;01mimport\u001b[39;00m \u001b[38;5;21;01mplotly\u001b[39;00m\u001b[38;5;21;01m.\u001b[39;00m\u001b[38;5;21;01mio\u001b[39;00m \u001b[38;5;28;01mas\u001b[39;00m \u001b[38;5;21;01mpio\u001b[39;00m\n\u001b[1;32m-> 3398\u001b[0m \u001b[38;5;28;01mreturn\u001b[39;00m pio\u001b[38;5;241m.\u001b[39mshow(\u001b[38;5;28mself\u001b[39m, \u001b[38;5;241m*\u001b[39margs, \u001b[38;5;241m*\u001b[39m\u001b[38;5;241m*\u001b[39mkwargs)\n",
      "File \u001b[1;32m~\\AppData\\Local\\Packages\\PythonSoftwareFoundation.Python.3.10_qbz5n2kfra8p0\\LocalCache\\local-packages\\Python310\\site-packages\\plotly\\io\\_renderers.py:396\u001b[0m, in \u001b[0;36mshow\u001b[1;34m(fig, renderer, validate, **kwargs)\u001b[0m\n\u001b[0;32m    391\u001b[0m         \u001b[38;5;28;01mraise\u001b[39;00m \u001b[38;5;167;01mValueError\u001b[39;00m(\n\u001b[0;32m    392\u001b[0m             \u001b[38;5;124m\"\u001b[39m\u001b[38;5;124mMime type rendering requires ipython but it is not installed\u001b[39m\u001b[38;5;124m\"\u001b[39m\n\u001b[0;32m    393\u001b[0m         )\n\u001b[0;32m    395\u001b[0m     \u001b[38;5;28;01mif\u001b[39;00m \u001b[38;5;129;01mnot\u001b[39;00m nbformat \u001b[38;5;129;01mor\u001b[39;00m LooseVersion(nbformat\u001b[38;5;241m.\u001b[39m__version__) \u001b[38;5;241m<\u001b[39m LooseVersion(\u001b[38;5;124m\"\u001b[39m\u001b[38;5;124m4.2.0\u001b[39m\u001b[38;5;124m\"\u001b[39m):\n\u001b[1;32m--> 396\u001b[0m         \u001b[38;5;28;01mraise\u001b[39;00m \u001b[38;5;167;01mValueError\u001b[39;00m(\n\u001b[0;32m    397\u001b[0m             \u001b[38;5;124m\"\u001b[39m\u001b[38;5;124mMime type rendering requires nbformat>=4.2.0 but it is not installed\u001b[39m\u001b[38;5;124m\"\u001b[39m\n\u001b[0;32m    398\u001b[0m         )\n\u001b[0;32m    400\u001b[0m     ipython_display\u001b[38;5;241m.\u001b[39mdisplay(bundle, raw\u001b[38;5;241m=\u001b[39m\u001b[38;5;28;01mTrue\u001b[39;00m)\n\u001b[0;32m    402\u001b[0m \u001b[38;5;66;03m# external renderers\u001b[39;00m\n",
      "\u001b[1;31mValueError\u001b[0m: Mime type rendering requires nbformat>=4.2.0 but it is not installed"
     ]
    }
   ],
   "source": [
    "revealed_popularity.show()\n",
    "product_popularity.show()\n",
    "pie.show()"
   ]
  },
  {
   "cell_type": "code",
   "execution_count": 52,
   "metadata": {},
   "outputs": [],
   "source": [
    "\n",
    "# app.run_server(mode='external')\n"
   ]
  }
 ],
 "metadata": {
  "kernelspec": {
   "display_name": "Python 3.10.8 64-bit",
   "metadata": {
    "interpreter": {
     "hash": "6cb11118430048aaffde37140829a96b2f2778371a079ecf7cef1d9eee249f62"
    }
   },
   "name": "python3"
  },
  "language_info": {
   "codemirror_mode": {
    "name": "ipython",
    "version": 3
   },
   "file_extension": ".py",
   "mimetype": "text/x-python",
   "name": "python",
   "nbconvert_exporter": "python",
   "pygments_lexer": "ipython3",
   "version": "3.10.8"
  },
  "orig_nbformat": 2,
  "vscode": {
   "interpreter": {
    "hash": "a1fbb46e97979fe274de0b1708aa8583f7166e6b85cafc938966f13b05b745da"
   }
  }
 },
 "nbformat": 4,
 "nbformat_minor": 2
}