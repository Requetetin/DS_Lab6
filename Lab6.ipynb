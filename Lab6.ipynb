{
 "cells": [
  {
   "cell_type": "code",
   "execution_count": 7,
   "metadata": {},
   "outputs": [],
   "source": [
    "import tweepy as tw"
   ]
  },
  {
   "cell_type": "markdown",
   "metadata": {},
   "source": [
    "# Setup"
   ]
  },
  {
   "cell_type": "markdown",
   "metadata": {},
   "source": [
    "## Setup API"
   ]
  },
  {
   "cell_type": "code",
   "execution_count": 8,
   "metadata": {},
   "outputs": [],
   "source": [
    "API_KEY = 'LoiVW76XekU31dGeTzRF3jaRn'\r\n",
    "API_KEY_SECRET = 'zMI3E52t5DHPvlBEcq033ZcvzSXwudxOZbgWflDXaNiM29gHXG'\r\n",
    "ACCESS_TOKEN = 'AAAAAAAAAAAAAAAAAAAAALiigwEAAAAAQL5JJp3%2BeOebr2JSQERPsx0D6b0%3Di0YCX9UIE8WQRbnyohpKwy9V4k7XCRrXXT3bfqymxQbxPMv7Tb'"
   ]
  },
  {
   "cell_type": "code",
   "execution_count": 9,
   "metadata": {},
   "outputs": [],
   "source": [
    "auth = tw.OAuthHandler(API_KEY, API_KEY_SECRET)\r\n",
    "api = tw.API(auth, wait_on_rate_limit=True)"
   ]
  },
  {
   "cell_type": "markdown",
   "metadata": {},
   "source": [
    "## Get Tweets"
   ]
  },
  {
   "cell_type": "code",
   "execution_count": 10,
   "metadata": {},
   "outputs": [],
   "source": [
    "search_query = \"#AppleEvent -filter:retweets\""
   ]
  },
  {
   "cell_type": "code",
   "execution_count": 12,
   "metadata": {},
   "outputs": [
    {
     "name": "stderr",
     "output_type": "stream",
     "text": [
      "Unexpected parameter: since\n",
      "Unexpected parameter: since\n",
      "Unexpected parameter: since\n",
      "Unexpected parameter: since\n"
     ]
    },
    {
     "name": "stdout",
     "output_type": "stream",
     "text": [
      "Total Tweets fetched: 50\n"
     ]
    }
   ],
   "source": [
    "# get tweets from the API\r\n",
    "tweets = tw.Cursor(api.search_tweets,\r\n",
    "              q=search_query,\r\n",
    "              lang=\"en\",\r\n",
    "              since=\"2020-09-16\").items(50)\r\n",
    "# store the API responses in a list\r\n",
    "tweets_copy = []\r\n",
    "for tweet in tweets:\r\n",
    "    tweets_copy.append(tweet)\r\n",
    "    \r\n",
    "print(\"Total Tweets fetched:\", len(tweets_copy))"
   ]
  },
  {
   "cell_type": "markdown",
   "metadata": {},
   "source": [
    "## DataFrame"
   ]
  },
  {
   "cell_type": "code",
   "execution_count": 13,
   "metadata": {},
   "outputs": [
    {
     "name": "stderr",
     "output_type": "stream",
     "text": [
      "C:\\Users\\reque\\AppData\\Local\\Temp\\ipykernel_15884\\186974113.py:15: FutureWarning: The frame.append method is deprecated and will be removed from pandas in a future version. Use pandas.concat instead.\n",
      "  tweets_df = tweets_df.append(pd.DataFrame({'user_name': tweet.user.name,\n"
     ]
    },
    {
     "data": {
      "text/html": "<div>\n<style scoped>\n    .dataframe tbody tr th:only-of-type {\n        vertical-align: middle;\n    }\n\n    .dataframe tbody tr th {\n        vertical-align: top;\n    }\n\n    .dataframe thead th {\n        text-align: right;\n    }\n</style>\n<table border=\"1\" class=\"dataframe\">\n  <thead>\n    <tr style=\"text-align: right;\">\n      <th></th>\n      <th>user_name</th>\n      <th>user_location</th>\n      <th>user_description</th>\n      <th>user_verified</th>\n      <th>date</th>\n      <th>text</th>\n      <th>hashtags</th>\n      <th>source</th>\n    </tr>\n  </thead>\n  <tbody>\n    <tr>\n      <th>0</th>\n      <td>EarlyInfo</td>\n      <td></td>\n      <td>Web Site write articles about (tech,health,rev...</td>\n      <td>False</td>\n      <td>2022-09-09 23:45:40+00:00</td>\n      <td>Apple AirPods Pro 2: Everything you need to kn...</td>\n      <td>None</td>\n      <td>Twitter Web App</td>\n    </tr>\n    <tr>\n      <th>1</th>\n      <td>Tech IRL</td>\n      <td>Canada</td>\n      <td>Follow Us &amp; Subscribe to our Youtube Channel f...</td>\n      <td>False</td>\n      <td>2022-09-09 23:45:10+00:00</td>\n      <td>New Video! AirPods Pro 2 (AirPods Pro Second G...</td>\n      <td>[airpodspro2, AirPodsPro]</td>\n      <td>Hootsuite Inc.</td>\n    </tr>\n    <tr>\n      <th>2</th>\n      <td>nft收藏者</td>\n      <td>Kota Bitung, Sulawesi Utara</td>\n      <td>奥巴马空你急哇</td>\n      <td>False</td>\n      <td>2022-09-09 23:44:00+00:00</td>\n      <td>FREE Unlimited RDP➡️https://t.co/6Az7y1BTXu#AP...</td>\n      <td>[AppleEvent, ArizabaletaLameCulos, ArmySV]</td>\n      <td>Twitter Web App</td>\n    </tr>\n    <tr>\n      <th>3</th>\n      <td>Ralph C</td>\n      <td>Atlanta, GA</td>\n      <td>Product designer blessed enough to be able to ...</td>\n      <td>False</td>\n      <td>2022-09-09 23:42:24+00:00</td>\n      <td>Who else is loving the new iPhone 14 and IOS 1...</td>\n      <td>None</td>\n      <td>Twitter Web App</td>\n    </tr>\n    <tr>\n      <th>4</th>\n      <td>The Vibe Dealer 💛</td>\n      <td>United states</td>\n      <td>Artist/Actor/Host/Producer/Content Curator/Vib...</td>\n      <td>False</td>\n      <td>2022-09-09 23:39:57+00:00</td>\n      <td>Y’all gettin the new iphone??🔥😂💪🏾\\nCheck me ou...</td>\n      <td>None</td>\n      <td>Twitter for iPhone</td>\n    </tr>\n  </tbody>\n</table>\n</div>",
      "text/plain": "           user_name                user_location  \\\n0          EarlyInfo                                \n1           Tech IRL                       Canada   \n2             nft收藏者  Kota Bitung, Sulawesi Utara   \n3            Ralph C                  Atlanta, GA   \n4  The Vibe Dealer 💛                United states   \n\n                                    user_description  user_verified  \\\n0  Web Site write articles about (tech,health,rev...          False   \n1  Follow Us & Subscribe to our Youtube Channel f...          False   \n2                                            奥巴马空你急哇          False   \n3  Product designer blessed enough to be able to ...          False   \n4  Artist/Actor/Host/Producer/Content Curator/Vib...          False   \n\n                       date  \\\n0 2022-09-09 23:45:40+00:00   \n1 2022-09-09 23:45:10+00:00   \n2 2022-09-09 23:44:00+00:00   \n3 2022-09-09 23:42:24+00:00   \n4 2022-09-09 23:39:57+00:00   \n\n                                                text  \\\n0  Apple AirPods Pro 2: Everything you need to kn...   \n1  New Video! AirPods Pro 2 (AirPods Pro Second G...   \n2  FREE Unlimited RDP➡️https://t.co/6Az7y1BTXu#AP...   \n3  Who else is loving the new iPhone 14 and IOS 1...   \n4  Y’all gettin the new iphone??🔥😂💪🏾\\nCheck me ou...   \n\n                                     hashtags              source  \n0                                        None     Twitter Web App  \n1                   [airpodspro2, AirPodsPro]      Hootsuite Inc.  \n2  [AppleEvent, ArizabaletaLameCulos, ArmySV]     Twitter Web App  \n3                                        None     Twitter Web App  \n4                                        None  Twitter for iPhone  "
     },
     "execution_count": 13,
     "metadata": {},
     "output_type": "execute_result"
    }
   ],
   "source": [
    "import pandas as pd\r\n",
    "\r\n",
    "# intialize the dataframe\r\n",
    "tweets_df = pd.DataFrame()\r\n",
    "\r\n",
    "# populate the dataframe\r\n",
    "for tweet in tweets_copy:\r\n",
    "    hashtags = []\r\n",
    "    try:\r\n",
    "        for hashtag in tweet.entities[\"hashtags\"]:\r\n",
    "            hashtags.append(hashtag[\"text\"])\r\n",
    "        text = api.get_status(id=tweet.id, tweet_mode='extended').full_text\r\n",
    "    except:\r\n",
    "        pass\r\n",
    "    tweets_df = tweets_df.append(pd.DataFrame({'user_name': tweet.user.name, \r\n",
    "                                               'user_location': tweet.user.location,\\\r\n",
    "                                               'user_description': tweet.user.description,\r\n",
    "                                               'user_verified': tweet.user.verified,\r\n",
    "                                               'date': tweet.created_at,\r\n",
    "                                               'text': text, \r\n",
    "                                               'hashtags': [hashtags if hashtags else None],\r\n",
    "                                               'source': tweet.source}))\r\n",
    "    tweets_df = tweets_df.reset_index(drop=True)\r\n",
    "\r\n",
    "# show the dataframe\r\n",
    "tweets_df.head()"
   ]
  }
 ],
 "metadata": {
  "kernelspec": {
   "display_name": "Python 3.10.7 64-bit",
   "metadata": {
    "interpreter": {
     "hash": "6cb11118430048aaffde37140829a96b2f2778371a079ecf7cef1d9eee249f62"
    }
   },
   "name": "python3"
  },
  "language_info": {
   "codemirror_mode": {
    "name": "ipython",
    "version": 3
   },
   "file_extension": ".py",
   "mimetype": "text/x-python",
   "name": "python",
   "nbconvert_exporter": "python",
   "pygments_lexer": "ipython3",
   "version": "3.10.7"
  },
  "orig_nbformat": 2
 },
 "nbformat": 4,
 "nbformat_minor": 2
}