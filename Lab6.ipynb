{
 "cells": [
  {
   "cell_type": "code",
   "execution_count": 1,
   "metadata": {},
   "outputs": [
    {
     "name": "stderr",
     "output_type": "stream",
     "text": [
      "[nltk_data] Downloading package stopwords to\n",
      "[nltk_data]     C:\\Users\\juanp\\AppData\\Roaming\\nltk_data...\n",
      "[nltk_data]   Package stopwords is already up-to-date!\n",
      "[nltk_data] Downloading package punkt to\n",
      "[nltk_data]     C:\\Users\\juanp\\AppData\\Roaming\\nltk_data...\n",
      "[nltk_data]   Package punkt is already up-to-date!\n",
      "[nltk_data] Downloading package names to\n",
      "[nltk_data]     C:\\Users\\juanp\\AppData\\Roaming\\nltk_data...\n",
      "[nltk_data]   Package names is already up-to-date!\n",
      "[nltk_data] Downloading package vader_lexicon to\n",
      "[nltk_data]     C:\\Users\\juanp\\AppData\\Roaming\\nltk_data...\n",
      "[nltk_data]   Package vader_lexicon is already up-to-date!\n"
     ]
    }
   ],
   "source": [
    "import tweepy as tw\n",
    "import pandas as pd\n",
    "import matplotlib.pyplot as plt\n",
    "import seaborn as sns\n",
    "import numpy as np\n",
    "import nltk\n",
    "import re\n",
    "\n",
    "from nltk.corpus import stopwords\n",
    "from nltk.util import ngrams\n",
    "from collections import defaultdict\n",
    "from collections import  Counter\n",
    "from sklearn.feature_extraction.text import CountVectorizer\n",
    "from nltk.sentiment import SentimentIntensityAnalyzer\n",
    "nltk.download(['stopwords', 'punkt', 'names', 'vader_lexicon'] )\n",
    "plt.style.use('ggplot')\n",
    "stop=set(stopwords.words('english'))"
   ]
  },
  {
   "cell_type": "markdown",
   "metadata": {},
   "source": [
    "# Setup"
   ]
  },
  {
   "cell_type": "markdown",
   "metadata": {},
   "source": [
    "## Setup API"
   ]
  },
  {
   "cell_type": "code",
   "execution_count": 2,
   "metadata": {},
   "outputs": [],
   "source": [
    "API_KEY = 'LoiVW76XekU31dGeTzRF3jaRn'\n",
    "API_KEY_SECRET = 'zMI3E52t5DHPvlBEcq033ZcvzSXwudxOZbgWflDXaNiM29gHXG'\n",
    "ACCESS_TOKEN = 'AAAAAAAAAAAAAAAAAAAAALiigwEAAAAAQL5JJp3%2BeOebr2JSQERPsx0D6b0%3Di0YCX9UIE8WQRbnyohpKwy9V4k7XCRrXXT3bfqymxQbxPMv7Tb'"
   ]
  },
  {
   "cell_type": "code",
   "execution_count": 3,
   "metadata": {},
   "outputs": [],
   "source": [
    "auth = tw.OAuthHandler(API_KEY, API_KEY_SECRET)\n",
    "api = tw.API(auth, wait_on_rate_limit=True)"
   ]
  },
  {
   "cell_type": "markdown",
   "metadata": {},
   "source": [
    "## Get Tweets"
   ]
  },
  {
   "cell_type": "code",
   "execution_count": 4,
   "metadata": {},
   "outputs": [],
   "source": [
    "search_query = \"#AppleEvent -filter:retweets\""
   ]
  },
  {
   "cell_type": "code",
   "execution_count": 5,
   "metadata": {},
   "outputs": [
    {
     "name": "stderr",
     "output_type": "stream",
     "text": [
      "Unexpected parameter: since\n",
      "Unexpected parameter: since\n",
      "Unexpected parameter: since\n",
      "Unexpected parameter: since\n",
      "Unexpected parameter: since\n",
      "Unexpected parameter: since\n",
      "Unexpected parameter: since\n",
      "Unexpected parameter: since\n",
      "Unexpected parameter: since\n",
      "Unexpected parameter: since\n",
      "Unexpected parameter: since\n",
      "Unexpected parameter: since\n",
      "Unexpected parameter: since\n",
      "Unexpected parameter: since\n",
      "Unexpected parameter: since\n",
      "Unexpected parameter: since\n",
      "Unexpected parameter: since\n",
      "Unexpected parameter: since\n",
      "Unexpected parameter: since\n",
      "Unexpected parameter: since\n",
      "Unexpected parameter: since\n",
      "Unexpected parameter: since\n",
      "Unexpected parameter: since\n",
      "Unexpected parameter: since\n",
      "Unexpected parameter: since\n",
      "Unexpected parameter: since\n",
      "Unexpected parameter: since\n",
      "Unexpected parameter: since\n",
      "Unexpected parameter: since\n",
      "Unexpected parameter: since\n",
      "Unexpected parameter: since\n",
      "Unexpected parameter: since\n",
      "Unexpected parameter: since\n",
      "Unexpected parameter: since\n",
      "Unexpected parameter: since\n",
      "Unexpected parameter: since\n",
      "Unexpected parameter: since\n"
     ]
    },
    {
     "name": "stdout",
     "output_type": "stream",
     "text": [
      "Total Tweets fetched: 500\n"
     ]
    }
   ],
   "source": [
    "# get tweets from the API\n",
    "tweets = tw.Cursor(api.search_tweets,\n",
    "              q=search_query,\n",
    "              lang=\"en\",\n",
    "              since=\"2022-09-07\").items(500)\n",
    "# store the API responses in a list\n",
    "tweets_copy = []\n",
    "for tweet in tweets:\n",
    "    tweets_copy.append(tweet)\n",
    "    \n",
    "print(\"Total Tweets fetched:\", len(tweets_copy))"
   ]
  },
  {
   "cell_type": "markdown",
   "metadata": {},
   "source": [
    "## DataFrame"
   ]
  },
  {
   "cell_type": "code",
   "execution_count": 6,
   "metadata": {},
   "outputs": [
    {
     "name": "stderr",
     "output_type": "stream",
     "text": [
      "C:\\Users\\juanp\\AppData\\Local\\Temp\\ipykernel_23000\\1717546899.py:15: FutureWarning: The frame.append method is deprecated and will be removed from pandas in a future version. Use pandas.concat instead.\n",
      "  tweets_df = tweets_df.append(pd.DataFrame({'user_name': tweet.user.name,\n"
     ]
    },
    {
     "data": {
      "text/html": [
       "<div>\n",
       "<style scoped>\n",
       "    .dataframe tbody tr th:only-of-type {\n",
       "        vertical-align: middle;\n",
       "    }\n",
       "\n",
       "    .dataframe tbody tr th {\n",
       "        vertical-align: top;\n",
       "    }\n",
       "\n",
       "    .dataframe thead th {\n",
       "        text-align: right;\n",
       "    }\n",
       "</style>\n",
       "<table border=\"1\" class=\"dataframe\">\n",
       "  <thead>\n",
       "    <tr style=\"text-align: right;\">\n",
       "      <th></th>\n",
       "      <th>user_name</th>\n",
       "      <th>user_location</th>\n",
       "      <th>user_description</th>\n",
       "      <th>user_verified</th>\n",
       "      <th>date</th>\n",
       "      <th>text</th>\n",
       "      <th>hashtags</th>\n",
       "      <th>source</th>\n",
       "    </tr>\n",
       "  </thead>\n",
       "  <tbody>\n",
       "    <tr>\n",
       "      <th>0</th>\n",
       "      <td>zaks</td>\n",
       "      <td>Toulouse, France</td>\n",
       "      <td>Livraison rapide beuh🍁shit🍫cock💉exta💊pour la F...</td>\n",
       "      <td>False</td>\n",
       "      <td>2022-09-14 23:25:20+00:00</td>\n",
       "      <td>#100devs #codinglife #HTML #CSS #javascript #D...</td>\n",
       "      <td>[100devs, codinglife, HTML, CSS, javascript, D...</td>\n",
       "      <td>Twitter for Android</td>\n",
       "    </tr>\n",
       "    <tr>\n",
       "      <th>1</th>\n",
       "      <td>Goospery</td>\n",
       "      <td></td>\n",
       "      <td>Goospery</td>\n",
       "      <td>False</td>\n",
       "      <td>2022-09-14 23:13:02+00:00</td>\n",
       "      <td>Always keep your cards and iPhone 14 Pro \\n\\n#...</td>\n",
       "      <td>[iphone14pro, DynamicIsland, phonecase, AppleE...</td>\n",
       "      <td>Buffer</td>\n",
       "    </tr>\n",
       "    <tr>\n",
       "      <th>2</th>\n",
       "      <td>YKIBAE ꒰ᐢ • ˕ • ᐢ꒱</td>\n",
       "      <td>s o m e w h e r e</td>\n",
       "      <td>960206 est.</td>\n",
       "      <td>False</td>\n",
       "      <td>2022-09-14 23:07:35+00:00</td>\n",
       "      <td>@Apple funny but not funny haha how my back to...</td>\n",
       "      <td>None</td>\n",
       "      <td>Twitter for iPhone</td>\n",
       "    </tr>\n",
       "    <tr>\n",
       "      <th>3</th>\n",
       "      <td>GersonPlayzYT</td>\n",
       "      <td>idk</td>\n",
       "      <td>Subscribe to GersonPlayzYT!</td>\n",
       "      <td>False</td>\n",
       "      <td>2022-09-14 22:44:49+00:00</td>\n",
       "      <td>Is it just me or the first words of the traile...</td>\n",
       "      <td>[Apple, AppleEvent]</td>\n",
       "      <td>Twitter for iPhone</td>\n",
       "    </tr>\n",
       "    <tr>\n",
       "      <th>4</th>\n",
       "      <td>NestedFolders</td>\n",
       "      <td></td>\n",
       "      <td>A #productivity #podcast by @heyscottyj and @R...</td>\n",
       "      <td>False</td>\n",
       "      <td>2022-09-14 22:35:55+00:00</td>\n",
       "      <td>A HUGE exclusive episode for #Unnested support...</td>\n",
       "      <td>[Unnested]</td>\n",
       "      <td>Tweetbot for iΟS</td>\n",
       "    </tr>\n",
       "  </tbody>\n",
       "</table>\n",
       "</div>"
      ],
      "text/plain": [
       "            user_name      user_location  \\\n",
       "0                zaks   Toulouse, France   \n",
       "1            Goospery                      \n",
       "2  YKIBAE ꒰ᐢ • ˕ • ᐢ꒱  s o m e w h e r e   \n",
       "3       GersonPlayzYT                idk   \n",
       "4       NestedFolders                      \n",
       "\n",
       "                                    user_description  user_verified  \\\n",
       "0  Livraison rapide beuh🍁shit🍫cock💉exta💊pour la F...          False   \n",
       "1                                           Goospery          False   \n",
       "2                                        960206 est.          False   \n",
       "3                        Subscribe to GersonPlayzYT!          False   \n",
       "4  A #productivity #podcast by @heyscottyj and @R...          False   \n",
       "\n",
       "                       date  \\\n",
       "0 2022-09-14 23:25:20+00:00   \n",
       "1 2022-09-14 23:13:02+00:00   \n",
       "2 2022-09-14 23:07:35+00:00   \n",
       "3 2022-09-14 22:44:49+00:00   \n",
       "4 2022-09-14 22:35:55+00:00   \n",
       "\n",
       "                                                text  \\\n",
       "0  #100devs #codinglife #HTML #CSS #javascript #D...   \n",
       "1  Always keep your cards and iPhone 14 Pro \\n\\n#...   \n",
       "2  @Apple funny but not funny haha how my back to...   \n",
       "3  Is it just me or the first words of the traile...   \n",
       "4  A HUGE exclusive episode for #Unnested support...   \n",
       "\n",
       "                                            hashtags               source  \n",
       "0  [100devs, codinglife, HTML, CSS, javascript, D...  Twitter for Android  \n",
       "1  [iphone14pro, DynamicIsland, phonecase, AppleE...               Buffer  \n",
       "2                                               None   Twitter for iPhone  \n",
       "3                                [Apple, AppleEvent]   Twitter for iPhone  \n",
       "4                                         [Unnested]     Tweetbot for iΟS  "
      ]
     },
     "execution_count": 6,
     "metadata": {},
     "output_type": "execute_result"
    }
   ],
   "source": [
    "import pandas as pd\n",
    "\n",
    "# intialize the dataframe\n",
    "tweets_df = pd.DataFrame()\n",
    "\n",
    "# populate the dataframe\n",
    "for tweet in tweets_copy:\n",
    "    hashtags = []\n",
    "    try:\n",
    "        for hashtag in tweet.entities[\"hashtags\"]:\n",
    "            hashtags.append(hashtag[\"text\"])\n",
    "        text = api.get_status(id=tweet.id, tweet_mode='extended').full_text\n",
    "    except:\n",
    "        pass\n",
    "    tweets_df = tweets_df.append(pd.DataFrame({'user_name': tweet.user.name, \n",
    "                                               'user_location': tweet.user.location,\\\n",
    "                                               'user_description': tweet.user.description,\n",
    "                                               'user_verified': tweet.user.verified,\n",
    "                                               'date': tweet.created_at,\n",
    "                                               'text': text, \n",
    "                                               'hashtags': [hashtags if hashtags else None],\n",
    "                                               'source': tweet.source}))\n",
    "    tweets_df = tweets_df.reset_index(drop=True)\n",
    "\n",
    "# show the dataframe\n",
    "tweets_df.head()"
   ]
  },
  {
   "cell_type": "code",
   "execution_count": 7,
   "metadata": {},
   "outputs": [
    {
     "data": {
      "text/plain": [
       "(500, 8)"
      ]
     },
     "execution_count": 7,
     "metadata": {},
     "output_type": "execute_result"
    }
   ],
   "source": [
    "tweets_df.shape"
   ]
  },
  {
   "cell_type": "markdown",
   "metadata": {},
   "source": [
    "# Analisis Exploratorio (pre-limpieza)"
   ]
  },
  {
   "cell_type": "markdown",
   "metadata": {},
   "source": [
    "### Cantidad de caracteres en el tweet"
   ]
  },
  {
   "cell_type": "code",
   "execution_count": 8,
   "metadata": {},
   "outputs": [
    {
     "data": {
      "image/png": "[encoded data removed]",
      "text/plain": [
       "<Figure size 432x288 with 1 Axes>"
      ]
     },
     "metadata": {
      "needs_background": "light"
     },
     "output_type": "display_data"
    }
   ],
   "source": [
    "tweet_length = tweets_df['text'].str.len()\n",
    "plt.hist(tweet_length)\n",
    "plt.title('Cantidad de caracteres del tweet')\n",
    "plt.show()"
   ]
  },
  {
   "cell_type": "markdown",
   "metadata": {},
   "source": [
    "### Cantidad de palabras en el tweet"
   ]
  },
  {
   "cell_type": "code",
   "execution_count": 9,
   "metadata": {},
   "outputs": [
    {
     "data": {
      "image/png": "[encoded data removed]",
      "text/plain": [
       "<Figure size 432x288 with 1 Axes>"
      ]
     },
     "metadata": {
      "needs_background": "light"
     },
     "output_type": "display_data"
    }
   ],
   "source": [
    "tweet_length = tweets_df['text'].str.split().map(lambda x: len(x))\n",
    "plt.hist(tweet_length)\n",
    "plt.title('Cantidad de palabras del tweet')\n",
    "plt.show()"
   ]
  },
  {
   "cell_type": "markdown",
   "metadata": {},
   "source": [
    "### Promedio de longitud de las palabras"
   ]
  },
  {
   "cell_type": "code",
   "execution_count": 10,
   "metadata": {},
   "outputs": [
    {
     "name": "stderr",
     "output_type": "stream",
     "text": [
      "c:\\Users\\juanp\\AppData\\Local\\Programs\\Python\\Python310\\lib\\site-packages\\seaborn\\distributions.py:2619: FutureWarning: `distplot` is a deprecated function and will be removed in a future version. Please adapt your code to use either `displot` (a figure-level function with similar flexibility) or `histplot` (an axes-level function for histograms).\n",
      "  warnings.warn(msg, FutureWarning)\n"
     ]
    },
    {
     "data": {
      "text/plain": [
       "<AxesSubplot:xlabel='text', ylabel='Density'>"
      ]
     },
     "execution_count": 10,
     "metadata": {},
     "output_type": "execute_result"
    },
    {
     "data": {
      "image/png": "[encoded data removed]",
      "text/plain": [
       "<Figure size 432x288 with 1 Axes>"
      ]
     },
     "metadata": {
      "needs_background": "light"
     },
     "output_type": "display_data"
    }
   ],
   "source": [
    "word=tweets_df['text'].str.split().apply(lambda x : [len(i) for i in x])\n",
    "sns.distplot(word.map(lambda x: np.mean(x)))"
   ]
  },
  {
   "cell_type": "code",
   "execution_count": 11,
   "metadata": {},
   "outputs": [],
   "source": [
    "def create_corpus(target):\n",
    "    corpus=[]\n",
    "    \n",
    "    for x in tweets_df['text'].str.split():\n",
    "        for i in x:\n",
    "            corpus.append(i)\n",
    "    return corpus"
   ]
  },
  {
   "cell_type": "markdown",
   "metadata": {},
   "source": [
    "### Stopwords"
   ]
  },
  {
   "cell_type": "code",
   "execution_count": 12,
   "metadata": {},
   "outputs": [],
   "source": [
    "corpus=create_corpus(0)\n",
    "\n",
    "dic=defaultdict(int)\n",
    "for word in corpus:\n",
    "    if word in stop:\n",
    "        dic[word]+=1\n",
    "        \n",
    "top=sorted(dic.items(), key=lambda x:x[1],reverse=True)[:10] "
   ]
  },
  {
   "cell_type": "code",
   "execution_count": 13,
   "metadata": {},
   "outputs": [
    {
     "data": {
      "text/plain": [
       "<BarContainer object of 10 artists>"
      ]
     },
     "execution_count": 13,
     "metadata": {},
     "output_type": "execute_result"
    },
    {
     "data": {
      "image/png": "[encoded data removed]",
      "text/plain": [
       "<Figure size 432x288 with 1 Axes>"
      ]
     },
     "metadata": {
      "needs_background": "light"
     },
     "output_type": "display_data"
    }
   ],
   "source": [
    "x,y=zip(*top)\n",
    "plt.bar(x,y)"
   ]
  },
  {
   "cell_type": "markdown",
   "metadata": {},
   "source": [
    "### Puntuacion"
   ]
  },
  {
   "cell_type": "code",
   "execution_count": 14,
   "metadata": {},
   "outputs": [
    {
     "data": {
      "text/plain": [
       "<Figure size 720x360 with 0 Axes>"
      ]
     },
     "metadata": {},
     "output_type": "display_data"
    }
   ],
   "source": [
    "plt.figure(figsize=(10,5))\n",
    "corpus=create_corpus(1)\n",
    "\n",
    "dic=defaultdict(int)\n",
    "import string\n",
    "special = string.punctuation\n",
    "for i in (corpus):\n",
    "    if i in special:\n",
    "        dic[i]+=1"
   ]
  },
  {
   "cell_type": "code",
   "execution_count": 15,
   "metadata": {},
   "outputs": [
    {
     "data": {
      "text/plain": [
       "<BarContainer object of 12 artists>"
      ]
     },
     "execution_count": 15,
     "metadata": {},
     "output_type": "execute_result"
    },
    {
     "data": {
      "image/png": "[encoded data removed]",
      "text/plain": [
       "<Figure size 432x288 with 1 Axes>"
      ]
     },
     "metadata": {
      "needs_background": "light"
     },
     "output_type": "display_data"
    }
   ],
   "source": [
    "x,y=zip(*dic.items())\n",
    "plt.bar(x,y)"
   ]
  },
  {
   "cell_type": "markdown",
   "metadata": {},
   "source": [
    "### Palabras comunes"
   ]
  },
  {
   "cell_type": "code",
   "execution_count": 16,
   "metadata": {},
   "outputs": [
    {
     "data": {
      "text/plain": [
       "<AxesSubplot:>"
      ]
     },
     "execution_count": 16,
     "metadata": {},
     "output_type": "execute_result"
    },
    {
     "name": "stderr",
     "output_type": "stream",
     "text": [
      "c:\\Users\\juanp\\AppData\\Local\\Programs\\Python\\Python310\\lib\\site-packages\\IPython\\core\\events.py:89: UserWarning: Glyph 128138 (\\N{PILL}) missing from current font.\n",
      "  func(*args, **kwargs)\n",
      "c:\\Users\\juanp\\AppData\\Local\\Programs\\Python\\Python310\\lib\\site-packages\\IPython\\core\\pylabtools.py:151: UserWarning: Glyph 128138 (\\N{PILL}) missing from current font.\n",
      "  fig.canvas.print_figure(bytes_io, **kw)\n"
     ]
    },
    {
     "data": {
      "image/png": "[encoded data removed]",
      "text/plain": [
       "<Figure size 432x288 with 1 Axes>"
      ]
     },
     "metadata": {
      "needs_background": "light"
     },
     "output_type": "display_data"
    }
   ],
   "source": [
    "counter=Counter(corpus)\n",
    "most=counter.most_common()\n",
    "x=[]\n",
    "y=[]\n",
    "for word,count in most[:40]:\n",
    "    if (word not in stop) :\n",
    "        x.append(word)\n",
    "        y.append(count)\n",
    "\n",
    "sns.barplot(x=y,y=x)"
   ]
  },
  {
   "cell_type": "markdown",
   "metadata": {},
   "source": [
    "### Analisis ngramas"
   ]
  },
  {
   "cell_type": "markdown",
   "metadata": {},
   "source": [
    "#### Bigrama"
   ]
  },
  {
   "cell_type": "code",
   "execution_count": 17,
   "metadata": {},
   "outputs": [],
   "source": [
    "def get_top_tweet_bigrams(corpus, n=None):\n",
    "    vec = CountVectorizer(ngram_range=(2, 2)).fit(corpus)\n",
    "    bag_of_words = vec.transform(corpus)\n",
    "    sum_words = bag_of_words.sum(axis=0) \n",
    "    words_freq = [(word, sum_words[0, idx]) for word, idx in vec.vocabulary_.items()]\n",
    "    words_freq =sorted(words_freq, key = lambda x: x[1], reverse=True)\n",
    "    return words_freq[:n]"
   ]
  },
  {
   "cell_type": "code",
   "execution_count": 18,
   "metadata": {},
   "outputs": [
    {
     "data": {
      "text/plain": [
       "<AxesSubplot:>"
      ]
     },
     "execution_count": 18,
     "metadata": {},
     "output_type": "execute_result"
    },
    {
     "data": {
      "image/png": "[encoded data removed]",
      "text/plain": [
       "<Figure size 720x360 with 1 Axes>"
      ]
     },
     "metadata": {
      "needs_background": "light"
     },
     "output_type": "display_data"
    }
   ],
   "source": [
    "plt.figure(figsize=(10,5))\n",
    "top_tweet_bigrams=get_top_tweet_bigrams(tweets_df['text'])[:10]\n",
    "x,y=map(list,zip(*top_tweet_bigrams))\n",
    "sns.barplot(x=y,y=x)"
   ]
  },
  {
   "cell_type": "markdown",
   "metadata": {},
   "source": [
    "### Trigrama"
   ]
  },
  {
   "cell_type": "code",
   "execution_count": 19,
   "metadata": {},
   "outputs": [],
   "source": [
    "def get_top_tweet_trigrams(corpus, n=None):\n",
    "    vec = CountVectorizer(ngram_range=(3, 3)).fit(corpus)\n",
    "    bag_of_words = vec.transform(corpus)\n",
    "    sum_words = bag_of_words.sum(axis=0) \n",
    "    words_freq = [(word, sum_words[0, idx]) for word, idx in vec.vocabulary_.items()]\n",
    "    words_freq =sorted(words_freq, key = lambda x: x[1], reverse=True)\n",
    "    return words_freq[:n]"
   ]
  },
  {
   "cell_type": "code",
   "execution_count": 20,
   "metadata": {},
   "outputs": [
    {
     "data": {
      "text/plain": [
       "<AxesSubplot:>"
      ]
     },
     "execution_count": 20,
     "metadata": {},
     "output_type": "execute_result"
    },
    {
     "data": {
      "image/png": "[encoded data removed]",
      "text/plain": [
       "<Figure size 720x360 with 1 Axes>"
      ]
     },
     "metadata": {
      "needs_background": "light"
     },
     "output_type": "display_data"
    }
   ],
   "source": [
    "plt.figure(figsize=(10,5))\n",
    "top_tweet_trigrams=get_top_tweet_trigrams(tweets_df['text'])[:10]\n",
    "x,y=map(list,zip(*top_tweet_trigrams))\n",
    "sns.barplot(x=y,y=x)"
   ]
  },
  {
   "cell_type": "markdown",
   "metadata": {},
   "source": [
    "# Limpieza de los datos"
   ]
  },
  {
   "cell_type": "markdown",
   "metadata": {},
   "source": [
    "### Quitar URLs"
   ]
  },
  {
   "cell_type": "code",
   "execution_count": 21,
   "metadata": {},
   "outputs": [],
   "source": [
    "def remove_URL(text):\n",
    "  url = re.compile(r'https?://\\S+|www\\.\\S+')\n",
    "  return url.sub(r'', text)"
   ]
  },
  {
   "cell_type": "code",
   "execution_count": 22,
   "metadata": {},
   "outputs": [],
   "source": [
    "tweets_df['text'] = tweets_df['text'].apply(lambda x : remove_URL(x))"
   ]
  },
  {
   "cell_type": "markdown",
   "metadata": {},
   "source": [
    "### Quitar tags HTML"
   ]
  },
  {
   "cell_type": "code",
   "execution_count": 23,
   "metadata": {},
   "outputs": [],
   "source": [
    "def remove_HTML(text):\n",
    "  html = re.compile(r'<.*?>')\n",
    "  return html.sub(r'', text)"
   ]
  },
  {
   "cell_type": "code",
   "execution_count": 24,
   "metadata": {},
   "outputs": [],
   "source": [
    "tweets_df['text'] = tweets_df['text'].apply(lambda x : remove_HTML(x))"
   ]
  },
  {
   "cell_type": "markdown",
   "metadata": {},
   "source": [
    "### Quitar emojis"
   ]
  },
  {
   "cell_type": "code",
   "execution_count": 25,
   "metadata": {},
   "outputs": [],
   "source": [
    "def remove_emoji(text):\n",
    "    emoji_pattern = re.compile(\"[\"\n",
    "                           u\"\\U0001F600-\\U0001F64F\"  # emoticons\n",
    "                           u\"\\U0001F300-\\U0001F5FF\"  # symbols & pictographs\n",
    "                           u\"\\U0001F680-\\U0001F6FF\"  # transport & map symbols\n",
    "                           u\"\\U0001F1E0-\\U0001F1FF\"  # flags (iOS)\n",
    "                           u\"\\U00002702-\\U000027B0\"\n",
    "                           u\"\\U000024C2-\\U0001F251\"\n",
    "                           \"]+\", flags=re.UNICODE)\n",
    "    return emoji_pattern.sub(r'', text)"
   ]
  },
  {
   "cell_type": "code",
   "execution_count": 26,
   "metadata": {},
   "outputs": [],
   "source": [
    "tweets_df['text'] = tweets_df['text'].apply(lambda x : remove_emoji(x))"
   ]
  },
  {
   "cell_type": "markdown",
   "metadata": {},
   "source": [
    "### Quitar puntuacion"
   ]
  },
  {
   "cell_type": "code",
   "execution_count": 27,
   "metadata": {},
   "outputs": [],
   "source": [
    "def remove_point(text):\n",
    "  table = str.maketrans('', '', string.punctuation)\n",
    "  return text.translate(table)"
   ]
  },
  {
   "cell_type": "code",
   "execution_count": 47,
   "metadata": {},
   "outputs": [],
   "source": [
    "tweets_df['text'] = tweets_df['text'].apply(lambda x : remove_point(x))"
   ]
  },
  {
   "cell_type": "markdown",
   "metadata": {},
   "source": [
    "## Quitar duplicados "
   ]
  },
  {
   "cell_type": "code",
   "execution_count": 78,
   "metadata": {},
   "outputs": [
    {
     "name": "stdout",
     "output_type": "stream",
     "text": [
      "len 1 427\n",
      "len 2 427\n"
     ]
    }
   ],
   "source": [
    "print('len 1', len(tweets_df))\n",
    "tweets_df.drop_duplicates(subset=['text', 'user_name'], inplace=True)\n",
    "print('len 2', len(tweets_df))"
   ]
  },
  {
   "cell_type": "markdown",
   "metadata": {},
   "source": [
    "# Analisis post limpieza"
   ]
  },
  {
   "cell_type": "markdown",
   "metadata": {},
   "source": [
    "### Caracteres"
   ]
  },
  {
   "cell_type": "code",
   "execution_count": 49,
   "metadata": {},
   "outputs": [
    {
     "data": {
      "image/png": "[encoded data removed]",
      "text/plain": [
       "<Figure size 432x288 with 1 Axes>"
      ]
     },
     "metadata": {
      "needs_background": "light"
     },
     "output_type": "display_data"
    }
   ],
   "source": [
    "tweet_length = tweets_df['text'].str.len()\n",
    "plt.hist(tweet_length)\n",
    "plt.title('Cantidad de caracteres del tweet')\n",
    "plt.show()"
   ]
  },
  {
   "cell_type": "markdown",
   "metadata": {},
   "source": [
    "### Palabras"
   ]
  },
  {
   "cell_type": "code",
   "execution_count": 50,
   "metadata": {},
   "outputs": [
    {
     "data": {
      "image/png": "[encoded data removed]",
      "text/plain": [
       "<Figure size 432x288 with 1 Axes>"
      ]
     },
     "metadata": {
      "needs_background": "light"
     },
     "output_type": "display_data"
    }
   ],
   "source": [
    "tweet_length = tweets_df['text'].str.split().map(lambda x: len(x))\n",
    "plt.hist(tweet_length)\n",
    "plt.title('Cantidad de palabras del tweet')\n",
    "plt.show()"
   ]
  },
  {
   "cell_type": "markdown",
   "metadata": {},
   "source": [
    "### Promedio longitud"
   ]
  },
  {
   "cell_type": "code",
   "execution_count": 51,
   "metadata": {},
   "outputs": [
    {
     "name": "stderr",
     "output_type": "stream",
     "text": [
      "c:\\Users\\juanp\\AppData\\Local\\Programs\\Python\\Python310\\lib\\site-packages\\seaborn\\distributions.py:2619: FutureWarning: `distplot` is a deprecated function and will be removed in a future version. Please adapt your code to use either `displot` (a figure-level function with similar flexibility) or `histplot` (an axes-level function for histograms).\n",
      "  warnings.warn(msg, FutureWarning)\n"
     ]
    },
    {
     "data": {
      "text/plain": [
       "<AxesSubplot:xlabel='text', ylabel='Density'>"
      ]
     },
     "execution_count": 51,
     "metadata": {},
     "output_type": "execute_result"
    },
    {
     "data": {
      "image/png": "[encoded data removed]",
      "text/plain": [
       "<Figure size 432x288 with 1 Axes>"
      ]
     },
     "metadata": {
      "needs_background": "light"
     },
     "output_type": "display_data"
    }
   ],
   "source": [
    "word=tweets_df['text'].str.split().apply(lambda x : [len(i) for i in x])\n",
    "sns.distplot(word.map(lambda x: np.mean(x)))"
   ]
  },
  {
   "cell_type": "markdown",
   "metadata": {},
   "source": [
    "### Palabras comunes"
   ]
  },
  {
   "cell_type": "code",
   "execution_count": 52,
   "metadata": {},
   "outputs": [
    {
     "data": {
      "text/plain": [
       "<AxesSubplot:>"
      ]
     },
     "execution_count": 52,
     "metadata": {},
     "output_type": "execute_result"
    },
    {
     "name": "stderr",
     "output_type": "stream",
     "text": [
      "c:\\Users\\juanp\\AppData\\Local\\Programs\\Python\\Python310\\lib\\site-packages\\IPython\\core\\events.py:89: UserWarning: Glyph 128138 (\\N{PILL}) missing from current font.\n",
      "  func(*args, **kwargs)\n",
      "c:\\Users\\juanp\\AppData\\Local\\Programs\\Python\\Python310\\lib\\site-packages\\IPython\\core\\pylabtools.py:151: UserWarning: Glyph 128138 (\\N{PILL}) missing from current font.\n",
      "  fig.canvas.print_figure(bytes_io, **kw)\n"
     ]
    },
    {
     "data": {
      "image/png": "[encoded data removed]",
      "text/plain": [
       "<Figure size 432x288 with 1 Axes>"
      ]
     },
     "metadata": {
      "needs_background": "light"
     },
     "output_type": "display_data"
    }
   ],
   "source": [
    "counter=Counter(corpus)\n",
    "most=counter.most_common()\n",
    "x=[]\n",
    "y=[]\n",
    "for word,count in most[:40]:\n",
    "    if (word not in stop) :\n",
    "        x.append(word)\n",
    "        y.append(count)\n",
    "\n",
    "sns.barplot(x=y,y=x)"
   ]
  },
  {
   "cell_type": "markdown",
   "metadata": {},
   "source": [
    "### Analisis ngramas"
   ]
  },
  {
   "cell_type": "markdown",
   "metadata": {},
   "source": [
    "#### Bigrama"
   ]
  },
  {
   "cell_type": "code",
   "execution_count": 53,
   "metadata": {},
   "outputs": [],
   "source": [
    "def get_top_tweet_bigrams(corpus, n=None):\n",
    "    vec = CountVectorizer(ngram_range=(2, 2)).fit(corpus)\n",
    "    bag_of_words = vec.transform(corpus)\n",
    "    sum_words = bag_of_words.sum(axis=0) \n",
    "    words_freq = [(word, sum_words[0, idx]) for word, idx in vec.vocabulary_.items()]\n",
    "    words_freq =sorted(words_freq, key = lambda x: x[1], reverse=True)\n",
    "    return words_freq[:n]"
   ]
  },
  {
   "cell_type": "code",
   "execution_count": 54,
   "metadata": {},
   "outputs": [
    {
     "data": {
      "text/plain": [
       "<AxesSubplot:>"
      ]
     },
     "execution_count": 54,
     "metadata": {},
     "output_type": "execute_result"
    },
    {
     "data": {
      "image/png": "[encoded data removed]",
      "text/plain": [
       "<Figure size 720x360 with 1 Axes>"
      ]
     },
     "metadata": {
      "needs_background": "light"
     },
     "output_type": "display_data"
    }
   ],
   "source": [
    "plt.figure(figsize=(10,5))\n",
    "top_tweet_bigrams=get_top_tweet_bigrams(tweets_df['text'])[:10]\n",
    "x,y=map(list,zip(*top_tweet_bigrams))\n",
    "sns.barplot(x=y,y=x)"
   ]
  },
  {
   "cell_type": "markdown",
   "metadata": {},
   "source": [
    "#### Trigrama"
   ]
  },
  {
   "cell_type": "code",
   "execution_count": 55,
   "metadata": {},
   "outputs": [],
   "source": [
    "def get_top_tweet_trigrams(corpus, n=None):\n",
    "    vec = CountVectorizer(ngram_range=(3, 3)).fit(corpus)\n",
    "    bag_of_words = vec.transform(corpus)\n",
    "    sum_words = bag_of_words.sum(axis=0) \n",
    "    words_freq = [(word, sum_words[0, idx]) for word, idx in vec.vocabulary_.items()]\n",
    "    words_freq =sorted(words_freq, key = lambda x: x[1], reverse=True)\n",
    "    return words_freq[:n]"
   ]
  },
  {
   "cell_type": "code",
   "execution_count": 56,
   "metadata": {},
   "outputs": [
    {
     "data": {
      "text/plain": [
       "<AxesSubplot:>"
      ]
     },
     "execution_count": 56,
     "metadata": {},
     "output_type": "execute_result"
    },
    {
     "data": {
      "image/png": "[encoded data removed]",
      "text/plain": [
       "<Figure size 720x360 with 1 Axes>"
      ]
     },
     "metadata": {
      "needs_background": "light"
     },
     "output_type": "display_data"
    }
   ],
   "source": [
    "plt.figure(figsize=(10,5))\n",
    "top_tweet_trigrams=get_top_tweet_trigrams(tweets_df['text'])[:10]\n",
    "x,y=map(list,zip(*top_tweet_trigrams))\n",
    "sns.barplot(x=y,y=x)"
   ]
  },
  {
   "cell_type": "markdown",
   "metadata": {},
   "source": [
    "## Analisis sentimientos"
   ]
  },
  {
   "cell_type": "code",
   "execution_count": 57,
   "metadata": {},
   "outputs": [],
   "source": [
    "sia = SentimentIntensityAnalyzer()"
   ]
  },
  {
   "cell_type": "markdown",
   "metadata": {},
   "source": [
    "### Determinacion de valores de positividad, neutralidad, y negatividad"
   ]
  },
  {
   "cell_type": "code",
   "execution_count": 58,
   "metadata": {},
   "outputs": [],
   "source": [
    "def getScoreText(text):\n",
    "    scoreObject = sia.polarity_scores(text)\n",
    "    score = scoreObject['compound']\n",
    "    return score"
   ]
  },
  {
   "cell_type": "code",
   "execution_count": 59,
   "metadata": {},
   "outputs": [],
   "source": [
    "tweets_df['score'] = tweets_df['text'].apply(lambda x : getScoreText(x))"
   ]
  },
  {
   "cell_type": "markdown",
   "metadata": {},
   "source": [
    "### Determinacion de polaridad de acuerdo a los valores"
   ]
  },
  {
   "cell_type": "code",
   "execution_count": 60,
   "metadata": {},
   "outputs": [],
   "source": [
    "#rangos de score\n",
    "def setPolarity(score):\n",
    "    if score < -0.33:\n",
    "        return 'negative'\n",
    "    elif score > 0.33:\n",
    "        return 'positive'\n",
    "    else:\n",
    "        return 'neutral'"
   ]
  },
  {
   "cell_type": "code",
   "execution_count": 61,
   "metadata": {},
   "outputs": [],
   "source": [
    "tweets_df['polarity'] = tweets_df['score'].apply(lambda x : setPolarity(x))"
   ]
  },
  {
   "cell_type": "markdown",
   "metadata": {},
   "source": [
    "### Tweets mas positivos y negativos"
   ]
  },
  {
   "cell_type": "markdown",
   "metadata": {},
   "source": [
    "#### 10 mas negativos"
   ]
  },
  {
   "cell_type": "code",
   "execution_count": 62,
   "metadata": {},
   "outputs": [
    {
     "data": {
      "text/html": [
       "<div>\n",
       "<style scoped>\n",
       "    .dataframe tbody tr th:only-of-type {\n",
       "        vertical-align: middle;\n",
       "    }\n",
       "\n",
       "    .dataframe tbody tr th {\n",
       "        vertical-align: top;\n",
       "    }\n",
       "\n",
       "    .dataframe thead th {\n",
       "        text-align: right;\n",
       "    }\n",
       "</style>\n",
       "<table border=\"1\" class=\"dataframe\">\n",
       "  <thead>\n",
       "    <tr style=\"text-align: right;\">\n",
       "      <th></th>\n",
       "      <th>user_name</th>\n",
       "      <th>user_location</th>\n",
       "      <th>user_description</th>\n",
       "      <th>user_verified</th>\n",
       "      <th>date</th>\n",
       "      <th>text</th>\n",
       "      <th>hashtags</th>\n",
       "      <th>source</th>\n",
       "      <th>score</th>\n",
       "      <th>polarity</th>\n",
       "    </tr>\n",
       "  </thead>\n",
       "  <tbody>\n",
       "    <tr>\n",
       "      <th>112</th>\n",
       "      <td>Gagarin News</td>\n",
       "      <td></td>\n",
       "      <td>A news platform that aims to popularize the ne...</td>\n",
       "      <td>False</td>\n",
       "      <td>2022-09-14 15:01:00+00:00</td>\n",
       "      <td>Apple’s longawaited presentation took place on...</td>\n",
       "      <td>None</td>\n",
       "      <td>Twitter Web App</td>\n",
       "      <td>-0.7992</td>\n",
       "      <td>negative</td>\n",
       "    </tr>\n",
       "    <tr>\n",
       "      <th>307</th>\n",
       "      <td>Victr</td>\n",
       "      <td>Enugu-Umunze, Nigeria</td>\n",
       "      <td></td>\n",
       "      <td>False</td>\n",
       "      <td>2022-09-13 23:43:45+00:00</td>\n",
       "      <td>Despite the Bugs and Lag complaints Im still g...</td>\n",
       "      <td>None</td>\n",
       "      <td>Twitter for iPhone</td>\n",
       "      <td>-0.7351</td>\n",
       "      <td>negative</td>\n",
       "    </tr>\n",
       "    <tr>\n",
       "      <th>442</th>\n",
       "      <td>BekaDu</td>\n",
       "      <td></td>\n",
       "      <td>мысли вслух</td>\n",
       "      <td>False</td>\n",
       "      <td>2022-09-13 13:26:37+00:00</td>\n",
       "      <td>the icon that pissed me off\\niPhone 13pro ios ...</td>\n",
       "      <td>[apple, AppleEvent, iOS16, 13pro]</td>\n",
       "      <td>Twitter for iPhone</td>\n",
       "      <td>-0.6369</td>\n",
       "      <td>negative</td>\n",
       "    </tr>\n",
       "    <tr>\n",
       "      <th>105</th>\n",
       "      <td>Skyline</td>\n",
       "      <td></td>\n",
       "      <td>Fashion is ❤️</td>\n",
       "      <td>False</td>\n",
       "      <td>2022-09-14 15:16:37+00:00</td>\n",
       "      <td>iPhone 13 Series Aesthetic Bitch Mode ON Case ...</td>\n",
       "      <td>[AppleEvent, iPhone14]</td>\n",
       "      <td>Twitter Web App</td>\n",
       "      <td>-0.5859</td>\n",
       "      <td>negative</td>\n",
       "    </tr>\n",
       "    <tr>\n",
       "      <th>192</th>\n",
       "      <td>Apple Lobby</td>\n",
       "      <td>Italia</td>\n",
       "      <td>Apple news and rumors. Not affiliated with App...</td>\n",
       "      <td>False</td>\n",
       "      <td>2022-09-14 09:13:22+00:00</td>\n",
       "      <td>Apple has unveiled the new Apple Watch Series ...</td>\n",
       "      <td>None</td>\n",
       "      <td>Twitter for iPhone</td>\n",
       "      <td>-0.5859</td>\n",
       "      <td>negative</td>\n",
       "    </tr>\n",
       "    <tr>\n",
       "      <th>160</th>\n",
       "      <td>Digvijay Jawalkar</td>\n",
       "      <td>World is not enough</td>\n",
       "      <td></td>\n",
       "      <td>False</td>\n",
       "      <td>2022-09-14 12:19:07+00:00</td>\n",
       "      <td>Apple’s iOS 16 feature of undo send iMessage i...</td>\n",
       "      <td>None</td>\n",
       "      <td>Twitter for iPhone</td>\n",
       "      <td>-0.5423</td>\n",
       "      <td>negative</td>\n",
       "    </tr>\n",
       "    <tr>\n",
       "      <th>468</th>\n",
       "      <td>taryn antoine</td>\n",
       "      <td>Lafayette, LA</td>\n",
       "      <td>✞ ♡ | 22 | 1 Peter 5:7 | BLM | LSU alum (@lsus...</td>\n",
       "      <td>False</td>\n",
       "      <td>2022-09-13 12:04:00+00:00</td>\n",
       "      <td>i can edit AND unsend messages now… WE ARE ALL...</td>\n",
       "      <td>[AppleEvent]</td>\n",
       "      <td>Twitter for iPhone</td>\n",
       "      <td>-0.5319</td>\n",
       "      <td>negative</td>\n",
       "    </tr>\n",
       "    <tr>\n",
       "      <th>482</th>\n",
       "      <td>Anir Chakraborty</td>\n",
       "      <td>Earth</td>\n",
       "      <td>Leaks cannot Hide from me🔥I go to future and b...</td>\n",
       "      <td>False</td>\n",
       "      <td>2022-09-13 10:58:15+00:00</td>\n",
       "      <td>Samsung is trolling Apple🤔\\nYet they are suppl...</td>\n",
       "      <td>None</td>\n",
       "      <td>Twitter for Android</td>\n",
       "      <td>-0.5267</td>\n",
       "      <td>negative</td>\n",
       "    </tr>\n",
       "    <tr>\n",
       "      <th>90</th>\n",
       "      <td>Tirtharanjan</td>\n",
       "      <td></td>\n",
       "      <td></td>\n",
       "      <td>False</td>\n",
       "      <td>2022-09-14 15:46:57+00:00</td>\n",
       "      <td>Android have punch hole or pile shaped cut off...</td>\n",
       "      <td>None</td>\n",
       "      <td>Twitter for Android</td>\n",
       "      <td>-0.5187</td>\n",
       "      <td>negative</td>\n",
       "    </tr>\n",
       "    <tr>\n",
       "      <th>126</th>\n",
       "      <td>Seth Berner</td>\n",
       "      <td></td>\n",
       "      <td></td>\n",
       "      <td>False</td>\n",
       "      <td>2022-09-14 14:26:00+00:00</td>\n",
       "      <td>If battery life on the iPhone 14 Pro and Pro M...</td>\n",
       "      <td>None</td>\n",
       "      <td>Twitter for iPhone</td>\n",
       "      <td>-0.4767</td>\n",
       "      <td>negative</td>\n",
       "    </tr>\n",
       "  </tbody>\n",
       "</table>\n",
       "</div>"
      ],
      "text/plain": [
       "             user_name          user_location  \\\n",
       "112       Gagarin News                          \n",
       "307              Victr  Enugu-Umunze, Nigeria   \n",
       "442             BekaDu                          \n",
       "105            Skyline                          \n",
       "192        Apple Lobby                 Italia   \n",
       "160  Digvijay Jawalkar    World is not enough   \n",
       "468      taryn antoine          Lafayette, LA   \n",
       "482   Anir Chakraborty                  Earth   \n",
       "90        Tirtharanjan                          \n",
       "126        Seth Berner                          \n",
       "\n",
       "                                      user_description  user_verified  \\\n",
       "112  A news platform that aims to popularize the ne...          False   \n",
       "307                                                             False   \n",
       "442                                        мысли вслух          False   \n",
       "105                                      Fashion is ❤️          False   \n",
       "192  Apple news and rumors. Not affiliated with App...          False   \n",
       "160                                                             False   \n",
       "468  ✞ ♡ | 22 | 1 Peter 5:7 | BLM | LSU alum (@lsus...          False   \n",
       "482  Leaks cannot Hide from me🔥I go to future and b...          False   \n",
       "90                                                              False   \n",
       "126                                                             False   \n",
       "\n",
       "                         date  \\\n",
       "112 2022-09-14 15:01:00+00:00   \n",
       "307 2022-09-13 23:43:45+00:00   \n",
       "442 2022-09-13 13:26:37+00:00   \n",
       "105 2022-09-14 15:16:37+00:00   \n",
       "192 2022-09-14 09:13:22+00:00   \n",
       "160 2022-09-14 12:19:07+00:00   \n",
       "468 2022-09-13 12:04:00+00:00   \n",
       "482 2022-09-13 10:58:15+00:00   \n",
       "90  2022-09-14 15:46:57+00:00   \n",
       "126 2022-09-14 14:26:00+00:00   \n",
       "\n",
       "                                                  text  \\\n",
       "112  Apple’s longawaited presentation took place on...   \n",
       "307  Despite the Bugs and Lag complaints Im still g...   \n",
       "442  the icon that pissed me off\\niPhone 13pro ios ...   \n",
       "105  iPhone 13 Series Aesthetic Bitch Mode ON Case ...   \n",
       "192  Apple has unveiled the new Apple Watch Series ...   \n",
       "160  Apple’s iOS 16 feature of undo send iMessage i...   \n",
       "468  i can edit AND unsend messages now… WE ARE ALL...   \n",
       "482  Samsung is trolling Apple🤔\\nYet they are suppl...   \n",
       "90   Android have punch hole or pile shaped cut off...   \n",
       "126  If battery life on the iPhone 14 Pro and Pro M...   \n",
       "\n",
       "                              hashtags               source   score  polarity  \n",
       "112                               None      Twitter Web App -0.7992  negative  \n",
       "307                               None   Twitter for iPhone -0.7351  negative  \n",
       "442  [apple, AppleEvent, iOS16, 13pro]   Twitter for iPhone -0.6369  negative  \n",
       "105             [AppleEvent, iPhone14]      Twitter Web App -0.5859  negative  \n",
       "192                               None   Twitter for iPhone -0.5859  negative  \n",
       "160                               None   Twitter for iPhone -0.5423  negative  \n",
       "468                       [AppleEvent]   Twitter for iPhone -0.5319  negative  \n",
       "482                               None  Twitter for Android -0.5267  negative  \n",
       "90                                None  Twitter for Android -0.5187  negative  \n",
       "126                               None   Twitter for iPhone -0.4767  negative  "
      ]
     },
     "execution_count": 62,
     "metadata": {},
     "output_type": "execute_result"
    }
   ],
   "source": [
    "tweets_df.sort_values(by=['score']).head(10)"
   ]
  },
  {
   "cell_type": "markdown",
   "metadata": {},
   "source": [
    "#### 10 mas positivos"
   ]
  },
  {
   "cell_type": "code",
   "execution_count": 72,
   "metadata": {},
   "outputs": [
    {
     "data": {
      "text/html": [
       "<div>\n",
       "<style scoped>\n",
       "    .dataframe tbody tr th:only-of-type {\n",
       "        vertical-align: middle;\n",
       "    }\n",
       "\n",
       "    .dataframe tbody tr th {\n",
       "        vertical-align: top;\n",
       "    }\n",
       "\n",
       "    .dataframe thead th {\n",
       "        text-align: right;\n",
       "    }\n",
       "</style>\n",
       "<table border=\"1\" class=\"dataframe\">\n",
       "  <thead>\n",
       "    <tr style=\"text-align: right;\">\n",
       "      <th></th>\n",
       "      <th>user_name</th>\n",
       "      <th>user_location</th>\n",
       "      <th>user_description</th>\n",
       "      <th>user_verified</th>\n",
       "      <th>date</th>\n",
       "      <th>text</th>\n",
       "      <th>hashtags</th>\n",
       "      <th>source</th>\n",
       "      <th>score</th>\n",
       "      <th>polarity</th>\n",
       "    </tr>\n",
       "  </thead>\n",
       "  <tbody>\n",
       "    <tr>\n",
       "      <th>441</th>\n",
       "      <td>Ceddy mane</td>\n",
       "      <td>Grove City, OH</td>\n",
       "      <td>👾TWITCH STREAMER👾📱Owner of Celladel LLC📱🚛Drive...</td>\n",
       "      <td>False</td>\n",
       "      <td>2022-09-13 13:37:14+00:00</td>\n",
       "      <td>Signup for Webull and get 2 free stocks Make A...</td>\n",
       "      <td>[Signup, Webull, stocks, deposit, stock, Refer]</td>\n",
       "      <td>Twitter for iPhone</td>\n",
       "      <td>0.9670</td>\n",
       "      <td>positive</td>\n",
       "    </tr>\n",
       "    <tr>\n",
       "      <th>203</th>\n",
       "      <td>Mohit Kalra</td>\n",
       "      <td>Adelaide, Australia</td>\n",
       "      <td>Certified Wireless Network #Trainer | #CWNA |#...</td>\n",
       "      <td>False</td>\n",
       "      <td>2022-09-14 08:07:04+00:00</td>\n",
       "      <td>I’m excited and so grateful for what’s coming ...</td>\n",
       "      <td>[AppleEvent]</td>\n",
       "      <td>Twitter for iPhone</td>\n",
       "      <td>0.9636</td>\n",
       "      <td>positive</td>\n",
       "    </tr>\n",
       "    <tr>\n",
       "      <th>97</th>\n",
       "      <td>𝙒𝙃𝙄𝙏𝙀𝙎𝙏𝙊𝙉𝙀𝘿𝙊𝙈𝙀_𝙐𝙆</td>\n",
       "      <td></td>\n",
       "      <td>Best Device Protectors\\nDome Glass/EZ Glass/Fi...</td>\n",
       "      <td>False</td>\n",
       "      <td>2022-09-14 15:30:01+00:00</td>\n",
       "      <td>The best Apple iPhone 14 screen protectors  di...</td>\n",
       "      <td>None</td>\n",
       "      <td>Buffer</td>\n",
       "      <td>0.9317</td>\n",
       "      <td>positive</td>\n",
       "    </tr>\n",
       "    <tr>\n",
       "      <th>131</th>\n",
       "      <td>𝙒𝙃𝙄𝙏𝙀𝙎𝙏𝙊𝙉𝙀𝘿𝙊𝙈𝙀_𝙐𝙆</td>\n",
       "      <td></td>\n",
       "      <td>Best Device Protectors\\nDome Glass/EZ Glass/Fi...</td>\n",
       "      <td>False</td>\n",
       "      <td>2022-09-14 14:11:00+00:00</td>\n",
       "      <td>The best Apple iPhone 14 screen protectors  di...</td>\n",
       "      <td>None</td>\n",
       "      <td>Buffer</td>\n",
       "      <td>0.9317</td>\n",
       "      <td>positive</td>\n",
       "    </tr>\n",
       "    <tr>\n",
       "      <th>111</th>\n",
       "      <td>𝙒𝙃𝙄𝙏𝙀𝙎𝙏𝙊𝙉𝙀𝘿𝙊𝙈𝙀_𝙐𝙆</td>\n",
       "      <td></td>\n",
       "      <td>Best Device Protectors\\nDome Glass/EZ Glass/Fi...</td>\n",
       "      <td>False</td>\n",
       "      <td>2022-09-14 15:04:00+00:00</td>\n",
       "      <td>The best Apple iPhone 14 screen protectors  di...</td>\n",
       "      <td>None</td>\n",
       "      <td>Buffer</td>\n",
       "      <td>0.9317</td>\n",
       "      <td>positive</td>\n",
       "    </tr>\n",
       "    <tr>\n",
       "      <th>125</th>\n",
       "      <td>𝙒𝙃𝙄𝙏𝙀𝙎𝙏𝙊𝙉𝙀𝘿𝙊𝙈𝙀_𝙐𝙆</td>\n",
       "      <td></td>\n",
       "      <td>Best Device Protectors\\nDome Glass/EZ Glass/Fi...</td>\n",
       "      <td>False</td>\n",
       "      <td>2022-09-14 14:30:26+00:00</td>\n",
       "      <td>The best Apple iPhone 14 screen protectors  di...</td>\n",
       "      <td>None</td>\n",
       "      <td>Buffer</td>\n",
       "      <td>0.9317</td>\n",
       "      <td>positive</td>\n",
       "    </tr>\n",
       "    <tr>\n",
       "      <th>29</th>\n",
       "      <td>Hermes Penelope</td>\n",
       "      <td>Los Angeles, CA</td>\n",
       "      <td>Follow my instagram @hermespenelope 🧡 3 Year O...</td>\n",
       "      <td>False</td>\n",
       "      <td>2022-09-14 20:22:57+00:00</td>\n",
       "      <td>Her favorite song  She love singing  hermespen...</td>\n",
       "      <td>[hermespenelope, baby, Babies, babiesoftwitter...</td>\n",
       "      <td>Twitter for iPhone</td>\n",
       "      <td>0.9313</td>\n",
       "      <td>positive</td>\n",
       "    </tr>\n",
       "    <tr>\n",
       "      <th>450</th>\n",
       "      <td>Dabithiah_Wealth</td>\n",
       "      <td>Ilorin, Nigeria</td>\n",
       "      <td>Optimistic</td>\n",
       "      <td>False</td>\n",
       "      <td>2022-09-13 13:07:59+00:00</td>\n",
       "      <td>Best buy from Sphynx \\n\\nCos SphynxLabs commun...</td>\n",
       "      <td>[Sphynx]</td>\n",
       "      <td>Twitter Web App</td>\n",
       "      <td>0.9201</td>\n",
       "      <td>positive</td>\n",
       "    </tr>\n",
       "    <tr>\n",
       "      <th>266</th>\n",
       "      <td>Sajib Rayhan2002</td>\n",
       "      <td>Dhaka Bangladesh</td>\n",
       "      <td>I am a professional #GraphicsDesigner. I love ...</td>\n",
       "      <td>False</td>\n",
       "      <td>2022-09-14 03:33:04+00:00</td>\n",
       "      <td>How To Make A Dynamic Invoice In Excel  Creati...</td>\n",
       "      <td>None</td>\n",
       "      <td>Twitter Web App</td>\n",
       "      <td>0.9201</td>\n",
       "      <td>positive</td>\n",
       "    </tr>\n",
       "    <tr>\n",
       "      <th>172</th>\n",
       "      <td>USA ALL GIFT CARD OFFERS IN ONE</td>\n",
       "      <td>Virginia, USA</td>\n",
       "      <td>Hi, welcome to our profile! Are you looking fo...</td>\n",
       "      <td>False</td>\n",
       "      <td>2022-09-14 10:44:34+00:00</td>\n",
       "      <td>Scratch Magic Apps Install Emergency And win S...</td>\n",
       "      <td>None</td>\n",
       "      <td>Twitter for Android</td>\n",
       "      <td>0.9186</td>\n",
       "      <td>positive</td>\n",
       "    </tr>\n",
       "  </tbody>\n",
       "</table>\n",
       "</div>"
      ],
      "text/plain": [
       "                           user_name        user_location  \\\n",
       "441                       Ceddy mane       Grove City, OH   \n",
       "203                      Mohit Kalra  Adelaide, Australia   \n",
       "97                 𝙒𝙃𝙄𝙏𝙀𝙎𝙏𝙊𝙉𝙀𝘿𝙊𝙈𝙀_𝙐𝙆                        \n",
       "131                𝙒𝙃𝙄𝙏𝙀𝙎𝙏𝙊𝙉𝙀𝘿𝙊𝙈𝙀_𝙐𝙆                        \n",
       "111                𝙒𝙃𝙄𝙏𝙀𝙎𝙏𝙊𝙉𝙀𝘿𝙊𝙈𝙀_𝙐𝙆                        \n",
       "125                𝙒𝙃𝙄𝙏𝙀𝙎𝙏𝙊𝙉𝙀𝘿𝙊𝙈𝙀_𝙐𝙆                        \n",
       "29                   Hermes Penelope      Los Angeles, CA   \n",
       "450                 Dabithiah_Wealth      Ilorin, Nigeria   \n",
       "266                 Sajib Rayhan2002     Dhaka Bangladesh   \n",
       "172  USA ALL GIFT CARD OFFERS IN ONE        Virginia, USA   \n",
       "\n",
       "                                      user_description  user_verified  \\\n",
       "441  👾TWITCH STREAMER👾📱Owner of Celladel LLC📱🚛Drive...          False   \n",
       "203  Certified Wireless Network #Trainer | #CWNA |#...          False   \n",
       "97   Best Device Protectors\\nDome Glass/EZ Glass/Fi...          False   \n",
       "131  Best Device Protectors\\nDome Glass/EZ Glass/Fi...          False   \n",
       "111  Best Device Protectors\\nDome Glass/EZ Glass/Fi...          False   \n",
       "125  Best Device Protectors\\nDome Glass/EZ Glass/Fi...          False   \n",
       "29   Follow my instagram @hermespenelope 🧡 3 Year O...          False   \n",
       "450                                         Optimistic          False   \n",
       "266  I am a professional #GraphicsDesigner. I love ...          False   \n",
       "172  Hi, welcome to our profile! Are you looking fo...          False   \n",
       "\n",
       "                         date  \\\n",
       "441 2022-09-13 13:37:14+00:00   \n",
       "203 2022-09-14 08:07:04+00:00   \n",
       "97  2022-09-14 15:30:01+00:00   \n",
       "131 2022-09-14 14:11:00+00:00   \n",
       "111 2022-09-14 15:04:00+00:00   \n",
       "125 2022-09-14 14:30:26+00:00   \n",
       "29  2022-09-14 20:22:57+00:00   \n",
       "450 2022-09-13 13:07:59+00:00   \n",
       "266 2022-09-14 03:33:04+00:00   \n",
       "172 2022-09-14 10:44:34+00:00   \n",
       "\n",
       "                                                  text  \\\n",
       "441  Signup for Webull and get 2 free stocks Make A...   \n",
       "203  I’m excited and so grateful for what’s coming ...   \n",
       "97   The best Apple iPhone 14 screen protectors  di...   \n",
       "131  The best Apple iPhone 14 screen protectors  di...   \n",
       "111  The best Apple iPhone 14 screen protectors  di...   \n",
       "125  The best Apple iPhone 14 screen protectors  di...   \n",
       "29   Her favorite song  She love singing  hermespen...   \n",
       "450  Best buy from Sphynx \\n\\nCos SphynxLabs commun...   \n",
       "266  How To Make A Dynamic Invoice In Excel  Creati...   \n",
       "172  Scratch Magic Apps Install Emergency And win S...   \n",
       "\n",
       "                                              hashtags               source  \\\n",
       "441    [Signup, Webull, stocks, deposit, stock, Refer]   Twitter for iPhone   \n",
       "203                                       [AppleEvent]   Twitter for iPhone   \n",
       "97                                                None               Buffer   \n",
       "131                                               None               Buffer   \n",
       "111                                               None               Buffer   \n",
       "125                                               None               Buffer   \n",
       "29   [hermespenelope, baby, Babies, babiesoftwitter...   Twitter for iPhone   \n",
       "450                                           [Sphynx]      Twitter Web App   \n",
       "266                                               None      Twitter Web App   \n",
       "172                                               None  Twitter for Android   \n",
       "\n",
       "      score  polarity  \n",
       "441  0.9670  positive  \n",
       "203  0.9636  positive  \n",
       "97   0.9317  positive  \n",
       "131  0.9317  positive  \n",
       "111  0.9317  positive  \n",
       "125  0.9317  positive  \n",
       "29   0.9313  positive  \n",
       "450  0.9201  positive  \n",
       "266  0.9201  positive  \n",
       "172  0.9186  positive  "
      ]
     },
     "execution_count": 72,
     "metadata": {},
     "output_type": "execute_result"
    }
   ],
   "source": [
    "tweets_df.sort_values(by=['score'], ascending=False).head(10)"
   ]
  },
  {
   "cell_type": "markdown",
   "metadata": {},
   "source": [
    "#### Conteo de tweets en general"
   ]
  },
  {
   "cell_type": "code",
   "execution_count": 68,
   "metadata": {},
   "outputs": [
    {
     "data": {
      "text/plain": [
       "-0.7992    1\n",
       "-0.7351    1\n",
       "-0.6369    1\n",
       "-0.5859    2\n",
       "-0.5423    1\n",
       "          ..\n",
       " 0.9201    2\n",
       " 0.9313    1\n",
       " 0.9317    4\n",
       " 0.9636    1\n",
       " 0.9670    1\n",
       "Name: score, Length: 121, dtype: int64"
      ]
     },
     "execution_count": 68,
     "metadata": {},
     "output_type": "execute_result"
    }
   ],
   "source": [
    "tweets_df['score'].value_counts().sort_index()"
   ]
  },
  {
   "cell_type": "code",
   "execution_count": 69,
   "metadata": {},
   "outputs": [
    {
     "name": "stderr",
     "output_type": "stream",
     "text": [
      "c:\\Users\\juanp\\AppData\\Local\\Programs\\Python\\Python310\\lib\\site-packages\\seaborn\\distributions.py:2619: FutureWarning: `distplot` is a deprecated function and will be removed in a future version. Please adapt your code to use either `displot` (a figure-level function with similar flexibility) or `histplot` (an axes-level function for histograms).\n",
      "  warnings.warn(msg, FutureWarning)\n"
     ]
    },
    {
     "data": {
      "text/plain": [
       "<AxesSubplot:xlabel='score', ylabel='Density'>"
      ]
     },
     "execution_count": 69,
     "metadata": {},
     "output_type": "execute_result"
    },
    {
     "data": {
      "image/png": "[encoded data removed]",
      "text/plain": [
       "<Figure size 432x288 with 1 Axes>"
      ]
     },
     "metadata": {
      "needs_background": "light"
     },
     "output_type": "display_data"
    }
   ],
   "source": [
    "scores=tweets_df['score'].value_counts().sort_index()\n",
    "sns.distplot(scores)"
   ]
  },
  {
   "cell_type": "code",
   "execution_count": 70,
   "metadata": {},
   "outputs": [
    {
     "data": {
      "text/plain": [
       "neutral     229\n",
       "positive    179\n",
       "negative     19\n",
       "Name: polarity, dtype: int64"
      ]
     },
     "execution_count": 70,
     "metadata": {},
     "output_type": "execute_result"
    }
   ],
   "source": [
    "tweets_df['polarity'].value_counts()"
   ]
  },
  {
   "cell_type": "markdown",
   "metadata": {},
   "source": [
    "### Conclusiones"
   ]
  },
  {
   "cell_type": "markdown",
   "metadata": {},
   "source": [
    "El algoritmo toma como negativo el uso de palabras negativas sin tomar en cuenta el contexto. (e.g. ID 166 Tabla de Negativos)\n",
    "El algoritmo no reconoce el uso del sarcasmo en algunos de los tweets. (e.g. ID 405 Tabla de Negativos)\n",
    "Los comentarios positivos tienen un mejor resultado con el analisis de sentimientos.\n",
    "Los comentarios positivos tienen mayor volumen ya que existen bots que repiten el mismo tweet etiquetando a distintas personas en cada tweet."
   ]
  }
 ],
 "metadata": {
  "kernelspec": {
   "display_name": "Python 3.10.7 64-bit",
   "metadata": {
    "interpreter": {
     "hash": "6cb11118430048aaffde37140829a96b2f2778371a079ecf7cef1d9eee249f62"
    }
   },
   "name": "python3"
  },
  "language_info": {
   "codemirror_mode": {
    "name": "ipython",
    "version": 3
   },
   "file_extension": ".py",
   "mimetype": "text/x-python",
   "name": "python",
   "nbconvert_exporter": "python",
   "pygments_lexer": "ipython3",
   "version": "3.10.7"
  },
  "orig_nbformat": 2
 },
 "nbformat": 4,
 "nbformat_minor": 2
}
